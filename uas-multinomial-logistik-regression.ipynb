{
 "cells": [
  {
   "cell_type": "code",
   "execution_count": 1,
   "id": "f764f0b4",
   "metadata": {
    "_cell_guid": "b1076dfc-b9ad-4769-8c92-a6c4dae69d19",
    "_uuid": "8f2839f25d086af736a60e9eeb907d3b93b6e0e5",
    "execution": {
     "iopub.execute_input": "2022-07-08T14:54:01.033864Z",
     "iopub.status.busy": "2022-07-08T14:54:01.033463Z",
     "iopub.status.idle": "2022-07-08T14:54:01.064691Z",
     "shell.execute_reply": "2022-07-08T14:54:01.063381Z"
    },
    "papermill": {
     "duration": 0.045821,
     "end_time": "2022-07-08T14:54:01.067112",
     "exception": false,
     "start_time": "2022-07-08T14:54:01.021291",
     "status": "completed"
    },
    "tags": []
   },
   "outputs": [
    {
     "name": "stdout",
     "output_type": "stream",
     "text": [
      "/kaggle/input/data-category-bank/Data category bank .csv\n"
     ]
    }
   ],
   "source": [
    "# This Python 3 environment comes with many helpful analytics libraries installed\n",
    "# It is defined by the kaggle/python Docker image: https://github.com/kaggle/docker-python\n",
    "# For example, here's several helpful packages to load\n",
    "\n",
    "import numpy as np # linear algebra\n",
    "import pandas as pd # data processing, CSV file I/O (e.g. pd.read_csv)\n",
    "\n",
    "# Input data files are available in the read-only \"../input/\" directory\n",
    "# For example, running this (by clicking run or pressing Shift+Enter) will list all files under the input directory\n",
    "\n",
    "import os\n",
    "for dirname, _, filenames in os.walk('/kaggle/input'):\n",
    "    for filename in filenames:\n",
    "        print(os.path.join(dirname, filename))\n",
    "\n",
    "# You can write up to 20GB to the current directory (/kaggle/working/) that gets preserved as output when you create a version using \"Save & Run All\" \n",
    "# You can also write temporary files to /kaggle/temp/, but they won't be saved outside of the current session"
   ]
  },
  {
   "cell_type": "markdown",
   "id": "e9da00ee",
   "metadata": {
    "papermill": {
     "duration": 0.00905,
     "end_time": "2022-07-08T14:54:01.085959",
     "exception": false,
     "start_time": "2022-07-08T14:54:01.076909",
     "status": "completed"
    },
    "tags": []
   },
   "source": [
    "\n",
    "**1. Import Libraries**"
   ]
  },
  {
   "cell_type": "code",
   "execution_count": 2,
   "id": "ab459de4",
   "metadata": {
    "execution": {
     "iopub.execute_input": "2022-07-08T14:54:01.106673Z",
     "iopub.status.busy": "2022-07-08T14:54:01.105506Z",
     "iopub.status.idle": "2022-07-08T14:54:03.172011Z",
     "shell.execute_reply": "2022-07-08T14:54:03.170840Z"
    },
    "papermill": {
     "duration": 2.079316,
     "end_time": "2022-07-08T14:54:03.174545",
     "exception": false,
     "start_time": "2022-07-08T14:54:01.095229",
     "status": "completed"
    },
    "tags": []
   },
   "outputs": [],
   "source": [
    "import numpy as np\n",
    "import pandas as pd\n",
    "\n",
    "from sklearn.linear_model import LogisticRegression\n",
    "from sklearn.model_selection import train_test_split\n",
    "from sklearn import preprocessing\n",
    "\n",
    "from sklearn.metrics import classification_report\n",
    "from sklearn.metrics import accuracy_score\n",
    "from sklearn.model_selection import cross_val_score\n",
    "from sklearn.metrics import confusion_matrix\n",
    "import matplotlib as mpl\n",
    "import matplotlib.pyplot as plt\n",
    "\n",
    "\n",
    "\n",
    "import statsmodels.api as sm\n",
    "\n",
    "# readable figures\n",
    "pd.set_option('float_format', '{:f}'.format)"
   ]
  },
  {
   "cell_type": "markdown",
   "id": "2bb74cf7",
   "metadata": {
    "papermill": {
     "duration": 0.010241,
     "end_time": "2022-07-08T14:54:03.194265",
     "exception": false,
     "start_time": "2022-07-08T14:54:03.184024",
     "status": "completed"
    },
    "tags": []
   },
   "source": [
    "**2. Load Data**"
   ]
  },
  {
   "cell_type": "code",
   "execution_count": 3,
   "id": "abf2bb40",
   "metadata": {
    "execution": {
     "iopub.execute_input": "2022-07-08T14:54:03.215590Z",
     "iopub.status.busy": "2022-07-08T14:54:03.214719Z",
     "iopub.status.idle": "2022-07-08T14:54:03.244021Z",
     "shell.execute_reply": "2022-07-08T14:54:03.243260Z"
    },
    "papermill": {
     "duration": 0.042565,
     "end_time": "2022-07-08T14:54:03.246125",
     "exception": false,
     "start_time": "2022-07-08T14:54:03.203560",
     "status": "completed"
    },
    "tags": []
   },
   "outputs": [
    {
     "data": {
      "text/html": [
       "<div>\n",
       "<style scoped>\n",
       "    .dataframe tbody tr th:only-of-type {\n",
       "        vertical-align: middle;\n",
       "    }\n",
       "\n",
       "    .dataframe tbody tr th {\n",
       "        vertical-align: top;\n",
       "    }\n",
       "\n",
       "    .dataframe thead th {\n",
       "        text-align: right;\n",
       "    }\n",
       "</style>\n",
       "<table border=\"1\" class=\"dataframe\">\n",
       "  <thead>\n",
       "    <tr style=\"text-align: right;\">\n",
       "      <th></th>\n",
       "      <th>Emitten</th>\n",
       "      <th>DER</th>\n",
       "      <th>ROA</th>\n",
       "      <th>Sales Growth</th>\n",
       "      <th>ROE</th>\n",
       "      <th>NPM</th>\n",
       "      <th>Category</th>\n",
       "    </tr>\n",
       "  </thead>\n",
       "  <tbody>\n",
       "    <tr>\n",
       "      <th>0</th>\n",
       "      <td>AGRO</td>\n",
       "      <td>7.150000</td>\n",
       "      <td>-0.090000</td>\n",
       "      <td>-185.032137</td>\n",
       "      <td>-0.720000</td>\n",
       "      <td>-1.400000</td>\n",
       "      <td>3</td>\n",
       "    </tr>\n",
       "    <tr>\n",
       "      <th>1</th>\n",
       "      <td>BBCA</td>\n",
       "      <td>4.880000</td>\n",
       "      <td>0.030000</td>\n",
       "      <td>-1485.583000</td>\n",
       "      <td>0.150000</td>\n",
       "      <td>0.590000</td>\n",
       "      <td>2</td>\n",
       "    </tr>\n",
       "    <tr>\n",
       "      <th>2</th>\n",
       "      <td>BBHI</td>\n",
       "      <td>4.360000</td>\n",
       "      <td>0.010000</td>\n",
       "      <td>121.858090</td>\n",
       "      <td>0.060000</td>\n",
       "      <td>0.300000</td>\n",
       "      <td>2</td>\n",
       "    </tr>\n",
       "    <tr>\n",
       "      <th>3</th>\n",
       "      <td>BBKP</td>\n",
       "      <td>10.030000</td>\n",
       "      <td>-0.010000</td>\n",
       "      <td>-1445.750000</td>\n",
       "      <td>-0.060000</td>\n",
       "      <td>-0.140000</td>\n",
       "      <td>1</td>\n",
       "    </tr>\n",
       "    <tr>\n",
       "      <th>4</th>\n",
       "      <td>BBMD</td>\n",
       "      <td>2.900000</td>\n",
       "      <td>0.030000</td>\n",
       "      <td>61.545475</td>\n",
       "      <td>0.110000</td>\n",
       "      <td>0.510000</td>\n",
       "      <td>2</td>\n",
       "    </tr>\n",
       "  </tbody>\n",
       "</table>\n",
       "</div>"
      ],
      "text/plain": [
       "  Emitten       DER       ROA  Sales Growth       ROE       NPM  Category\n",
       "0    AGRO  7.150000 -0.090000   -185.032137 -0.720000 -1.400000         3\n",
       "1    BBCA  4.880000  0.030000  -1485.583000  0.150000  0.590000         2\n",
       "2    BBHI  4.360000  0.010000    121.858090  0.060000  0.300000         2\n",
       "3    BBKP 10.030000 -0.010000  -1445.750000 -0.060000 -0.140000         1\n",
       "4    BBMD  2.900000  0.030000     61.545475  0.110000  0.510000         2"
      ]
     },
     "execution_count": 3,
     "metadata": {},
     "output_type": "execute_result"
    }
   ],
   "source": [
    "df = pd.read_csv('../input/data-category-bank/Data category bank .csv')\n",
    "df.head()"
   ]
  },
  {
   "cell_type": "code",
   "execution_count": 4,
   "id": "07eec1fb",
   "metadata": {
    "execution": {
     "iopub.execute_input": "2022-07-08T14:54:03.268014Z",
     "iopub.status.busy": "2022-07-08T14:54:03.267053Z",
     "iopub.status.idle": "2022-07-08T14:54:03.304463Z",
     "shell.execute_reply": "2022-07-08T14:54:03.303253Z"
    },
    "papermill": {
     "duration": 0.050756,
     "end_time": "2022-07-08T14:54:03.307012",
     "exception": false,
     "start_time": "2022-07-08T14:54:03.256256",
     "status": "completed"
    },
    "tags": []
   },
   "outputs": [
    {
     "data": {
      "text/html": [
       "<div>\n",
       "<style scoped>\n",
       "    .dataframe tbody tr th:only-of-type {\n",
       "        vertical-align: middle;\n",
       "    }\n",
       "\n",
       "    .dataframe tbody tr th {\n",
       "        vertical-align: top;\n",
       "    }\n",
       "\n",
       "    .dataframe thead th {\n",
       "        text-align: right;\n",
       "    }\n",
       "</style>\n",
       "<table border=\"1\" class=\"dataframe\">\n",
       "  <thead>\n",
       "    <tr style=\"text-align: right;\">\n",
       "      <th></th>\n",
       "      <th>DER</th>\n",
       "      <th>ROA</th>\n",
       "      <th>Sales Growth</th>\n",
       "      <th>ROE</th>\n",
       "      <th>NPM</th>\n",
       "      <th>Category</th>\n",
       "    </tr>\n",
       "  </thead>\n",
       "  <tbody>\n",
       "    <tr>\n",
       "      <th>count</th>\n",
       "      <td>24.000000</td>\n",
       "      <td>24.000000</td>\n",
       "      <td>24.000000</td>\n",
       "      <td>24.000000</td>\n",
       "      <td>24.000000</td>\n",
       "      <td>24.000000</td>\n",
       "    </tr>\n",
       "    <tr>\n",
       "      <th>mean</th>\n",
       "      <td>6.030000</td>\n",
       "      <td>0.005833</td>\n",
       "      <td>55.001594</td>\n",
       "      <td>-0.011667</td>\n",
       "      <td>-0.001667</td>\n",
       "      <td>1.916667</td>\n",
       "    </tr>\n",
       "    <tr>\n",
       "      <th>std</th>\n",
       "      <td>3.503758</td>\n",
       "      <td>0.031611</td>\n",
       "      <td>2377.021390</td>\n",
       "      <td>0.193473</td>\n",
       "      <td>0.484236</td>\n",
       "      <td>0.503610</td>\n",
       "    </tr>\n",
       "    <tr>\n",
       "      <th>min</th>\n",
       "      <td>0.360000</td>\n",
       "      <td>-0.090000</td>\n",
       "      <td>-4246.426000</td>\n",
       "      <td>-0.720000</td>\n",
       "      <td>-1.400000</td>\n",
       "      <td>1.000000</td>\n",
       "    </tr>\n",
       "    <tr>\n",
       "      <th>25%</th>\n",
       "      <td>4.112500</td>\n",
       "      <td>0.005000</td>\n",
       "      <td>-1112.673500</td>\n",
       "      <td>0.000000</td>\n",
       "      <td>0.010000</td>\n",
       "      <td>2.000000</td>\n",
       "    </tr>\n",
       "    <tr>\n",
       "      <th>50%</th>\n",
       "      <td>5.280000</td>\n",
       "      <td>0.010000</td>\n",
       "      <td>-1.098266</td>\n",
       "      <td>0.050000</td>\n",
       "      <td>0.115000</td>\n",
       "      <td>2.000000</td>\n",
       "    </tr>\n",
       "    <tr>\n",
       "      <th>75%</th>\n",
       "      <td>7.337500</td>\n",
       "      <td>0.012500</td>\n",
       "      <td>281.745586</td>\n",
       "      <td>0.085000</td>\n",
       "      <td>0.222500</td>\n",
       "      <td>2.000000</td>\n",
       "    </tr>\n",
       "    <tr>\n",
       "      <th>max</th>\n",
       "      <td>15.820000</td>\n",
       "      <td>0.080000</td>\n",
       "      <td>7034.205000</td>\n",
       "      <td>0.150000</td>\n",
       "      <td>0.650000</td>\n",
       "      <td>3.000000</td>\n",
       "    </tr>\n",
       "  </tbody>\n",
       "</table>\n",
       "</div>"
      ],
      "text/plain": [
       "            DER       ROA  Sales Growth       ROE       NPM  Category\n",
       "count 24.000000 24.000000     24.000000 24.000000 24.000000 24.000000\n",
       "mean   6.030000  0.005833     55.001594 -0.011667 -0.001667  1.916667\n",
       "std    3.503758  0.031611   2377.021390  0.193473  0.484236  0.503610\n",
       "min    0.360000 -0.090000  -4246.426000 -0.720000 -1.400000  1.000000\n",
       "25%    4.112500  0.005000  -1112.673500  0.000000  0.010000  2.000000\n",
       "50%    5.280000  0.010000     -1.098266  0.050000  0.115000  2.000000\n",
       "75%    7.337500  0.012500    281.745586  0.085000  0.222500  2.000000\n",
       "max   15.820000  0.080000   7034.205000  0.150000  0.650000  3.000000"
      ]
     },
     "execution_count": 4,
     "metadata": {},
     "output_type": "execute_result"
    }
   ],
   "source": [
    "df.describe()"
   ]
  },
  {
   "cell_type": "markdown",
   "id": "49bb0e45",
   "metadata": {
    "papermill": {
     "duration": 0.009175,
     "end_time": "2022-07-08T14:54:03.325748",
     "exception": false,
     "start_time": "2022-07-08T14:54:03.316573",
     "status": "completed"
    },
    "tags": []
   },
   "source": [
    "**3.Multinomial logistic regression with scikit-learn**"
   ]
  },
  {
   "cell_type": "code",
   "execution_count": 5,
   "id": "690231e6",
   "metadata": {
    "execution": {
     "iopub.execute_input": "2022-07-08T14:54:03.347001Z",
     "iopub.status.busy": "2022-07-08T14:54:03.345927Z",
     "iopub.status.idle": "2022-07-08T14:54:03.360352Z",
     "shell.execute_reply": "2022-07-08T14:54:03.359198Z"
    },
    "papermill": {
     "duration": 0.02748,
     "end_time": "2022-07-08T14:54:03.362752",
     "exception": false,
     "start_time": "2022-07-08T14:54:03.335272",
     "status": "completed"
    },
    "tags": []
   },
   "outputs": [
    {
     "data": {
      "text/html": [
       "<div>\n",
       "<style scoped>\n",
       "    .dataframe tbody tr th:only-of-type {\n",
       "        vertical-align: middle;\n",
       "    }\n",
       "\n",
       "    .dataframe tbody tr th {\n",
       "        vertical-align: top;\n",
       "    }\n",
       "\n",
       "    .dataframe thead th {\n",
       "        text-align: right;\n",
       "    }\n",
       "</style>\n",
       "<table border=\"1\" class=\"dataframe\">\n",
       "  <thead>\n",
       "    <tr style=\"text-align: right;\">\n",
       "      <th></th>\n",
       "      <th>Emitten</th>\n",
       "      <th>DER</th>\n",
       "      <th>ROA</th>\n",
       "      <th>Sales Growth</th>\n",
       "      <th>ROE</th>\n",
       "      <th>NPM</th>\n",
       "      <th>Category</th>\n",
       "    </tr>\n",
       "  </thead>\n",
       "  <tbody>\n",
       "    <tr>\n",
       "      <th>0</th>\n",
       "      <td>AGRO</td>\n",
       "      <td>7.150000</td>\n",
       "      <td>-0.090000</td>\n",
       "      <td>-185.032137</td>\n",
       "      <td>-0.720000</td>\n",
       "      <td>-1.400000</td>\n",
       "      <td>3</td>\n",
       "    </tr>\n",
       "    <tr>\n",
       "      <th>1</th>\n",
       "      <td>BBCA</td>\n",
       "      <td>4.880000</td>\n",
       "      <td>0.030000</td>\n",
       "      <td>-1485.583000</td>\n",
       "      <td>0.150000</td>\n",
       "      <td>0.590000</td>\n",
       "      <td>2</td>\n",
       "    </tr>\n",
       "    <tr>\n",
       "      <th>2</th>\n",
       "      <td>BBHI</td>\n",
       "      <td>4.360000</td>\n",
       "      <td>0.010000</td>\n",
       "      <td>121.858090</td>\n",
       "      <td>0.060000</td>\n",
       "      <td>0.300000</td>\n",
       "      <td>2</td>\n",
       "    </tr>\n",
       "    <tr>\n",
       "      <th>3</th>\n",
       "      <td>BBKP</td>\n",
       "      <td>10.030000</td>\n",
       "      <td>-0.010000</td>\n",
       "      <td>-1445.750000</td>\n",
       "      <td>-0.060000</td>\n",
       "      <td>-0.140000</td>\n",
       "      <td>1</td>\n",
       "    </tr>\n",
       "    <tr>\n",
       "      <th>4</th>\n",
       "      <td>BBMD</td>\n",
       "      <td>2.900000</td>\n",
       "      <td>0.030000</td>\n",
       "      <td>61.545475</td>\n",
       "      <td>0.110000</td>\n",
       "      <td>0.510000</td>\n",
       "      <td>2</td>\n",
       "    </tr>\n",
       "    <tr>\n",
       "      <th>5</th>\n",
       "      <td>BBNI</td>\n",
       "      <td>6.520000</td>\n",
       "      <td>0.010000</td>\n",
       "      <td>-4246.426000</td>\n",
       "      <td>0.050000</td>\n",
       "      <td>0.140000</td>\n",
       "      <td>2</td>\n",
       "    </tr>\n",
       "    <tr>\n",
       "      <th>6</th>\n",
       "      <td>BBRI</td>\n",
       "      <td>4.780000</td>\n",
       "      <td>0.010000</td>\n",
       "      <td>6531.747000</td>\n",
       "      <td>0.080000</td>\n",
       "      <td>0.220000</td>\n",
       "      <td>2</td>\n",
       "    </tr>\n",
       "    <tr>\n",
       "      <th>7</th>\n",
       "      <td>BBSI</td>\n",
       "      <td>0.490000</td>\n",
       "      <td>0.040000</td>\n",
       "      <td>22.556467</td>\n",
       "      <td>0.060000</td>\n",
       "      <td>0.650000</td>\n",
       "      <td>2</td>\n",
       "    </tr>\n",
       "    <tr>\n",
       "      <th>8</th>\n",
       "      <td>BBTN</td>\n",
       "      <td>15.820000</td>\n",
       "      <td>0.010000</td>\n",
       "      <td>129.291000</td>\n",
       "      <td>0.100000</td>\n",
       "      <td>0.110000</td>\n",
       "      <td>1</td>\n",
       "    </tr>\n",
       "    <tr>\n",
       "      <th>9</th>\n",
       "      <td>BBYB</td>\n",
       "      <td>6.310000</td>\n",
       "      <td>-0.040000</td>\n",
       "      <td>167.373288</td>\n",
       "      <td>-0.320000</td>\n",
       "      <td>-0.700000</td>\n",
       "      <td>3</td>\n",
       "    </tr>\n",
       "    <tr>\n",
       "      <th>10</th>\n",
       "      <td>BCIC</td>\n",
       "      <td>11.530000</td>\n",
       "      <td>-0.020000</td>\n",
       "      <td>-24.753000</td>\n",
       "      <td>-0.280000</td>\n",
       "      <td>-0.550000</td>\n",
       "      <td>1</td>\n",
       "    </tr>\n",
       "    <tr>\n",
       "      <th>11</th>\n",
       "      <td>BEKS</td>\n",
       "      <td>4.170000</td>\n",
       "      <td>-0.030000</td>\n",
       "      <td>-93.899000</td>\n",
       "      <td>0.020000</td>\n",
       "      <td>0.060000</td>\n",
       "      <td>2</td>\n",
       "    </tr>\n",
       "    <tr>\n",
       "      <th>12</th>\n",
       "      <td>BJBR</td>\n",
       "      <td>11.340000</td>\n",
       "      <td>0.010000</td>\n",
       "      <td>649.269000</td>\n",
       "      <td>-0.140000</td>\n",
       "      <td>-0.920000</td>\n",
       "      <td>1</td>\n",
       "    </tr>\n",
       "    <tr>\n",
       "      <th>13</th>\n",
       "      <td>BJTM</td>\n",
       "      <td>8.420000</td>\n",
       "      <td>0.020000</td>\n",
       "      <td>424.496000</td>\n",
       "      <td>0.030000</td>\n",
       "      <td>0.070000</td>\n",
       "      <td>2</td>\n",
       "    </tr>\n",
       "    <tr>\n",
       "      <th>14</th>\n",
       "      <td>BKSW</td>\n",
       "      <td>3.820000</td>\n",
       "      <td>-0.020000</td>\n",
       "      <td>-309.781000</td>\n",
       "      <td>0.150000</td>\n",
       "      <td>0.180000</td>\n",
       "      <td>2</td>\n",
       "    </tr>\n",
       "    <tr>\n",
       "      <th>15</th>\n",
       "      <td>BMRI</td>\n",
       "      <td>5.910000</td>\n",
       "      <td>0.010000</td>\n",
       "      <td>7034.205000</td>\n",
       "      <td>0.150000</td>\n",
       "      <td>0.320000</td>\n",
       "      <td>2</td>\n",
       "    </tr>\n",
       "    <tr>\n",
       "      <th>16</th>\n",
       "      <td>BNBA</td>\n",
       "      <td>3.490000</td>\n",
       "      <td>0.010000</td>\n",
       "      <td>-81.856421</td>\n",
       "      <td>-0.100000</td>\n",
       "      <td>-0.510000</td>\n",
       "      <td>2</td>\n",
       "    </tr>\n",
       "    <tr>\n",
       "      <th>17</th>\n",
       "      <td>BNGA</td>\n",
       "      <td>5.490000</td>\n",
       "      <td>0.010000</td>\n",
       "      <td>-1001.648000</td>\n",
       "      <td>0.050000</td>\n",
       "      <td>0.100000</td>\n",
       "      <td>2</td>\n",
       "    </tr>\n",
       "    <tr>\n",
       "      <th>18</th>\n",
       "      <td>BNII</td>\n",
       "      <td>4.500000</td>\n",
       "      <td>0.010000</td>\n",
       "      <td>-1690.584000</td>\n",
       "      <td>0.100000</td>\n",
       "      <td>0.230000</td>\n",
       "      <td>2</td>\n",
       "    </tr>\n",
       "    <tr>\n",
       "      <th>19</th>\n",
       "      <td>BNLI</td>\n",
       "      <td>5.070000</td>\n",
       "      <td>0.010000</td>\n",
       "      <td>263.701000</td>\n",
       "      <td>0.030000</td>\n",
       "      <td>0.120000</td>\n",
       "      <td>2</td>\n",
       "    </tr>\n",
       "    <tr>\n",
       "      <th>20</th>\n",
       "      <td>BTPN</td>\n",
       "      <td>3.940000</td>\n",
       "      <td>0.010000</td>\n",
       "      <td>-1667.699000</td>\n",
       "      <td>0.080000</td>\n",
       "      <td>0.210000</td>\n",
       "      <td>2</td>\n",
       "    </tr>\n",
       "    <tr>\n",
       "      <th>21</th>\n",
       "      <td>BTPS</td>\n",
       "      <td>0.360000</td>\n",
       "      <td>0.080000</td>\n",
       "      <td>567.248000</td>\n",
       "      <td>0.050000</td>\n",
       "      <td>0.170000</td>\n",
       "      <td>2</td>\n",
       "    </tr>\n",
       "    <tr>\n",
       "      <th>22</th>\n",
       "      <td>MASB</td>\n",
       "      <td>7.900000</td>\n",
       "      <td>0.010000</td>\n",
       "      <td>-2756.119855</td>\n",
       "      <td>0.030000</td>\n",
       "      <td>0.110000</td>\n",
       "      <td>2</td>\n",
       "    </tr>\n",
       "    <tr>\n",
       "      <th>23</th>\n",
       "      <td>MEGA</td>\n",
       "      <td>5.540000</td>\n",
       "      <td>0.030000</td>\n",
       "      <td>335.879344</td>\n",
       "      <td>0.040000</td>\n",
       "      <td>0.090000</td>\n",
       "      <td>2</td>\n",
       "    </tr>\n",
       "  </tbody>\n",
       "</table>\n",
       "</div>"
      ],
      "text/plain": [
       "   Emitten       DER       ROA  Sales Growth       ROE       NPM  Category\n",
       "0     AGRO  7.150000 -0.090000   -185.032137 -0.720000 -1.400000         3\n",
       "1     BBCA  4.880000  0.030000  -1485.583000  0.150000  0.590000         2\n",
       "2     BBHI  4.360000  0.010000    121.858090  0.060000  0.300000         2\n",
       "3     BBKP 10.030000 -0.010000  -1445.750000 -0.060000 -0.140000         1\n",
       "4     BBMD  2.900000  0.030000     61.545475  0.110000  0.510000         2\n",
       "5     BBNI  6.520000  0.010000  -4246.426000  0.050000  0.140000         2\n",
       "6     BBRI  4.780000  0.010000   6531.747000  0.080000  0.220000         2\n",
       "7     BBSI  0.490000  0.040000     22.556467  0.060000  0.650000         2\n",
       "8     BBTN 15.820000  0.010000    129.291000  0.100000  0.110000         1\n",
       "9     BBYB  6.310000 -0.040000    167.373288 -0.320000 -0.700000         3\n",
       "10    BCIC 11.530000 -0.020000    -24.753000 -0.280000 -0.550000         1\n",
       "11    BEKS  4.170000 -0.030000    -93.899000  0.020000  0.060000         2\n",
       "12    BJBR 11.340000  0.010000    649.269000 -0.140000 -0.920000         1\n",
       "13    BJTM  8.420000  0.020000    424.496000  0.030000  0.070000         2\n",
       "14    BKSW  3.820000 -0.020000   -309.781000  0.150000  0.180000         2\n",
       "15    BMRI  5.910000  0.010000   7034.205000  0.150000  0.320000         2\n",
       "16    BNBA  3.490000  0.010000    -81.856421 -0.100000 -0.510000         2\n",
       "17    BNGA  5.490000  0.010000  -1001.648000  0.050000  0.100000         2\n",
       "18    BNII  4.500000  0.010000  -1690.584000  0.100000  0.230000         2\n",
       "19    BNLI  5.070000  0.010000    263.701000  0.030000  0.120000         2\n",
       "20    BTPN  3.940000  0.010000  -1667.699000  0.080000  0.210000         2\n",
       "21    BTPS  0.360000  0.080000    567.248000  0.050000  0.170000         2\n",
       "22    MASB  7.900000  0.010000  -2756.119855  0.030000  0.110000         2\n",
       "23    MEGA  5.540000  0.030000    335.879344  0.040000  0.090000         2"
      ]
     },
     "metadata": {},
     "output_type": "display_data"
    }
   ],
   "source": [
    "display(df)"
   ]
  },
  {
   "cell_type": "markdown",
   "id": "ad3aa9b9",
   "metadata": {
    "papermill": {
     "duration": 0.009423,
     "end_time": "2022-07-08T14:54:03.382163",
     "exception": false,
     "start_time": "2022-07-08T14:54:03.372740",
     "status": "completed"
    },
    "tags": []
   },
   "source": [
    "\n",
    "**Drop Irrelevant Data untuk variabel X**"
   ]
  },
  {
   "cell_type": "code",
   "execution_count": 6,
   "id": "543f77bb",
   "metadata": {
    "execution": {
     "iopub.execute_input": "2022-07-08T14:54:03.403786Z",
     "iopub.status.busy": "2022-07-08T14:54:03.403048Z",
     "iopub.status.idle": "2022-07-08T14:54:03.414541Z",
     "shell.execute_reply": "2022-07-08T14:54:03.413562Z"
    },
    "papermill": {
     "duration": 0.024684,
     "end_time": "2022-07-08T14:54:03.416603",
     "exception": false,
     "start_time": "2022-07-08T14:54:03.391919",
     "status": "completed"
    },
    "tags": []
   },
   "outputs": [
    {
     "data": {
      "text/html": [
       "<div>\n",
       "<style scoped>\n",
       "    .dataframe tbody tr th:only-of-type {\n",
       "        vertical-align: middle;\n",
       "    }\n",
       "\n",
       "    .dataframe tbody tr th {\n",
       "        vertical-align: top;\n",
       "    }\n",
       "\n",
       "    .dataframe thead th {\n",
       "        text-align: right;\n",
       "    }\n",
       "</style>\n",
       "<table border=\"1\" class=\"dataframe\">\n",
       "  <thead>\n",
       "    <tr style=\"text-align: right;\">\n",
       "      <th></th>\n",
       "      <th>DER</th>\n",
       "      <th>ROA</th>\n",
       "      <th>Sales Growth</th>\n",
       "      <th>ROE</th>\n",
       "      <th>NPM</th>\n",
       "    </tr>\n",
       "  </thead>\n",
       "  <tbody>\n",
       "    <tr>\n",
       "      <th>0</th>\n",
       "      <td>7.150000</td>\n",
       "      <td>-0.090000</td>\n",
       "      <td>-185.032137</td>\n",
       "      <td>-0.720000</td>\n",
       "      <td>-1.400000</td>\n",
       "    </tr>\n",
       "    <tr>\n",
       "      <th>1</th>\n",
       "      <td>4.880000</td>\n",
       "      <td>0.030000</td>\n",
       "      <td>-1485.583000</td>\n",
       "      <td>0.150000</td>\n",
       "      <td>0.590000</td>\n",
       "    </tr>\n",
       "    <tr>\n",
       "      <th>2</th>\n",
       "      <td>4.360000</td>\n",
       "      <td>0.010000</td>\n",
       "      <td>121.858090</td>\n",
       "      <td>0.060000</td>\n",
       "      <td>0.300000</td>\n",
       "    </tr>\n",
       "    <tr>\n",
       "      <th>3</th>\n",
       "      <td>10.030000</td>\n",
       "      <td>-0.010000</td>\n",
       "      <td>-1445.750000</td>\n",
       "      <td>-0.060000</td>\n",
       "      <td>-0.140000</td>\n",
       "    </tr>\n",
       "    <tr>\n",
       "      <th>4</th>\n",
       "      <td>2.900000</td>\n",
       "      <td>0.030000</td>\n",
       "      <td>61.545475</td>\n",
       "      <td>0.110000</td>\n",
       "      <td>0.510000</td>\n",
       "    </tr>\n",
       "  </tbody>\n",
       "</table>\n",
       "</div>"
      ],
      "text/plain": [
       "        DER       ROA  Sales Growth       ROE       NPM\n",
       "0  7.150000 -0.090000   -185.032137 -0.720000 -1.400000\n",
       "1  4.880000  0.030000  -1485.583000  0.150000  0.590000\n",
       "2  4.360000  0.010000    121.858090  0.060000  0.300000\n",
       "3 10.030000 -0.010000  -1445.750000 -0.060000 -0.140000\n",
       "4  2.900000  0.030000     61.545475  0.110000  0.510000"
      ]
     },
     "execution_count": 6,
     "metadata": {},
     "output_type": "execute_result"
    }
   ],
   "source": [
    "x = df.drop(['Category','Emitten'], axis=1)\n",
    "x.head()"
   ]
  },
  {
   "cell_type": "code",
   "execution_count": 7,
   "id": "63b7de75",
   "metadata": {
    "execution": {
     "iopub.execute_input": "2022-07-08T14:54:03.438610Z",
     "iopub.status.busy": "2022-07-08T14:54:03.437892Z",
     "iopub.status.idle": "2022-07-08T14:54:03.445065Z",
     "shell.execute_reply": "2022-07-08T14:54:03.444250Z"
    },
    "papermill": {
     "duration": 0.020494,
     "end_time": "2022-07-08T14:54:03.447050",
     "exception": false,
     "start_time": "2022-07-08T14:54:03.426556",
     "status": "completed"
    },
    "tags": []
   },
   "outputs": [
    {
     "data": {
      "text/plain": [
       "0    3\n",
       "1    2\n",
       "2    2\n",
       "3    1\n",
       "4    2\n",
       "Name: Category, dtype: int64"
      ]
     },
     "execution_count": 7,
     "metadata": {},
     "output_type": "execute_result"
    }
   ],
   "source": [
    "y = df['Category']\n",
    "y.head()"
   ]
  },
  {
   "cell_type": "markdown",
   "id": "d647b1e4",
   "metadata": {
    "papermill": {
     "duration": 0.009795,
     "end_time": "2022-07-08T14:54:03.467328",
     "exception": false,
     "start_time": "2022-07-08T14:54:03.457533",
     "status": "completed"
    },
    "tags": []
   },
   "source": [
    "**Standardize the Data**"
   ]
  },
  {
   "cell_type": "code",
   "execution_count": 8,
   "id": "60892caf",
   "metadata": {
    "execution": {
     "iopub.execute_input": "2022-07-08T14:54:03.489152Z",
     "iopub.status.busy": "2022-07-08T14:54:03.488774Z",
     "iopub.status.idle": "2022-07-08T14:54:03.506031Z",
     "shell.execute_reply": "2022-07-08T14:54:03.504986Z"
    },
    "papermill": {
     "duration": 0.030792,
     "end_time": "2022-07-08T14:54:03.508151",
     "exception": false,
     "start_time": "2022-07-08T14:54:03.477359",
     "status": "completed"
    },
    "tags": []
   },
   "outputs": [
    {
     "data": {
      "text/html": [
       "<div>\n",
       "<style scoped>\n",
       "    .dataframe tbody tr th:only-of-type {\n",
       "        vertical-align: middle;\n",
       "    }\n",
       "\n",
       "    .dataframe tbody tr th {\n",
       "        vertical-align: top;\n",
       "    }\n",
       "\n",
       "    .dataframe thead th {\n",
       "        text-align: right;\n",
       "    }\n",
       "</style>\n",
       "<table border=\"1\" class=\"dataframe\">\n",
       "  <thead>\n",
       "    <tr style=\"text-align: right;\">\n",
       "      <th></th>\n",
       "      <th>DER</th>\n",
       "      <th>ROA</th>\n",
       "      <th>Sales Growth</th>\n",
       "      <th>ROE</th>\n",
       "      <th>NPM</th>\n",
       "    </tr>\n",
       "  </thead>\n",
       "  <tbody>\n",
       "    <tr>\n",
       "      <th>0</th>\n",
       "      <td>0.326532</td>\n",
       "      <td>-3.096818</td>\n",
       "      <td>-0.103153</td>\n",
       "      <td>-3.739888</td>\n",
       "      <td>-2.949822</td>\n",
       "    </tr>\n",
       "    <tr>\n",
       "      <th>1</th>\n",
       "      <td>-0.335278</td>\n",
       "      <td>0.780937</td>\n",
       "      <td>-0.662055</td>\n",
       "      <td>0.853574</td>\n",
       "      <td>1.248137</td>\n",
       "    </tr>\n",
       "    <tr>\n",
       "      <th>2</th>\n",
       "      <td>-0.486882</td>\n",
       "      <td>0.134644</td>\n",
       "      <td>0.028731</td>\n",
       "      <td>0.378389</td>\n",
       "      <td>0.636374</td>\n",
       "    </tr>\n",
       "    <tr>\n",
       "      <th>3</th>\n",
       "      <td>1.166185</td>\n",
       "      <td>-0.511648</td>\n",
       "      <td>-0.644937</td>\n",
       "      <td>-0.255192</td>\n",
       "      <td>-0.291818</td>\n",
       "    </tr>\n",
       "    <tr>\n",
       "      <th>4</th>\n",
       "      <td>-0.912540</td>\n",
       "      <td>0.780937</td>\n",
       "      <td>0.002812</td>\n",
       "      <td>0.642381</td>\n",
       "      <td>1.079375</td>\n",
       "    </tr>\n",
       "    <tr>\n",
       "      <th>5</th>\n",
       "      <td>0.142858</td>\n",
       "      <td>0.134644</td>\n",
       "      <td>-1.848508</td>\n",
       "      <td>0.325590</td>\n",
       "      <td>0.298850</td>\n",
       "    </tr>\n",
       "    <tr>\n",
       "      <th>6</th>\n",
       "      <td>-0.364433</td>\n",
       "      <td>0.134644</td>\n",
       "      <td>2.783335</td>\n",
       "      <td>0.483985</td>\n",
       "      <td>0.467612</td>\n",
       "    </tr>\n",
       "    <tr>\n",
       "      <th>7</th>\n",
       "      <td>-1.615167</td>\n",
       "      <td>1.104083</td>\n",
       "      <td>-0.013943</td>\n",
       "      <td>0.378389</td>\n",
       "      <td>1.374708</td>\n",
       "    </tr>\n",
       "    <tr>\n",
       "      <th>8</th>\n",
       "      <td>2.854239</td>\n",
       "      <td>0.134644</td>\n",
       "      <td>0.031925</td>\n",
       "      <td>0.589582</td>\n",
       "      <td>0.235564</td>\n",
       "    </tr>\n",
       "    <tr>\n",
       "      <th>9</th>\n",
       "      <td>0.081633</td>\n",
       "      <td>-1.481087</td>\n",
       "      <td>0.048291</td>\n",
       "      <td>-1.627951</td>\n",
       "      <td>-1.473153</td>\n",
       "    </tr>\n",
       "    <tr>\n",
       "      <th>10</th>\n",
       "      <td>1.603505</td>\n",
       "      <td>-0.834794</td>\n",
       "      <td>-0.034274</td>\n",
       "      <td>-1.416757</td>\n",
       "      <td>-1.156724</td>\n",
       "    </tr>\n",
       "    <tr>\n",
       "      <th>11</th>\n",
       "      <td>-0.542276</td>\n",
       "      <td>-1.157941</td>\n",
       "      <td>-0.063989</td>\n",
       "      <td>0.167195</td>\n",
       "      <td>0.130087</td>\n",
       "    </tr>\n",
       "    <tr>\n",
       "      <th>12</th>\n",
       "      <td>1.548111</td>\n",
       "      <td>0.134644</td>\n",
       "      <td>0.255382</td>\n",
       "      <td>-0.677580</td>\n",
       "      <td>-1.937249</td>\n",
       "    </tr>\n",
       "    <tr>\n",
       "      <th>13</th>\n",
       "      <td>0.696796</td>\n",
       "      <td>0.457791</td>\n",
       "      <td>0.158788</td>\n",
       "      <td>0.219993</td>\n",
       "      <td>0.151183</td>\n",
       "    </tr>\n",
       "    <tr>\n",
       "      <th>14</th>\n",
       "      <td>-0.644317</td>\n",
       "      <td>-0.834794</td>\n",
       "      <td>-0.156763</td>\n",
       "      <td>0.853574</td>\n",
       "      <td>0.383231</td>\n",
       "    </tr>\n",
       "    <tr>\n",
       "      <th>15</th>\n",
       "      <td>-0.034986</td>\n",
       "      <td>0.134644</td>\n",
       "      <td>2.999262</td>\n",
       "      <td>0.853574</td>\n",
       "      <td>0.678564</td>\n",
       "    </tr>\n",
       "    <tr>\n",
       "      <th>16</th>\n",
       "      <td>-0.740528</td>\n",
       "      <td>0.134644</td>\n",
       "      <td>-0.058814</td>\n",
       "      <td>-0.466386</td>\n",
       "      <td>-1.072343</td>\n",
       "    </tr>\n",
       "    <tr>\n",
       "      <th>17</th>\n",
       "      <td>-0.157435</td>\n",
       "      <td>0.134644</td>\n",
       "      <td>-0.454088</td>\n",
       "      <td>0.325590</td>\n",
       "      <td>0.214469</td>\n",
       "    </tr>\n",
       "    <tr>\n",
       "      <th>18</th>\n",
       "      <td>-0.446066</td>\n",
       "      <td>0.134644</td>\n",
       "      <td>-0.750153</td>\n",
       "      <td>0.589582</td>\n",
       "      <td>0.488707</td>\n",
       "    </tr>\n",
       "    <tr>\n",
       "      <th>19</th>\n",
       "      <td>-0.279884</td>\n",
       "      <td>0.134644</td>\n",
       "      <td>0.089687</td>\n",
       "      <td>0.219993</td>\n",
       "      <td>0.256659</td>\n",
       "    </tr>\n",
       "    <tr>\n",
       "      <th>20</th>\n",
       "      <td>-0.609332</td>\n",
       "      <td>0.134644</td>\n",
       "      <td>-0.740318</td>\n",
       "      <td>0.483985</td>\n",
       "      <td>0.446517</td>\n",
       "    </tr>\n",
       "    <tr>\n",
       "      <th>21</th>\n",
       "      <td>-1.653068</td>\n",
       "      <td>2.396668</td>\n",
       "      <td>0.220134</td>\n",
       "      <td>0.325590</td>\n",
       "      <td>0.362135</td>\n",
       "    </tr>\n",
       "    <tr>\n",
       "      <th>22</th>\n",
       "      <td>0.545192</td>\n",
       "      <td>0.134644</td>\n",
       "      <td>-1.208059</td>\n",
       "      <td>0.219993</td>\n",
       "      <td>0.235564</td>\n",
       "    </tr>\n",
       "    <tr>\n",
       "      <th>23</th>\n",
       "      <td>-0.142858</td>\n",
       "      <td>0.780937</td>\n",
       "      <td>0.120705</td>\n",
       "      <td>0.272792</td>\n",
       "      <td>0.193373</td>\n",
       "    </tr>\n",
       "  </tbody>\n",
       "</table>\n",
       "</div>"
      ],
      "text/plain": [
       "         DER       ROA  Sales Growth       ROE       NPM\n",
       "0   0.326532 -3.096818     -0.103153 -3.739888 -2.949822\n",
       "1  -0.335278  0.780937     -0.662055  0.853574  1.248137\n",
       "2  -0.486882  0.134644      0.028731  0.378389  0.636374\n",
       "3   1.166185 -0.511648     -0.644937 -0.255192 -0.291818\n",
       "4  -0.912540  0.780937      0.002812  0.642381  1.079375\n",
       "5   0.142858  0.134644     -1.848508  0.325590  0.298850\n",
       "6  -0.364433  0.134644      2.783335  0.483985  0.467612\n",
       "7  -1.615167  1.104083     -0.013943  0.378389  1.374708\n",
       "8   2.854239  0.134644      0.031925  0.589582  0.235564\n",
       "9   0.081633 -1.481087      0.048291 -1.627951 -1.473153\n",
       "10  1.603505 -0.834794     -0.034274 -1.416757 -1.156724\n",
       "11 -0.542276 -1.157941     -0.063989  0.167195  0.130087\n",
       "12  1.548111  0.134644      0.255382 -0.677580 -1.937249\n",
       "13  0.696796  0.457791      0.158788  0.219993  0.151183\n",
       "14 -0.644317 -0.834794     -0.156763  0.853574  0.383231\n",
       "15 -0.034986  0.134644      2.999262  0.853574  0.678564\n",
       "16 -0.740528  0.134644     -0.058814 -0.466386 -1.072343\n",
       "17 -0.157435  0.134644     -0.454088  0.325590  0.214469\n",
       "18 -0.446066  0.134644     -0.750153  0.589582  0.488707\n",
       "19 -0.279884  0.134644      0.089687  0.219993  0.256659\n",
       "20 -0.609332  0.134644     -0.740318  0.483985  0.446517\n",
       "21 -1.653068  2.396668      0.220134  0.325590  0.362135\n",
       "22  0.545192  0.134644     -1.208059  0.219993  0.235564\n",
       "23 -0.142858  0.780937      0.120705  0.272792  0.193373"
      ]
     },
     "execution_count": 8,
     "metadata": {},
     "output_type": "execute_result"
    }
   ],
   "source": [
    "from sklearn.preprocessing import StandardScaler \n",
    "from sklearn import preprocessing\n",
    "x_scaled = StandardScaler().fit_transform(x)\n",
    "data_scaled = pd.DataFrame(x_scaled, columns=df.columns.drop(['Emitten','Category']))\n",
    "\n",
    "data_scaled"
   ]
  },
  {
   "cell_type": "code",
   "execution_count": 9,
   "id": "02b3e4c1",
   "metadata": {
    "execution": {
     "iopub.execute_input": "2022-07-08T14:54:03.531124Z",
     "iopub.status.busy": "2022-07-08T14:54:03.530386Z",
     "iopub.status.idle": "2022-07-08T14:54:03.543736Z",
     "shell.execute_reply": "2022-07-08T14:54:03.542630Z"
    },
    "papermill": {
     "duration": 0.027316,
     "end_time": "2022-07-08T14:54:03.545936",
     "exception": false,
     "start_time": "2022-07-08T14:54:03.518620",
     "status": "completed"
    },
    "tags": []
   },
   "outputs": [
    {
     "data": {
      "text/html": [
       "<div>\n",
       "<style scoped>\n",
       "    .dataframe tbody tr th:only-of-type {\n",
       "        vertical-align: middle;\n",
       "    }\n",
       "\n",
       "    .dataframe tbody tr th {\n",
       "        vertical-align: top;\n",
       "    }\n",
       "\n",
       "    .dataframe thead th {\n",
       "        text-align: right;\n",
       "    }\n",
       "</style>\n",
       "<table border=\"1\" class=\"dataframe\">\n",
       "  <thead>\n",
       "    <tr style=\"text-align: right;\">\n",
       "      <th></th>\n",
       "      <th>Emitten</th>\n",
       "      <th>DER</th>\n",
       "      <th>ROA</th>\n",
       "      <th>Sales Growth</th>\n",
       "      <th>ROE</th>\n",
       "      <th>NPM</th>\n",
       "      <th>Category</th>\n",
       "    </tr>\n",
       "  </thead>\n",
       "  <tbody>\n",
       "    <tr>\n",
       "      <th>0</th>\n",
       "      <td>AGRO</td>\n",
       "      <td>7.150000</td>\n",
       "      <td>-0.090000</td>\n",
       "      <td>-185.032137</td>\n",
       "      <td>-0.720000</td>\n",
       "      <td>-1.400000</td>\n",
       "      <td>3</td>\n",
       "    </tr>\n",
       "    <tr>\n",
       "      <th>1</th>\n",
       "      <td>BBCA</td>\n",
       "      <td>4.880000</td>\n",
       "      <td>0.030000</td>\n",
       "      <td>-1485.583000</td>\n",
       "      <td>0.150000</td>\n",
       "      <td>0.590000</td>\n",
       "      <td>2</td>\n",
       "    </tr>\n",
       "    <tr>\n",
       "      <th>2</th>\n",
       "      <td>BBHI</td>\n",
       "      <td>4.360000</td>\n",
       "      <td>0.010000</td>\n",
       "      <td>121.858090</td>\n",
       "      <td>0.060000</td>\n",
       "      <td>0.300000</td>\n",
       "      <td>2</td>\n",
       "    </tr>\n",
       "    <tr>\n",
       "      <th>3</th>\n",
       "      <td>BBKP</td>\n",
       "      <td>10.030000</td>\n",
       "      <td>-0.010000</td>\n",
       "      <td>-1445.750000</td>\n",
       "      <td>-0.060000</td>\n",
       "      <td>-0.140000</td>\n",
       "      <td>1</td>\n",
       "    </tr>\n",
       "    <tr>\n",
       "      <th>4</th>\n",
       "      <td>BBMD</td>\n",
       "      <td>2.900000</td>\n",
       "      <td>0.030000</td>\n",
       "      <td>61.545475</td>\n",
       "      <td>0.110000</td>\n",
       "      <td>0.510000</td>\n",
       "      <td>2</td>\n",
       "    </tr>\n",
       "    <tr>\n",
       "      <th>5</th>\n",
       "      <td>BBNI</td>\n",
       "      <td>6.520000</td>\n",
       "      <td>0.010000</td>\n",
       "      <td>-4246.426000</td>\n",
       "      <td>0.050000</td>\n",
       "      <td>0.140000</td>\n",
       "      <td>2</td>\n",
       "    </tr>\n",
       "    <tr>\n",
       "      <th>6</th>\n",
       "      <td>BBRI</td>\n",
       "      <td>4.780000</td>\n",
       "      <td>0.010000</td>\n",
       "      <td>6531.747000</td>\n",
       "      <td>0.080000</td>\n",
       "      <td>0.220000</td>\n",
       "      <td>2</td>\n",
       "    </tr>\n",
       "    <tr>\n",
       "      <th>7</th>\n",
       "      <td>BBSI</td>\n",
       "      <td>0.490000</td>\n",
       "      <td>0.040000</td>\n",
       "      <td>22.556467</td>\n",
       "      <td>0.060000</td>\n",
       "      <td>0.650000</td>\n",
       "      <td>2</td>\n",
       "    </tr>\n",
       "    <tr>\n",
       "      <th>8</th>\n",
       "      <td>BBTN</td>\n",
       "      <td>15.820000</td>\n",
       "      <td>0.010000</td>\n",
       "      <td>129.291000</td>\n",
       "      <td>0.100000</td>\n",
       "      <td>0.110000</td>\n",
       "      <td>1</td>\n",
       "    </tr>\n",
       "    <tr>\n",
       "      <th>9</th>\n",
       "      <td>BBYB</td>\n",
       "      <td>6.310000</td>\n",
       "      <td>-0.040000</td>\n",
       "      <td>167.373288</td>\n",
       "      <td>-0.320000</td>\n",
       "      <td>-0.700000</td>\n",
       "      <td>3</td>\n",
       "    </tr>\n",
       "    <tr>\n",
       "      <th>10</th>\n",
       "      <td>BCIC</td>\n",
       "      <td>11.530000</td>\n",
       "      <td>-0.020000</td>\n",
       "      <td>-24.753000</td>\n",
       "      <td>-0.280000</td>\n",
       "      <td>-0.550000</td>\n",
       "      <td>1</td>\n",
       "    </tr>\n",
       "    <tr>\n",
       "      <th>11</th>\n",
       "      <td>BEKS</td>\n",
       "      <td>4.170000</td>\n",
       "      <td>-0.030000</td>\n",
       "      <td>-93.899000</td>\n",
       "      <td>0.020000</td>\n",
       "      <td>0.060000</td>\n",
       "      <td>2</td>\n",
       "    </tr>\n",
       "    <tr>\n",
       "      <th>12</th>\n",
       "      <td>BJBR</td>\n",
       "      <td>11.340000</td>\n",
       "      <td>0.010000</td>\n",
       "      <td>649.269000</td>\n",
       "      <td>-0.140000</td>\n",
       "      <td>-0.920000</td>\n",
       "      <td>1</td>\n",
       "    </tr>\n",
       "    <tr>\n",
       "      <th>13</th>\n",
       "      <td>BJTM</td>\n",
       "      <td>8.420000</td>\n",
       "      <td>0.020000</td>\n",
       "      <td>424.496000</td>\n",
       "      <td>0.030000</td>\n",
       "      <td>0.070000</td>\n",
       "      <td>2</td>\n",
       "    </tr>\n",
       "    <tr>\n",
       "      <th>14</th>\n",
       "      <td>BKSW</td>\n",
       "      <td>3.820000</td>\n",
       "      <td>-0.020000</td>\n",
       "      <td>-309.781000</td>\n",
       "      <td>0.150000</td>\n",
       "      <td>0.180000</td>\n",
       "      <td>2</td>\n",
       "    </tr>\n",
       "    <tr>\n",
       "      <th>15</th>\n",
       "      <td>BMRI</td>\n",
       "      <td>5.910000</td>\n",
       "      <td>0.010000</td>\n",
       "      <td>7034.205000</td>\n",
       "      <td>0.150000</td>\n",
       "      <td>0.320000</td>\n",
       "      <td>2</td>\n",
       "    </tr>\n",
       "    <tr>\n",
       "      <th>16</th>\n",
       "      <td>BNBA</td>\n",
       "      <td>3.490000</td>\n",
       "      <td>0.010000</td>\n",
       "      <td>-81.856421</td>\n",
       "      <td>-0.100000</td>\n",
       "      <td>-0.510000</td>\n",
       "      <td>2</td>\n",
       "    </tr>\n",
       "    <tr>\n",
       "      <th>17</th>\n",
       "      <td>BNGA</td>\n",
       "      <td>5.490000</td>\n",
       "      <td>0.010000</td>\n",
       "      <td>-1001.648000</td>\n",
       "      <td>0.050000</td>\n",
       "      <td>0.100000</td>\n",
       "      <td>2</td>\n",
       "    </tr>\n",
       "    <tr>\n",
       "      <th>18</th>\n",
       "      <td>BNII</td>\n",
       "      <td>4.500000</td>\n",
       "      <td>0.010000</td>\n",
       "      <td>-1690.584000</td>\n",
       "      <td>0.100000</td>\n",
       "      <td>0.230000</td>\n",
       "      <td>2</td>\n",
       "    </tr>\n",
       "    <tr>\n",
       "      <th>19</th>\n",
       "      <td>BNLI</td>\n",
       "      <td>5.070000</td>\n",
       "      <td>0.010000</td>\n",
       "      <td>263.701000</td>\n",
       "      <td>0.030000</td>\n",
       "      <td>0.120000</td>\n",
       "      <td>2</td>\n",
       "    </tr>\n",
       "    <tr>\n",
       "      <th>20</th>\n",
       "      <td>BTPN</td>\n",
       "      <td>3.940000</td>\n",
       "      <td>0.010000</td>\n",
       "      <td>-1667.699000</td>\n",
       "      <td>0.080000</td>\n",
       "      <td>0.210000</td>\n",
       "      <td>2</td>\n",
       "    </tr>\n",
       "    <tr>\n",
       "      <th>21</th>\n",
       "      <td>BTPS</td>\n",
       "      <td>0.360000</td>\n",
       "      <td>0.080000</td>\n",
       "      <td>567.248000</td>\n",
       "      <td>0.050000</td>\n",
       "      <td>0.170000</td>\n",
       "      <td>2</td>\n",
       "    </tr>\n",
       "    <tr>\n",
       "      <th>22</th>\n",
       "      <td>MASB</td>\n",
       "      <td>7.900000</td>\n",
       "      <td>0.010000</td>\n",
       "      <td>-2756.119855</td>\n",
       "      <td>0.030000</td>\n",
       "      <td>0.110000</td>\n",
       "      <td>2</td>\n",
       "    </tr>\n",
       "    <tr>\n",
       "      <th>23</th>\n",
       "      <td>MEGA</td>\n",
       "      <td>5.540000</td>\n",
       "      <td>0.030000</td>\n",
       "      <td>335.879344</td>\n",
       "      <td>0.040000</td>\n",
       "      <td>0.090000</td>\n",
       "      <td>2</td>\n",
       "    </tr>\n",
       "  </tbody>\n",
       "</table>\n",
       "</div>"
      ],
      "text/plain": [
       "   Emitten       DER       ROA  Sales Growth       ROE       NPM  Category\n",
       "0     AGRO  7.150000 -0.090000   -185.032137 -0.720000 -1.400000         3\n",
       "1     BBCA  4.880000  0.030000  -1485.583000  0.150000  0.590000         2\n",
       "2     BBHI  4.360000  0.010000    121.858090  0.060000  0.300000         2\n",
       "3     BBKP 10.030000 -0.010000  -1445.750000 -0.060000 -0.140000         1\n",
       "4     BBMD  2.900000  0.030000     61.545475  0.110000  0.510000         2\n",
       "5     BBNI  6.520000  0.010000  -4246.426000  0.050000  0.140000         2\n",
       "6     BBRI  4.780000  0.010000   6531.747000  0.080000  0.220000         2\n",
       "7     BBSI  0.490000  0.040000     22.556467  0.060000  0.650000         2\n",
       "8     BBTN 15.820000  0.010000    129.291000  0.100000  0.110000         1\n",
       "9     BBYB  6.310000 -0.040000    167.373288 -0.320000 -0.700000         3\n",
       "10    BCIC 11.530000 -0.020000    -24.753000 -0.280000 -0.550000         1\n",
       "11    BEKS  4.170000 -0.030000    -93.899000  0.020000  0.060000         2\n",
       "12    BJBR 11.340000  0.010000    649.269000 -0.140000 -0.920000         1\n",
       "13    BJTM  8.420000  0.020000    424.496000  0.030000  0.070000         2\n",
       "14    BKSW  3.820000 -0.020000   -309.781000  0.150000  0.180000         2\n",
       "15    BMRI  5.910000  0.010000   7034.205000  0.150000  0.320000         2\n",
       "16    BNBA  3.490000  0.010000    -81.856421 -0.100000 -0.510000         2\n",
       "17    BNGA  5.490000  0.010000  -1001.648000  0.050000  0.100000         2\n",
       "18    BNII  4.500000  0.010000  -1690.584000  0.100000  0.230000         2\n",
       "19    BNLI  5.070000  0.010000    263.701000  0.030000  0.120000         2\n",
       "20    BTPN  3.940000  0.010000  -1667.699000  0.080000  0.210000         2\n",
       "21    BTPS  0.360000  0.080000    567.248000  0.050000  0.170000         2\n",
       "22    MASB  7.900000  0.010000  -2756.119855  0.030000  0.110000         2\n",
       "23    MEGA  5.540000  0.030000    335.879344  0.040000  0.090000         2"
      ]
     },
     "metadata": {},
     "output_type": "display_data"
    }
   ],
   "source": [
    "display(df)"
   ]
  },
  {
   "cell_type": "markdown",
   "id": "a52373b9",
   "metadata": {
    "papermill": {
     "duration": 0.010419,
     "end_time": "2022-07-08T14:54:03.567210",
     "exception": false,
     "start_time": "2022-07-08T14:54:03.556791",
     "status": "completed"
    },
    "tags": []
   },
   "source": [
    "Split Data, tentukan X train, Y train, X test dan Y test"
   ]
  },
  {
   "cell_type": "code",
   "execution_count": 10,
   "id": "78854c6d",
   "metadata": {
    "execution": {
     "iopub.execute_input": "2022-07-08T14:54:03.591059Z",
     "iopub.status.busy": "2022-07-08T14:54:03.590489Z",
     "iopub.status.idle": "2022-07-08T14:54:03.596293Z",
     "shell.execute_reply": "2022-07-08T14:54:03.595516Z"
    },
    "papermill": {
     "duration": 0.020233,
     "end_time": "2022-07-08T14:54:03.598255",
     "exception": false,
     "start_time": "2022-07-08T14:54:03.578022",
     "status": "completed"
    },
    "tags": []
   },
   "outputs": [],
   "source": [
    "trainX, testX, trainY, testY = train_test_split(x, y, test_size = 0.3)"
   ]
  },
  {
   "cell_type": "markdown",
   "id": "aeab8d5b",
   "metadata": {
    "papermill": {
     "duration": 0.010637,
     "end_time": "2022-07-08T14:54:03.620245",
     "exception": false,
     "start_time": "2022-07-08T14:54:03.609608",
     "status": "completed"
    },
    "tags": []
   },
   "source": [
    "training size : 70%\n",
    "testing size : 30%\n",
    "semakin besar data training, semakin besar akurasi"
   ]
  },
  {
   "cell_type": "markdown",
   "id": "65691b1e",
   "metadata": {
    "papermill": {
     "duration": 0.010395,
     "end_time": "2022-07-08T14:54:03.641260",
     "exception": false,
     "start_time": "2022-07-08T14:54:03.630865",
     "status": "completed"
    },
    "tags": []
   },
   "source": [
    "**Multinomial Logit with the statsmodel library**"
   ]
  },
  {
   "cell_type": "code",
   "execution_count": 11,
   "id": "b8eb78ae",
   "metadata": {
    "execution": {
     "iopub.execute_input": "2022-07-08T14:54:03.664950Z",
     "iopub.status.busy": "2022-07-08T14:54:03.664278Z",
     "iopub.status.idle": "2022-07-08T14:54:03.748322Z",
     "shell.execute_reply": "2022-07-08T14:54:03.747048Z"
    },
    "papermill": {
     "duration": 0.100598,
     "end_time": "2022-07-08T14:54:03.752539",
     "exception": false,
     "start_time": "2022-07-08T14:54:03.651941",
     "status": "completed"
    },
    "tags": []
   },
   "outputs": [
    {
     "name": "stdout",
     "output_type": "stream",
     "text": [
      "Optimization terminated successfully.\n",
      "         Current function value: 0.000004\n",
      "         Iterations: 21\n",
      "         Function evaluations: 22\n",
      "         Gradient evaluations: 22\n",
      "                          MNLogit Regression Results                          \n",
      "==============================================================================\n",
      "Dep. Variable:               Category   No. Observations:                   24\n",
      "Model:                        MNLogit   Df Residuals:                       12\n",
      "Method:                           MLE   Df Model:                           10\n",
      "Date:                Fri, 08 Jul 2022   Pseudo R-squ.:                   1.000\n",
      "Time:                        14:54:03   Log-Likelihood:            -8.6197e-05\n",
      "converged:                       True   LL-Null:                       -17.315\n",
      "Covariance Type:            nonrobust   LLR p-value:                 0.0001444\n",
      "================================================================================\n",
      "  Category=2       coef    std err          z      P>|z|      [0.025      0.975]\n",
      "--------------------------------------------------------------------------------\n",
      "const           23.7359   8.06e+05   2.95e-05      1.000   -1.58e+06    1.58e+06\n",
      " DER           -21.9468   7.23e+05  -3.04e-05      1.000   -1.42e+06    1.42e+06\n",
      "ROA              7.6425   1.86e+06   4.11e-06      1.000   -3.65e+06    3.65e+06\n",
      "Sales Growth    -0.4235   5.02e+05  -8.44e-07      1.000   -9.83e+05    9.83e+05\n",
      "ROE             11.5817   3.53e+06   3.28e-06      1.000   -6.91e+06    6.91e+06\n",
      "NPM             10.9838    1.7e+06   6.46e-06      1.000   -3.33e+06    3.33e+06\n",
      "--------------------------------------------------------------------------------\n",
      "  Category=3       coef    std err          z      P>|z|      [0.025      0.975]\n",
      "--------------------------------------------------------------------------------\n",
      "const          -15.4631   6.23e+06  -2.48e-06      1.000   -1.22e+07    1.22e+07\n",
      " DER           -11.7969   3.87e+05  -3.05e-05      1.000   -7.58e+05    7.58e+05\n",
      "ROA             -7.6881   2.31e+06  -3.32e-06      1.000   -4.53e+06    4.53e+06\n",
      "Sales Growth     1.4579   9.25e+06   1.58e-07      1.000   -1.81e+07    1.81e+07\n",
      "ROE             -7.3254   3.08e+06  -2.38e-06      1.000   -6.03e+06    6.03e+06\n",
      "NPM             -1.7051    3.5e+06  -4.88e-07      1.000   -6.85e+06    6.85e+06\n",
      "================================================================================\n"
     ]
    }
   ],
   "source": [
    "mnlogit_mod = sm.MNLogit(y,sm.add_constant(data_scaled))\n",
    "mnlogit_fit = mnlogit_mod.fit(method='bfgs')\n",
    "\n",
    "print (mnlogit_fit.summary())"
   ]
  },
  {
   "cell_type": "markdown",
   "id": "7044fff7",
   "metadata": {
    "papermill": {
     "duration": 0.022228,
     "end_time": "2022-07-08T14:54:03.799327",
     "exception": false,
     "start_time": "2022-07-08T14:54:03.777099",
     "status": "completed"
    },
    "tags": []
   },
   "source": [
    "**Fit The Model\n",
    "\n",
    "Y Prediction**"
   ]
  },
  {
   "cell_type": "code",
   "execution_count": 12,
   "id": "b85a8ed4",
   "metadata": {
    "execution": {
     "iopub.execute_input": "2022-07-08T14:54:03.835842Z",
     "iopub.status.busy": "2022-07-08T14:54:03.835490Z",
     "iopub.status.idle": "2022-07-08T14:54:03.871375Z",
     "shell.execute_reply": "2022-07-08T14:54:03.869976Z"
    },
    "papermill": {
     "duration": 0.051867,
     "end_time": "2022-07-08T14:54:03.873827",
     "exception": false,
     "start_time": "2022-07-08T14:54:03.821960",
     "status": "completed"
    },
    "tags": []
   },
   "outputs": [
    {
     "name": "stderr",
     "output_type": "stream",
     "text": [
      "/opt/conda/lib/python3.7/site-packages/sklearn/linear_model/_logistic.py:818: ConvergenceWarning: lbfgs failed to converge (status=1):\n",
      "STOP: TOTAL NO. of ITERATIONS REACHED LIMIT.\n",
      "\n",
      "Increase the number of iterations (max_iter) or scale the data as shown in:\n",
      "    https://scikit-learn.org/stable/modules/preprocessing.html\n",
      "Please also refer to the documentation for alternative solver options:\n",
      "    https://scikit-learn.org/stable/modules/linear_model.html#logistic-regression\n",
      "  extra_warning_msg=_LOGISTIC_SOLVER_CONVERGENCE_MSG,\n"
     ]
    },
    {
     "data": {
      "text/plain": [
       "array([2, 3, 2, 2, 2, 2, 1, 2])"
      ]
     },
     "execution_count": 12,
     "metadata": {},
     "output_type": "execute_result"
    }
   ],
   "source": [
    "logistic_regresion = LogisticRegression(multi_class='auto').fit(x,y)\n",
    "y_pred = logistic_regresion.predict(testX)\n",
    "y_pred"
   ]
  },
  {
   "cell_type": "markdown",
   "id": "38f88bb9",
   "metadata": {
    "papermill": {
     "duration": 0.010976,
     "end_time": "2022-07-08T14:54:03.896564",
     "exception": false,
     "start_time": "2022-07-08T14:54:03.885588",
     "status": "completed"
    },
    "tags": []
   },
   "source": [
    " **Intercept**"
   ]
  },
  {
   "cell_type": "code",
   "execution_count": 13,
   "id": "f999aa76",
   "metadata": {
    "execution": {
     "iopub.execute_input": "2022-07-08T14:54:03.920466Z",
     "iopub.status.busy": "2022-07-08T14:54:03.920077Z",
     "iopub.status.idle": "2022-07-08T14:54:03.925142Z",
     "shell.execute_reply": "2022-07-08T14:54:03.924114Z"
    },
    "papermill": {
     "duration": 0.020227,
     "end_time": "2022-07-08T14:54:03.927811",
     "exception": false,
     "start_time": "2022-07-08T14:54:03.907584",
     "status": "completed"
    },
    "tags": []
   },
   "outputs": [
    {
     "name": "stdout",
     "output_type": "stream",
     "text": [
      "Intercept : [-3.1010003   3.7690791  -0.66807881]\n"
     ]
    }
   ],
   "source": [
    "print('Intercept :', logistic_regresion.intercept_)"
   ]
  },
  {
   "cell_type": "markdown",
   "id": "a8b6387b",
   "metadata": {
    "papermill": {
     "duration": 0.011007,
     "end_time": "2022-07-08T14:54:03.951306",
     "exception": false,
     "start_time": "2022-07-08T14:54:03.940299",
     "status": "completed"
    },
    "tags": []
   },
   "source": [
    "**Koefisien**"
   ]
  },
  {
   "cell_type": "code",
   "execution_count": 14,
   "id": "88a784f9",
   "metadata": {
    "execution": {
     "iopub.execute_input": "2022-07-08T14:54:03.976760Z",
     "iopub.status.busy": "2022-07-08T14:54:03.976046Z",
     "iopub.status.idle": "2022-07-08T14:54:03.981404Z",
     "shell.execute_reply": "2022-07-08T14:54:03.980398Z"
    },
    "papermill": {
     "duration": 0.020762,
     "end_time": "2022-07-08T14:54:03.983877",
     "exception": false,
     "start_time": "2022-07-08T14:54:03.963115",
     "status": "completed"
    },
    "tags": []
   },
   "outputs": [
    {
     "name": "stdout",
     "output_type": "stream",
     "text": [
      "[[ 4.35344712e-01  1.53302075e-02  2.37005600e-05  1.66909640e-01\n",
      "  -2.52989557e-03]\n",
      " [-2.61259391e-01  8.62296063e-02 -6.93210331e-05  4.98474857e-01\n",
      "   1.30733967e+00]\n",
      " [-1.74085322e-01 -1.01559814e-01  4.56204739e-05 -6.65384497e-01\n",
      "  -1.30480977e+00]]\n"
     ]
    }
   ],
   "source": [
    "print(logistic_regresion.coef_)"
   ]
  },
  {
   "cell_type": "markdown",
   "id": "00d0bfb6",
   "metadata": {
    "papermill": {
     "duration": 0.011065,
     "end_time": "2022-07-08T14:54:04.006370",
     "exception": false,
     "start_time": "2022-07-08T14:54:03.995305",
     "status": "completed"
    },
    "tags": []
   },
   "source": [
    "**Model Validation / Testing The Model******"
   ]
  },
  {
   "cell_type": "markdown",
   "id": "bfbf4ca3",
   "metadata": {
    "papermill": {
     "duration": 0.01096,
     "end_time": "2022-07-08T14:54:04.028630",
     "exception": false,
     "start_time": "2022-07-08T14:54:04.017670",
     "status": "completed"
    },
    "tags": []
   },
   "source": [
    "Mendapatkan Prediction test menggunakan model"
   ]
  },
  {
   "cell_type": "code",
   "execution_count": 15,
   "id": "531bdd29",
   "metadata": {
    "execution": {
     "iopub.execute_input": "2022-07-08T14:54:04.052782Z",
     "iopub.status.busy": "2022-07-08T14:54:04.052414Z",
     "iopub.status.idle": "2022-07-08T14:54:04.058676Z",
     "shell.execute_reply": "2022-07-08T14:54:04.057516Z"
    },
    "papermill": {
     "duration": 0.02084,
     "end_time": "2022-07-08T14:54:04.060615",
     "exception": false,
     "start_time": "2022-07-08T14:54:04.039775",
     "status": "completed"
    },
    "tags": []
   },
   "outputs": [],
   "source": [
    "prediction_test = logistic_regresion.predict(testX)"
   ]
  },
  {
   "cell_type": "markdown",
   "id": "35497649",
   "metadata": {
    "papermill": {
     "duration": 0.010911,
     "end_time": "2022-07-08T14:54:04.082720",
     "exception": false,
     "start_time": "2022-07-08T14:54:04.071809",
     "status": "completed"
    },
    "tags": []
   },
   "source": [
    "Print akurasi dan error rate"
   ]
  },
  {
   "cell_type": "code",
   "execution_count": 16,
   "id": "52afbd7a",
   "metadata": {
    "execution": {
     "iopub.execute_input": "2022-07-08T14:54:04.107548Z",
     "iopub.status.busy": "2022-07-08T14:54:04.106327Z",
     "iopub.status.idle": "2022-07-08T14:54:04.113517Z",
     "shell.execute_reply": "2022-07-08T14:54:04.112274Z"
    },
    "papermill": {
     "duration": 0.021692,
     "end_time": "2022-07-08T14:54:04.115614",
     "exception": false,
     "start_time": "2022-07-08T14:54:04.093922",
     "status": "completed"
    },
    "tags": []
   },
   "outputs": [
    {
     "name": "stdout",
     "output_type": "stream",
     "text": [
      "Accuracy: 1.00\n",
      "Error rate: 0.00\n"
     ]
    }
   ],
   "source": [
    "print('Accuracy: {:.2f}'.format(accuracy_score(testY, y_pred)))\n",
    "print('Error rate: {:.2f}'.format(1 - accuracy_score(testY, y_pred)))"
   ]
  },
  {
   "cell_type": "markdown",
   "id": "99967aeb",
   "metadata": {
    "papermill": {
     "duration": 0.011067,
     "end_time": "2022-07-08T14:54:04.138057",
     "exception": false,
     "start_time": "2022-07-08T14:54:04.126990",
     "status": "completed"
    },
    "tags": []
   },
   "source": [
    "**Matrix**"
   ]
  },
  {
   "cell_type": "code",
   "execution_count": 17,
   "id": "9f626cd5",
   "metadata": {
    "execution": {
     "iopub.execute_input": "2022-07-08T14:54:04.164025Z",
     "iopub.status.busy": "2022-07-08T14:54:04.162957Z",
     "iopub.status.idle": "2022-07-08T14:54:04.171953Z",
     "shell.execute_reply": "2022-07-08T14:54:04.170669Z"
    },
    "papermill": {
     "duration": 0.024597,
     "end_time": "2022-07-08T14:54:04.174322",
     "exception": false,
     "start_time": "2022-07-08T14:54:04.149725",
     "status": "completed"
    },
    "tags": []
   },
   "outputs": [
    {
     "name": "stdout",
     "output_type": "stream",
     "text": [
      "[[1 0 0]\n",
      " [0 6 0]\n",
      " [0 0 1]]\n"
     ]
    }
   ],
   "source": [
    "confusion_matrix = confusion_matrix(testY, y_pred)\n",
    "print(confusion_matrix)"
   ]
  },
  {
   "cell_type": "code",
   "execution_count": 18,
   "id": "4acb692e",
   "metadata": {
    "execution": {
     "iopub.execute_input": "2022-07-08T14:54:04.199038Z",
     "iopub.status.busy": "2022-07-08T14:54:04.198603Z",
     "iopub.status.idle": "2022-07-08T14:54:04.426135Z",
     "shell.execute_reply": "2022-07-08T14:54:04.424732Z"
    },
    "papermill": {
     "duration": 0.243792,
     "end_time": "2022-07-08T14:54:04.429605",
     "exception": false,
     "start_time": "2022-07-08T14:54:04.185813",
     "status": "completed"
    },
    "tags": []
   },
   "outputs": [
    {
     "data": {
      "image/png": "[encoded data removed]",
      "text/plain": [
       "<Figure size 288x288 with 1 Axes>"
      ]
     },
     "metadata": {
      "needs_background": "light"
     },
     "output_type": "display_data"
    }
   ],
   "source": [
    "plt.matshow(confusion_matrix, cmap=plt.cm.gray)\n",
    "plt.show()"
   ]
  },
  {
   "cell_type": "markdown",
   "id": "bdcddfbb",
   "metadata": {
    "papermill": {
     "duration": 0.02367,
     "end_time": "2022-07-08T14:54:04.477514",
     "exception": false,
     "start_time": "2022-07-08T14:54:04.453844",
     "status": "completed"
    },
    "tags": []
   },
   "source": [
    "**Probabilitas**"
   ]
  },
  {
   "cell_type": "code",
   "execution_count": 19,
   "id": "000cd6a0",
   "metadata": {
    "execution": {
     "iopub.execute_input": "2022-07-08T14:54:04.507259Z",
     "iopub.status.busy": "2022-07-08T14:54:04.506285Z",
     "iopub.status.idle": "2022-07-08T14:54:04.515161Z",
     "shell.execute_reply": "2022-07-08T14:54:04.514255Z"
    },
    "papermill": {
     "duration": 0.023875,
     "end_time": "2022-07-08T14:54:04.517208",
     "exception": false,
     "start_time": "2022-07-08T14:54:04.493333",
     "status": "completed"
    },
    "tags": []
   },
   "outputs": [
    {
     "data": {
      "text/plain": [
       "array([[0.01677231, 0.96951951, 0.01370819],\n",
       "       [0.28590372, 0.24063996, 0.47345633],\n",
       "       [0.01170168, 0.98560877, 0.00268955],\n",
       "       [0.04197627, 0.94391008, 0.01411365],\n",
       "       [0.01004976, 0.98284006, 0.00711019],\n",
       "       [0.01416738, 0.97853441, 0.00729821],\n",
       "       [0.87787992, 0.0845136 , 0.03760648],\n",
       "       [0.14302871, 0.84646822, 0.01050307]])"
      ]
     },
     "execution_count": 19,
     "metadata": {},
     "output_type": "execute_result"
    }
   ],
   "source": [
    "probability = logistic_regresion.predict_proba(testX)\n",
    "probability"
   ]
  },
  {
   "cell_type": "code",
   "execution_count": 20,
   "id": "7086b8f1",
   "metadata": {
    "execution": {
     "iopub.execute_input": "2022-07-08T14:54:04.542579Z",
     "iopub.status.busy": "2022-07-08T14:54:04.541828Z",
     "iopub.status.idle": "2022-07-08T14:54:04.548441Z",
     "shell.execute_reply": "2022-07-08T14:54:04.547033Z"
    },
    "papermill": {
     "duration": 0.021857,
     "end_time": "2022-07-08T14:54:04.550621",
     "exception": false,
     "start_time": "2022-07-08T14:54:04.528764",
     "status": "completed"
    },
    "tags": []
   },
   "outputs": [
    {
     "name": "stdout",
     "output_type": "stream",
     "text": [
      "8\n",
      "8\n"
     ]
    }
   ],
   "source": [
    "print(probability.shape[0])\n",
    "print(testX.shape[0])"
   ]
  },
  {
   "cell_type": "markdown",
   "id": "bb7fec97",
   "metadata": {
    "papermill": {
     "duration": 0.01156,
     "end_time": "2022-07-08T14:54:04.573857",
     "exception": false,
     "start_time": "2022-07-08T14:54:04.562297",
     "status": "completed"
    },
    "tags": []
   },
   "source": [
    "Disini, kita dapat melihat bahwa panjang data probabilitas (8) = panjang data uji (8)"
   ]
  },
  {
   "cell_type": "code",
   "execution_count": 21,
   "id": "bcc5853b",
   "metadata": {
    "execution": {
     "iopub.execute_input": "2022-07-08T14:54:04.600331Z",
     "iopub.status.busy": "2022-07-08T14:54:04.599618Z",
     "iopub.status.idle": "2022-07-08T14:54:04.604045Z",
     "shell.execute_reply": "2022-07-08T14:54:04.603331Z"
    },
    "papermill": {
     "duration": 0.02042,
     "end_time": "2022-07-08T14:54:04.606109",
     "exception": false,
     "start_time": "2022-07-08T14:54:04.585689",
     "status": "completed"
    },
    "tags": []
   },
   "outputs": [],
   "source": [
    "#data_result = pd.DataFrame(logistic_regresion.coef_, columns=x.columns)\n",
    "#data_result['intercept'] = log_reg_result.intercept_\n",
    "#data_result['class'] = logistic_regresion.classes_\n",
    "\n",
    "#data_result"
   ]
  },
  {
   "cell_type": "code",
   "execution_count": 22,
   "id": "b5dbf153",
   "metadata": {
    "execution": {
     "iopub.execute_input": "2022-07-08T14:54:04.631779Z",
     "iopub.status.busy": "2022-07-08T14:54:04.631033Z",
     "iopub.status.idle": "2022-07-08T14:54:04.643915Z",
     "shell.execute_reply": "2022-07-08T14:54:04.642714Z"
    },
    "papermill": {
     "duration": 0.02841,
     "end_time": "2022-07-08T14:54:04.646147",
     "exception": false,
     "start_time": "2022-07-08T14:54:04.617737",
     "status": "completed"
    },
    "tags": []
   },
   "outputs": [
    {
     "data": {
      "text/html": [
       "<div>\n",
       "<style scoped>\n",
       "    .dataframe tbody tr th:only-of-type {\n",
       "        vertical-align: middle;\n",
       "    }\n",
       "\n",
       "    .dataframe tbody tr th {\n",
       "        vertical-align: top;\n",
       "    }\n",
       "\n",
       "    .dataframe thead th {\n",
       "        text-align: right;\n",
       "    }\n",
       "</style>\n",
       "<table border=\"1\" class=\"dataframe\">\n",
       "  <thead>\n",
       "    <tr style=\"text-align: right;\">\n",
       "      <th></th>\n",
       "      <th>1</th>\n",
       "      <th>2</th>\n",
       "      <th>3</th>\n",
       "    </tr>\n",
       "  </thead>\n",
       "  <tbody>\n",
       "    <tr>\n",
       "      <th>0</th>\n",
       "      <td>0.016772</td>\n",
       "      <td>0.969520</td>\n",
       "      <td>0.013708</td>\n",
       "    </tr>\n",
       "    <tr>\n",
       "      <th>1</th>\n",
       "      <td>0.285904</td>\n",
       "      <td>0.240640</td>\n",
       "      <td>0.473456</td>\n",
       "    </tr>\n",
       "    <tr>\n",
       "      <th>2</th>\n",
       "      <td>0.011702</td>\n",
       "      <td>0.985609</td>\n",
       "      <td>0.002690</td>\n",
       "    </tr>\n",
       "    <tr>\n",
       "      <th>3</th>\n",
       "      <td>0.041976</td>\n",
       "      <td>0.943910</td>\n",
       "      <td>0.014114</td>\n",
       "    </tr>\n",
       "    <tr>\n",
       "      <th>4</th>\n",
       "      <td>0.010050</td>\n",
       "      <td>0.982840</td>\n",
       "      <td>0.007110</td>\n",
       "    </tr>\n",
       "    <tr>\n",
       "      <th>5</th>\n",
       "      <td>0.014167</td>\n",
       "      <td>0.978534</td>\n",
       "      <td>0.007298</td>\n",
       "    </tr>\n",
       "    <tr>\n",
       "      <th>6</th>\n",
       "      <td>0.877880</td>\n",
       "      <td>0.084514</td>\n",
       "      <td>0.037606</td>\n",
       "    </tr>\n",
       "    <tr>\n",
       "      <th>7</th>\n",
       "      <td>0.143029</td>\n",
       "      <td>0.846468</td>\n",
       "      <td>0.010503</td>\n",
       "    </tr>\n",
       "  </tbody>\n",
       "</table>\n",
       "</div>"
      ],
      "text/plain": [
       "         1        2        3\n",
       "0 0.016772 0.969520 0.013708\n",
       "1 0.285904 0.240640 0.473456\n",
       "2 0.011702 0.985609 0.002690\n",
       "3 0.041976 0.943910 0.014114\n",
       "4 0.010050 0.982840 0.007110\n",
       "5 0.014167 0.978534 0.007298\n",
       "6 0.877880 0.084514 0.037606\n",
       "7 0.143029 0.846468 0.010503"
      ]
     },
     "execution_count": 22,
     "metadata": {},
     "output_type": "execute_result"
    }
   ],
   "source": [
    "data_result = pd.DataFrame(logistic_regresion.predict_proba(testX), columns=logistic_regresion.classes_)\n",
    "data_result"
   ]
  },
  {
   "cell_type": "markdown",
   "id": "5e22cabb",
   "metadata": {
    "papermill": {
     "duration": 0.011631,
     "end_time": "2022-07-08T14:54:04.669650",
     "exception": false,
     "start_time": "2022-07-08T14:54:04.658019",
     "status": "completed"
    },
    "tags": []
   },
   "source": [
    "Sum / jumlah probabilitas harus selalu 1"
   ]
  },
  {
   "cell_type": "code",
   "execution_count": 23,
   "id": "1e6a8625",
   "metadata": {
    "execution": {
     "iopub.execute_input": "2022-07-08T14:54:04.695339Z",
     "iopub.status.busy": "2022-07-08T14:54:04.694621Z",
     "iopub.status.idle": "2022-07-08T14:54:04.706070Z",
     "shell.execute_reply": "2022-07-08T14:54:04.705096Z"
    },
    "papermill": {
     "duration": 0.026698,
     "end_time": "2022-07-08T14:54:04.708203",
     "exception": false,
     "start_time": "2022-07-08T14:54:04.681505",
     "status": "completed"
    },
    "tags": []
   },
   "outputs": [
    {
     "data": {
      "text/html": [
       "<div>\n",
       "<style scoped>\n",
       "    .dataframe tbody tr th:only-of-type {\n",
       "        vertical-align: middle;\n",
       "    }\n",
       "\n",
       "    .dataframe tbody tr th {\n",
       "        vertical-align: top;\n",
       "    }\n",
       "\n",
       "    .dataframe thead th {\n",
       "        text-align: right;\n",
       "    }\n",
       "</style>\n",
       "<table border=\"1\" class=\"dataframe\">\n",
       "  <thead>\n",
       "    <tr style=\"text-align: right;\">\n",
       "      <th></th>\n",
       "      <th>1</th>\n",
       "      <th>2</th>\n",
       "      <th>3</th>\n",
       "      <th>sum</th>\n",
       "    </tr>\n",
       "  </thead>\n",
       "  <tbody>\n",
       "    <tr>\n",
       "      <th>0</th>\n",
       "      <td>0.016772</td>\n",
       "      <td>0.969520</td>\n",
       "      <td>0.013708</td>\n",
       "      <td>1.000000</td>\n",
       "    </tr>\n",
       "    <tr>\n",
       "      <th>1</th>\n",
       "      <td>0.285904</td>\n",
       "      <td>0.240640</td>\n",
       "      <td>0.473456</td>\n",
       "      <td>1.000000</td>\n",
       "    </tr>\n",
       "    <tr>\n",
       "      <th>2</th>\n",
       "      <td>0.011702</td>\n",
       "      <td>0.985609</td>\n",
       "      <td>0.002690</td>\n",
       "      <td>1.000000</td>\n",
       "    </tr>\n",
       "    <tr>\n",
       "      <th>3</th>\n",
       "      <td>0.041976</td>\n",
       "      <td>0.943910</td>\n",
       "      <td>0.014114</td>\n",
       "      <td>1.000000</td>\n",
       "    </tr>\n",
       "    <tr>\n",
       "      <th>4</th>\n",
       "      <td>0.010050</td>\n",
       "      <td>0.982840</td>\n",
       "      <td>0.007110</td>\n",
       "      <td>1.000000</td>\n",
       "    </tr>\n",
       "    <tr>\n",
       "      <th>5</th>\n",
       "      <td>0.014167</td>\n",
       "      <td>0.978534</td>\n",
       "      <td>0.007298</td>\n",
       "      <td>1.000000</td>\n",
       "    </tr>\n",
       "    <tr>\n",
       "      <th>6</th>\n",
       "      <td>0.877880</td>\n",
       "      <td>0.084514</td>\n",
       "      <td>0.037606</td>\n",
       "      <td>1.000000</td>\n",
       "    </tr>\n",
       "    <tr>\n",
       "      <th>7</th>\n",
       "      <td>0.143029</td>\n",
       "      <td>0.846468</td>\n",
       "      <td>0.010503</td>\n",
       "      <td>1.000000</td>\n",
       "    </tr>\n",
       "  </tbody>\n",
       "</table>\n",
       "</div>"
      ],
      "text/plain": [
       "         1        2        3      sum\n",
       "0 0.016772 0.969520 0.013708 1.000000\n",
       "1 0.285904 0.240640 0.473456 1.000000\n",
       "2 0.011702 0.985609 0.002690 1.000000\n",
       "3 0.041976 0.943910 0.014114 1.000000\n",
       "4 0.010050 0.982840 0.007110 1.000000\n",
       "5 0.014167 0.978534 0.007298 1.000000\n",
       "6 0.877880 0.084514 0.037606 1.000000\n",
       "7 0.143029 0.846468 0.010503 1.000000"
      ]
     },
     "execution_count": 23,
     "metadata": {},
     "output_type": "execute_result"
    }
   ],
   "source": [
    "data_result['sum'] = data_result.sum(axis=1)\n",
    "data_result"
   ]
  },
  {
   "cell_type": "markdown",
   "id": "0cc5e8a3",
   "metadata": {
    "papermill": {
     "duration": 0.012717,
     "end_time": "2022-07-08T14:54:04.732921",
     "exception": false,
     "start_time": "2022-07-08T14:54:04.720204",
     "status": "completed"
    },
    "tags": []
   },
   "source": [
    "Lihat Predicted class"
   ]
  },
  {
   "cell_type": "code",
   "execution_count": 24,
   "id": "53887852",
   "metadata": {
    "execution": {
     "iopub.execute_input": "2022-07-08T14:54:04.759782Z",
     "iopub.status.busy": "2022-07-08T14:54:04.759006Z",
     "iopub.status.idle": "2022-07-08T14:54:04.770713Z",
     "shell.execute_reply": "2022-07-08T14:54:04.769698Z"
    },
    "papermill": {
     "duration": 0.027604,
     "end_time": "2022-07-08T14:54:04.772887",
     "exception": false,
     "start_time": "2022-07-08T14:54:04.745283",
     "status": "completed"
    },
    "tags": []
   },
   "outputs": [
    {
     "data": {
      "text/html": [
       "<div>\n",
       "<style scoped>\n",
       "    .dataframe tbody tr th:only-of-type {\n",
       "        vertical-align: middle;\n",
       "    }\n",
       "\n",
       "    .dataframe tbody tr th {\n",
       "        vertical-align: top;\n",
       "    }\n",
       "\n",
       "    .dataframe thead th {\n",
       "        text-align: right;\n",
       "    }\n",
       "</style>\n",
       "<table border=\"1\" class=\"dataframe\">\n",
       "  <thead>\n",
       "    <tr style=\"text-align: right;\">\n",
       "      <th></th>\n",
       "      <th>1</th>\n",
       "      <th>2</th>\n",
       "      <th>3</th>\n",
       "      <th>sum</th>\n",
       "      <th>predicted_class</th>\n",
       "    </tr>\n",
       "  </thead>\n",
       "  <tbody>\n",
       "    <tr>\n",
       "      <th>0</th>\n",
       "      <td>0.016772</td>\n",
       "      <td>0.969520</td>\n",
       "      <td>0.013708</td>\n",
       "      <td>1.000000</td>\n",
       "      <td>2</td>\n",
       "    </tr>\n",
       "    <tr>\n",
       "      <th>1</th>\n",
       "      <td>0.285904</td>\n",
       "      <td>0.240640</td>\n",
       "      <td>0.473456</td>\n",
       "      <td>1.000000</td>\n",
       "      <td>3</td>\n",
       "    </tr>\n",
       "    <tr>\n",
       "      <th>2</th>\n",
       "      <td>0.011702</td>\n",
       "      <td>0.985609</td>\n",
       "      <td>0.002690</td>\n",
       "      <td>1.000000</td>\n",
       "      <td>2</td>\n",
       "    </tr>\n",
       "    <tr>\n",
       "      <th>3</th>\n",
       "      <td>0.041976</td>\n",
       "      <td>0.943910</td>\n",
       "      <td>0.014114</td>\n",
       "      <td>1.000000</td>\n",
       "      <td>2</td>\n",
       "    </tr>\n",
       "    <tr>\n",
       "      <th>4</th>\n",
       "      <td>0.010050</td>\n",
       "      <td>0.982840</td>\n",
       "      <td>0.007110</td>\n",
       "      <td>1.000000</td>\n",
       "      <td>2</td>\n",
       "    </tr>\n",
       "    <tr>\n",
       "      <th>5</th>\n",
       "      <td>0.014167</td>\n",
       "      <td>0.978534</td>\n",
       "      <td>0.007298</td>\n",
       "      <td>1.000000</td>\n",
       "      <td>2</td>\n",
       "    </tr>\n",
       "    <tr>\n",
       "      <th>6</th>\n",
       "      <td>0.877880</td>\n",
       "      <td>0.084514</td>\n",
       "      <td>0.037606</td>\n",
       "      <td>1.000000</td>\n",
       "      <td>1</td>\n",
       "    </tr>\n",
       "    <tr>\n",
       "      <th>7</th>\n",
       "      <td>0.143029</td>\n",
       "      <td>0.846468</td>\n",
       "      <td>0.010503</td>\n",
       "      <td>1.000000</td>\n",
       "      <td>2</td>\n",
       "    </tr>\n",
       "  </tbody>\n",
       "</table>\n",
       "</div>"
      ],
      "text/plain": [
       "         1        2        3      sum  predicted_class\n",
       "0 0.016772 0.969520 0.013708 1.000000                2\n",
       "1 0.285904 0.240640 0.473456 1.000000                3\n",
       "2 0.011702 0.985609 0.002690 1.000000                2\n",
       "3 0.041976 0.943910 0.014114 1.000000                2\n",
       "4 0.010050 0.982840 0.007110 1.000000                2\n",
       "5 0.014167 0.978534 0.007298 1.000000                2\n",
       "6 0.877880 0.084514 0.037606 1.000000                1\n",
       "7 0.143029 0.846468 0.010503 1.000000                2"
      ]
     },
     "execution_count": 24,
     "metadata": {},
     "output_type": "execute_result"
    }
   ],
   "source": [
    "data_result['predicted_class'] = y_pred\n",
    "data_result"
   ]
  },
  {
   "cell_type": "markdown",
   "id": "64ccc645",
   "metadata": {
    "papermill": {
     "duration": 0.012889,
     "end_time": "2022-07-08T14:54:04.798376",
     "exception": false,
     "start_time": "2022-07-08T14:54:04.785487",
     "status": "completed"
    },
    "tags": []
   },
   "source": [
    "\n",
    "Actual Class"
   ]
  },
  {
   "cell_type": "code",
   "execution_count": 25,
   "id": "47549f78",
   "metadata": {
    "execution": {
     "iopub.execute_input": "2022-07-08T14:54:04.825254Z",
     "iopub.status.busy": "2022-07-08T14:54:04.824553Z",
     "iopub.status.idle": "2022-07-08T14:54:04.838132Z",
     "shell.execute_reply": "2022-07-08T14:54:04.837019Z"
    },
    "papermill": {
     "duration": 0.029483,
     "end_time": "2022-07-08T14:54:04.840327",
     "exception": false,
     "start_time": "2022-07-08T14:54:04.810844",
     "status": "completed"
    },
    "tags": []
   },
   "outputs": [
    {
     "data": {
      "text/html": [
       "<div>\n",
       "<style scoped>\n",
       "    .dataframe tbody tr th:only-of-type {\n",
       "        vertical-align: middle;\n",
       "    }\n",
       "\n",
       "    .dataframe tbody tr th {\n",
       "        vertical-align: top;\n",
       "    }\n",
       "\n",
       "    .dataframe thead th {\n",
       "        text-align: right;\n",
       "    }\n",
       "</style>\n",
       "<table border=\"1\" class=\"dataframe\">\n",
       "  <thead>\n",
       "    <tr style=\"text-align: right;\">\n",
       "      <th></th>\n",
       "      <th>1</th>\n",
       "      <th>2</th>\n",
       "      <th>3</th>\n",
       "      <th>sum</th>\n",
       "      <th>predicted_class</th>\n",
       "      <th>actual_class</th>\n",
       "    </tr>\n",
       "  </thead>\n",
       "  <tbody>\n",
       "    <tr>\n",
       "      <th>0</th>\n",
       "      <td>0.016772</td>\n",
       "      <td>0.969520</td>\n",
       "      <td>0.013708</td>\n",
       "      <td>1.000000</td>\n",
       "      <td>2</td>\n",
       "      <td>2</td>\n",
       "    </tr>\n",
       "    <tr>\n",
       "      <th>1</th>\n",
       "      <td>0.285904</td>\n",
       "      <td>0.240640</td>\n",
       "      <td>0.473456</td>\n",
       "      <td>1.000000</td>\n",
       "      <td>3</td>\n",
       "      <td>3</td>\n",
       "    </tr>\n",
       "    <tr>\n",
       "      <th>2</th>\n",
       "      <td>0.011702</td>\n",
       "      <td>0.985609</td>\n",
       "      <td>0.002690</td>\n",
       "      <td>1.000000</td>\n",
       "      <td>2</td>\n",
       "      <td>2</td>\n",
       "    </tr>\n",
       "    <tr>\n",
       "      <th>3</th>\n",
       "      <td>0.041976</td>\n",
       "      <td>0.943910</td>\n",
       "      <td>0.014114</td>\n",
       "      <td>1.000000</td>\n",
       "      <td>2</td>\n",
       "      <td>2</td>\n",
       "    </tr>\n",
       "    <tr>\n",
       "      <th>4</th>\n",
       "      <td>0.010050</td>\n",
       "      <td>0.982840</td>\n",
       "      <td>0.007110</td>\n",
       "      <td>1.000000</td>\n",
       "      <td>2</td>\n",
       "      <td>2</td>\n",
       "    </tr>\n",
       "    <tr>\n",
       "      <th>5</th>\n",
       "      <td>0.014167</td>\n",
       "      <td>0.978534</td>\n",
       "      <td>0.007298</td>\n",
       "      <td>1.000000</td>\n",
       "      <td>2</td>\n",
       "      <td>2</td>\n",
       "    </tr>\n",
       "    <tr>\n",
       "      <th>6</th>\n",
       "      <td>0.877880</td>\n",
       "      <td>0.084514</td>\n",
       "      <td>0.037606</td>\n",
       "      <td>1.000000</td>\n",
       "      <td>1</td>\n",
       "      <td>1</td>\n",
       "    </tr>\n",
       "    <tr>\n",
       "      <th>7</th>\n",
       "      <td>0.143029</td>\n",
       "      <td>0.846468</td>\n",
       "      <td>0.010503</td>\n",
       "      <td>1.000000</td>\n",
       "      <td>2</td>\n",
       "      <td>2</td>\n",
       "    </tr>\n",
       "  </tbody>\n",
       "</table>\n",
       "</div>"
      ],
      "text/plain": [
       "         1        2        3      sum  predicted_class  actual_class\n",
       "0 0.016772 0.969520 0.013708 1.000000                2             2\n",
       "1 0.285904 0.240640 0.473456 1.000000                3             3\n",
       "2 0.011702 0.985609 0.002690 1.000000                2             2\n",
       "3 0.041976 0.943910 0.014114 1.000000                2             2\n",
       "4 0.010050 0.982840 0.007110 1.000000                2             2\n",
       "5 0.014167 0.978534 0.007298 1.000000                2             2\n",
       "6 0.877880 0.084514 0.037606 1.000000                1             1\n",
       "7 0.143029 0.846468 0.010503 1.000000                2             2"
      ]
     },
     "execution_count": 25,
     "metadata": {},
     "output_type": "execute_result"
    }
   ],
   "source": [
    "data_result['actual_class'] = testY.to_frame().reset_index().drop(columns='index')\n",
    "data_result\n"
   ]
  },
  {
   "cell_type": "code",
   "execution_count": 26,
   "id": "6bdbc130",
   "metadata": {
    "execution": {
     "iopub.execute_input": "2022-07-08T14:54:04.867763Z",
     "iopub.status.busy": "2022-07-08T14:54:04.866765Z",
     "iopub.status.idle": "2022-07-08T14:54:04.881593Z",
     "shell.execute_reply": "2022-07-08T14:54:04.880438Z"
    },
    "papermill": {
     "duration": 0.03099,
     "end_time": "2022-07-08T14:54:04.883710",
     "exception": false,
     "start_time": "2022-07-08T14:54:04.852720",
     "status": "completed"
    },
    "tags": []
   },
   "outputs": [
    {
     "data": {
      "text/html": [
       "<div>\n",
       "<style scoped>\n",
       "    .dataframe tbody tr th:only-of-type {\n",
       "        vertical-align: middle;\n",
       "    }\n",
       "\n",
       "    .dataframe tbody tr th {\n",
       "        vertical-align: top;\n",
       "    }\n",
       "\n",
       "    .dataframe thead th {\n",
       "        text-align: right;\n",
       "    }\n",
       "</style>\n",
       "<table border=\"1\" class=\"dataframe\">\n",
       "  <thead>\n",
       "    <tr style=\"text-align: right;\">\n",
       "      <th></th>\n",
       "      <th>1</th>\n",
       "      <th>2</th>\n",
       "      <th>3</th>\n",
       "      <th>sum</th>\n",
       "      <th>predicted_class</th>\n",
       "      <th>actual_class</th>\n",
       "      <th>label_pred</th>\n",
       "      <th>label_actual</th>\n",
       "    </tr>\n",
       "  </thead>\n",
       "  <tbody>\n",
       "    <tr>\n",
       "      <th>0</th>\n",
       "      <td>0.016772</td>\n",
       "      <td>0.969520</td>\n",
       "      <td>0.013708</td>\n",
       "      <td>1.000000</td>\n",
       "      <td>2</td>\n",
       "      <td>2</td>\n",
       "      <td>1</td>\n",
       "      <td>1</td>\n",
       "    </tr>\n",
       "    <tr>\n",
       "      <th>1</th>\n",
       "      <td>0.285904</td>\n",
       "      <td>0.240640</td>\n",
       "      <td>0.473456</td>\n",
       "      <td>1.000000</td>\n",
       "      <td>3</td>\n",
       "      <td>3</td>\n",
       "      <td>2</td>\n",
       "      <td>2</td>\n",
       "    </tr>\n",
       "    <tr>\n",
       "      <th>2</th>\n",
       "      <td>0.011702</td>\n",
       "      <td>0.985609</td>\n",
       "      <td>0.002690</td>\n",
       "      <td>1.000000</td>\n",
       "      <td>2</td>\n",
       "      <td>2</td>\n",
       "      <td>1</td>\n",
       "      <td>1</td>\n",
       "    </tr>\n",
       "    <tr>\n",
       "      <th>3</th>\n",
       "      <td>0.041976</td>\n",
       "      <td>0.943910</td>\n",
       "      <td>0.014114</td>\n",
       "      <td>1.000000</td>\n",
       "      <td>2</td>\n",
       "      <td>2</td>\n",
       "      <td>1</td>\n",
       "      <td>1</td>\n",
       "    </tr>\n",
       "    <tr>\n",
       "      <th>4</th>\n",
       "      <td>0.010050</td>\n",
       "      <td>0.982840</td>\n",
       "      <td>0.007110</td>\n",
       "      <td>1.000000</td>\n",
       "      <td>2</td>\n",
       "      <td>2</td>\n",
       "      <td>1</td>\n",
       "      <td>1</td>\n",
       "    </tr>\n",
       "    <tr>\n",
       "      <th>5</th>\n",
       "      <td>0.014167</td>\n",
       "      <td>0.978534</td>\n",
       "      <td>0.007298</td>\n",
       "      <td>1.000000</td>\n",
       "      <td>2</td>\n",
       "      <td>2</td>\n",
       "      <td>1</td>\n",
       "      <td>1</td>\n",
       "    </tr>\n",
       "    <tr>\n",
       "      <th>6</th>\n",
       "      <td>0.877880</td>\n",
       "      <td>0.084514</td>\n",
       "      <td>0.037606</td>\n",
       "      <td>1.000000</td>\n",
       "      <td>1</td>\n",
       "      <td>1</td>\n",
       "      <td>0</td>\n",
       "      <td>0</td>\n",
       "    </tr>\n",
       "    <tr>\n",
       "      <th>7</th>\n",
       "      <td>0.143029</td>\n",
       "      <td>0.846468</td>\n",
       "      <td>0.010503</td>\n",
       "      <td>1.000000</td>\n",
       "      <td>2</td>\n",
       "      <td>2</td>\n",
       "      <td>1</td>\n",
       "      <td>1</td>\n",
       "    </tr>\n",
       "  </tbody>\n",
       "</table>\n",
       "</div>"
      ],
      "text/plain": [
       "         1        2        3      sum  predicted_class  actual_class  \\\n",
       "0 0.016772 0.969520 0.013708 1.000000                2             2   \n",
       "1 0.285904 0.240640 0.473456 1.000000                3             3   \n",
       "2 0.011702 0.985609 0.002690 1.000000                2             2   \n",
       "3 0.041976 0.943910 0.014114 1.000000                2             2   \n",
       "4 0.010050 0.982840 0.007110 1.000000                2             2   \n",
       "5 0.014167 0.978534 0.007298 1.000000                2             2   \n",
       "6 0.877880 0.084514 0.037606 1.000000                1             1   \n",
       "7 0.143029 0.846468 0.010503 1.000000                2             2   \n",
       "\n",
       "   label_pred  label_actual  \n",
       "0           1             1  \n",
       "1           2             2  \n",
       "2           1             1  \n",
       "3           1             1  \n",
       "4           1             1  \n",
       "5           1             1  \n",
       "6           0             0  \n",
       "7           1             1  "
      ]
     },
     "execution_count": 26,
     "metadata": {},
     "output_type": "execute_result"
    }
   ],
   "source": [
    "le = preprocessing.LabelEncoder()\n",
    "\n",
    "data_result['label_pred'] = le.fit_transform(data_result['predicted_class'])\n",
    "data_result['label_actual'] = le.fit_transform(data_result['actual_class'])\n",
    "data_result"
   ]
  },
  {
   "cell_type": "code",
   "execution_count": 27,
   "id": "0f46bb4d",
   "metadata": {
    "execution": {
     "iopub.execute_input": "2022-07-08T14:54:04.910736Z",
     "iopub.status.busy": "2022-07-08T14:54:04.910378Z",
     "iopub.status.idle": "2022-07-08T14:54:04.918208Z",
     "shell.execute_reply": "2022-07-08T14:54:04.917340Z"
    },
    "papermill": {
     "duration": 0.023887,
     "end_time": "2022-07-08T14:54:04.920267",
     "exception": false,
     "start_time": "2022-07-08T14:54:04.896380",
     "status": "completed"
    },
    "tags": []
   },
   "outputs": [
    {
     "data": {
      "text/plain": [
       "{2: 1, 3: 2, 1: 0}"
      ]
     },
     "execution_count": 27,
     "metadata": {},
     "output_type": "execute_result"
    }
   ],
   "source": [
    "targets = data_result['predicted_class']   \n",
    "integerEncoded = le.fit_transform(targets)\n",
    "integerMapping=dict(zip(targets,integerEncoded))\n",
    "integerMapping"
   ]
  },
  {
   "cell_type": "code",
   "execution_count": 28,
   "id": "9bb2993a",
   "metadata": {
    "execution": {
     "iopub.execute_input": "2022-07-08T14:54:04.947903Z",
     "iopub.status.busy": "2022-07-08T14:54:04.947209Z",
     "iopub.status.idle": "2022-07-08T14:54:04.954518Z",
     "shell.execute_reply": "2022-07-08T14:54:04.953685Z"
    },
    "papermill": {
     "duration": 0.023621,
     "end_time": "2022-07-08T14:54:04.956522",
     "exception": false,
     "start_time": "2022-07-08T14:54:04.932901",
     "status": "completed"
    },
    "tags": []
   },
   "outputs": [
    {
     "data": {
      "text/plain": [
       "{2: 1, 3: 2, 1: 0}"
      ]
     },
     "execution_count": 28,
     "metadata": {},
     "output_type": "execute_result"
    }
   ],
   "source": [
    "targets = data_result['actual_class']   \n",
    "integerEncoded = le.fit_transform(targets)\n",
    "integerMapping=dict(zip(targets,integerEncoded))\n",
    "integerMapping"
   ]
  },
  {
   "cell_type": "markdown",
   "id": "80e28846",
   "metadata": {
    "papermill": {
     "duration": 0.012653,
     "end_time": "2022-07-08T14:54:04.981926",
     "exception": false,
     "start_time": "2022-07-08T14:54:04.969273",
     "status": "completed"
    },
    "tags": []
   },
   "source": [
    "Cek apakah prediksi class benar"
   ]
  },
  {
   "cell_type": "code",
   "execution_count": 29,
   "id": "85de70bc",
   "metadata": {
    "execution": {
     "iopub.execute_input": "2022-07-08T14:54:05.009762Z",
     "iopub.status.busy": "2022-07-08T14:54:05.009002Z",
     "iopub.status.idle": "2022-07-08T14:54:05.022357Z",
     "shell.execute_reply": "2022-07-08T14:54:05.021324Z"
    },
    "papermill": {
     "duration": 0.029658,
     "end_time": "2022-07-08T14:54:05.024475",
     "exception": false,
     "start_time": "2022-07-08T14:54:04.994817",
     "status": "completed"
    },
    "tags": []
   },
   "outputs": [
    {
     "data": {
      "text/html": [
       "<div>\n",
       "<style scoped>\n",
       "    .dataframe tbody tr th:only-of-type {\n",
       "        vertical-align: middle;\n",
       "    }\n",
       "\n",
       "    .dataframe tbody tr th {\n",
       "        vertical-align: top;\n",
       "    }\n",
       "\n",
       "    .dataframe thead th {\n",
       "        text-align: right;\n",
       "    }\n",
       "</style>\n",
       "<table border=\"1\" class=\"dataframe\">\n",
       "  <thead>\n",
       "    <tr style=\"text-align: right;\">\n",
       "      <th></th>\n",
       "      <th>1</th>\n",
       "      <th>2</th>\n",
       "      <th>3</th>\n",
       "      <th>sum</th>\n",
       "      <th>predicted_class</th>\n",
       "      <th>actual_class</th>\n",
       "      <th>label_pred</th>\n",
       "      <th>label_actual</th>\n",
       "      <th>check</th>\n",
       "    </tr>\n",
       "  </thead>\n",
       "  <tbody>\n",
       "    <tr>\n",
       "      <th>0</th>\n",
       "      <td>0.016772</td>\n",
       "      <td>0.969520</td>\n",
       "      <td>0.013708</td>\n",
       "      <td>1.000000</td>\n",
       "      <td>2</td>\n",
       "      <td>2</td>\n",
       "      <td>1</td>\n",
       "      <td>1</td>\n",
       "      <td>0</td>\n",
       "    </tr>\n",
       "    <tr>\n",
       "      <th>1</th>\n",
       "      <td>0.285904</td>\n",
       "      <td>0.240640</td>\n",
       "      <td>0.473456</td>\n",
       "      <td>1.000000</td>\n",
       "      <td>3</td>\n",
       "      <td>3</td>\n",
       "      <td>2</td>\n",
       "      <td>2</td>\n",
       "      <td>0</td>\n",
       "    </tr>\n",
       "    <tr>\n",
       "      <th>2</th>\n",
       "      <td>0.011702</td>\n",
       "      <td>0.985609</td>\n",
       "      <td>0.002690</td>\n",
       "      <td>1.000000</td>\n",
       "      <td>2</td>\n",
       "      <td>2</td>\n",
       "      <td>1</td>\n",
       "      <td>1</td>\n",
       "      <td>0</td>\n",
       "    </tr>\n",
       "    <tr>\n",
       "      <th>3</th>\n",
       "      <td>0.041976</td>\n",
       "      <td>0.943910</td>\n",
       "      <td>0.014114</td>\n",
       "      <td>1.000000</td>\n",
       "      <td>2</td>\n",
       "      <td>2</td>\n",
       "      <td>1</td>\n",
       "      <td>1</td>\n",
       "      <td>0</td>\n",
       "    </tr>\n",
       "    <tr>\n",
       "      <th>4</th>\n",
       "      <td>0.010050</td>\n",
       "      <td>0.982840</td>\n",
       "      <td>0.007110</td>\n",
       "      <td>1.000000</td>\n",
       "      <td>2</td>\n",
       "      <td>2</td>\n",
       "      <td>1</td>\n",
       "      <td>1</td>\n",
       "      <td>0</td>\n",
       "    </tr>\n",
       "    <tr>\n",
       "      <th>5</th>\n",
       "      <td>0.014167</td>\n",
       "      <td>0.978534</td>\n",
       "      <td>0.007298</td>\n",
       "      <td>1.000000</td>\n",
       "      <td>2</td>\n",
       "      <td>2</td>\n",
       "      <td>1</td>\n",
       "      <td>1</td>\n",
       "      <td>0</td>\n",
       "    </tr>\n",
       "    <tr>\n",
       "      <th>6</th>\n",
       "      <td>0.877880</td>\n",
       "      <td>0.084514</td>\n",
       "      <td>0.037606</td>\n",
       "      <td>1.000000</td>\n",
       "      <td>1</td>\n",
       "      <td>1</td>\n",
       "      <td>0</td>\n",
       "      <td>0</td>\n",
       "      <td>0</td>\n",
       "    </tr>\n",
       "    <tr>\n",
       "      <th>7</th>\n",
       "      <td>0.143029</td>\n",
       "      <td>0.846468</td>\n",
       "      <td>0.010503</td>\n",
       "      <td>1.000000</td>\n",
       "      <td>2</td>\n",
       "      <td>2</td>\n",
       "      <td>1</td>\n",
       "      <td>1</td>\n",
       "      <td>0</td>\n",
       "    </tr>\n",
       "  </tbody>\n",
       "</table>\n",
       "</div>"
      ],
      "text/plain": [
       "         1        2        3      sum  predicted_class  actual_class  \\\n",
       "0 0.016772 0.969520 0.013708 1.000000                2             2   \n",
       "1 0.285904 0.240640 0.473456 1.000000                3             3   \n",
       "2 0.011702 0.985609 0.002690 1.000000                2             2   \n",
       "3 0.041976 0.943910 0.014114 1.000000                2             2   \n",
       "4 0.010050 0.982840 0.007110 1.000000                2             2   \n",
       "5 0.014167 0.978534 0.007298 1.000000                2             2   \n",
       "6 0.877880 0.084514 0.037606 1.000000                1             1   \n",
       "7 0.143029 0.846468 0.010503 1.000000                2             2   \n",
       "\n",
       "   label_pred  label_actual  check  \n",
       "0           1             1      0  \n",
       "1           2             2      0  \n",
       "2           1             1      0  \n",
       "3           1             1      0  \n",
       "4           1             1      0  \n",
       "5           1             1      0  \n",
       "6           0             0      0  \n",
       "7           1             1      0  "
      ]
     },
     "execution_count": 29,
     "metadata": {},
     "output_type": "execute_result"
    }
   ],
   "source": [
    "data_result['check'] = data_result['label_actual'] - data_result['label_pred']\n",
    "data_result"
   ]
  },
  {
   "cell_type": "code",
   "execution_count": 30,
   "id": "54e591f1",
   "metadata": {
    "execution": {
     "iopub.execute_input": "2022-07-08T14:54:05.052838Z",
     "iopub.status.busy": "2022-07-08T14:54:05.052083Z",
     "iopub.status.idle": "2022-07-08T14:54:05.066894Z",
     "shell.execute_reply": "2022-07-08T14:54:05.065664Z"
    },
    "papermill": {
     "duration": 0.031505,
     "end_time": "2022-07-08T14:54:05.069080",
     "exception": false,
     "start_time": "2022-07-08T14:54:05.037575",
     "status": "completed"
    },
    "tags": []
   },
   "outputs": [
    {
     "data": {
      "text/html": [
       "<div>\n",
       "<style scoped>\n",
       "    .dataframe tbody tr th:only-of-type {\n",
       "        vertical-align: middle;\n",
       "    }\n",
       "\n",
       "    .dataframe tbody tr th {\n",
       "        vertical-align: top;\n",
       "    }\n",
       "\n",
       "    .dataframe thead th {\n",
       "        text-align: right;\n",
       "    }\n",
       "</style>\n",
       "<table border=\"1\" class=\"dataframe\">\n",
       "  <thead>\n",
       "    <tr style=\"text-align: right;\">\n",
       "      <th></th>\n",
       "      <th>1</th>\n",
       "      <th>2</th>\n",
       "      <th>3</th>\n",
       "      <th>sum</th>\n",
       "      <th>predicted_class</th>\n",
       "      <th>actual_class</th>\n",
       "      <th>correct_prediction?</th>\n",
       "    </tr>\n",
       "  </thead>\n",
       "  <tbody>\n",
       "    <tr>\n",
       "      <th>0</th>\n",
       "      <td>0.016772</td>\n",
       "      <td>0.969520</td>\n",
       "      <td>0.013708</td>\n",
       "      <td>1.000000</td>\n",
       "      <td>2</td>\n",
       "      <td>2</td>\n",
       "      <td>True</td>\n",
       "    </tr>\n",
       "    <tr>\n",
       "      <th>1</th>\n",
       "      <td>0.285904</td>\n",
       "      <td>0.240640</td>\n",
       "      <td>0.473456</td>\n",
       "      <td>1.000000</td>\n",
       "      <td>3</td>\n",
       "      <td>3</td>\n",
       "      <td>True</td>\n",
       "    </tr>\n",
       "    <tr>\n",
       "      <th>2</th>\n",
       "      <td>0.011702</td>\n",
       "      <td>0.985609</td>\n",
       "      <td>0.002690</td>\n",
       "      <td>1.000000</td>\n",
       "      <td>2</td>\n",
       "      <td>2</td>\n",
       "      <td>True</td>\n",
       "    </tr>\n",
       "    <tr>\n",
       "      <th>3</th>\n",
       "      <td>0.041976</td>\n",
       "      <td>0.943910</td>\n",
       "      <td>0.014114</td>\n",
       "      <td>1.000000</td>\n",
       "      <td>2</td>\n",
       "      <td>2</td>\n",
       "      <td>True</td>\n",
       "    </tr>\n",
       "    <tr>\n",
       "      <th>4</th>\n",
       "      <td>0.010050</td>\n",
       "      <td>0.982840</td>\n",
       "      <td>0.007110</td>\n",
       "      <td>1.000000</td>\n",
       "      <td>2</td>\n",
       "      <td>2</td>\n",
       "      <td>True</td>\n",
       "    </tr>\n",
       "    <tr>\n",
       "      <th>5</th>\n",
       "      <td>0.014167</td>\n",
       "      <td>0.978534</td>\n",
       "      <td>0.007298</td>\n",
       "      <td>1.000000</td>\n",
       "      <td>2</td>\n",
       "      <td>2</td>\n",
       "      <td>True</td>\n",
       "    </tr>\n",
       "    <tr>\n",
       "      <th>6</th>\n",
       "      <td>0.877880</td>\n",
       "      <td>0.084514</td>\n",
       "      <td>0.037606</td>\n",
       "      <td>1.000000</td>\n",
       "      <td>1</td>\n",
       "      <td>1</td>\n",
       "      <td>True</td>\n",
       "    </tr>\n",
       "    <tr>\n",
       "      <th>7</th>\n",
       "      <td>0.143029</td>\n",
       "      <td>0.846468</td>\n",
       "      <td>0.010503</td>\n",
       "      <td>1.000000</td>\n",
       "      <td>2</td>\n",
       "      <td>2</td>\n",
       "      <td>True</td>\n",
       "    </tr>\n",
       "  </tbody>\n",
       "</table>\n",
       "</div>"
      ],
      "text/plain": [
       "         1        2        3      sum  predicted_class  actual_class  \\\n",
       "0 0.016772 0.969520 0.013708 1.000000                2             2   \n",
       "1 0.285904 0.240640 0.473456 1.000000                3             3   \n",
       "2 0.011702 0.985609 0.002690 1.000000                2             2   \n",
       "3 0.041976 0.943910 0.014114 1.000000                2             2   \n",
       "4 0.010050 0.982840 0.007110 1.000000                2             2   \n",
       "5 0.014167 0.978534 0.007298 1.000000                2             2   \n",
       "6 0.877880 0.084514 0.037606 1.000000                1             1   \n",
       "7 0.143029 0.846468 0.010503 1.000000                2             2   \n",
       "\n",
       "  correct_prediction?  \n",
       "0                True  \n",
       "1                True  \n",
       "2                True  \n",
       "3                True  \n",
       "4                True  \n",
       "5                True  \n",
       "6                True  \n",
       "7                True  "
      ]
     },
     "execution_count": 30,
     "metadata": {},
     "output_type": "execute_result"
    }
   ],
   "source": [
    "data_result['correct_prediction?'] = np.where(data_result['check'] == 0, 'True', 'False')\n",
    "data_result = data_result.drop(['label_pred', 'label_actual', 'check'], axis=1)\n",
    "data_result"
   ]
  },
  {
   "cell_type": "code",
   "execution_count": 31,
   "id": "69101edd",
   "metadata": {
    "execution": {
     "iopub.execute_input": "2022-07-08T14:54:05.097477Z",
     "iopub.status.busy": "2022-07-08T14:54:05.096387Z",
     "iopub.status.idle": "2022-07-08T14:54:05.108556Z",
     "shell.execute_reply": "2022-07-08T14:54:05.107570Z"
    },
    "papermill": {
     "duration": 0.028514,
     "end_time": "2022-07-08T14:54:05.110675",
     "exception": false,
     "start_time": "2022-07-08T14:54:05.082161",
     "status": "completed"
    },
    "tags": []
   },
   "outputs": [
    {
     "data": {
      "text/html": [
       "<div>\n",
       "<style scoped>\n",
       "    .dataframe tbody tr th:only-of-type {\n",
       "        vertical-align: middle;\n",
       "    }\n",
       "\n",
       "    .dataframe tbody tr th {\n",
       "        vertical-align: top;\n",
       "    }\n",
       "\n",
       "    .dataframe thead th {\n",
       "        text-align: right;\n",
       "    }\n",
       "</style>\n",
       "<table border=\"1\" class=\"dataframe\">\n",
       "  <thead>\n",
       "    <tr style=\"text-align: right;\">\n",
       "      <th></th>\n",
       "      <th>1</th>\n",
       "      <th>2</th>\n",
       "      <th>3</th>\n",
       "      <th>sum</th>\n",
       "      <th>predicted_class</th>\n",
       "      <th>actual_class</th>\n",
       "      <th>correct_prediction?</th>\n",
       "    </tr>\n",
       "  </thead>\n",
       "  <tbody>\n",
       "    <tr>\n",
       "      <th>0</th>\n",
       "      <td>0.016772</td>\n",
       "      <td>0.969520</td>\n",
       "      <td>0.013708</td>\n",
       "      <td>1.000000</td>\n",
       "      <td>2</td>\n",
       "      <td>2</td>\n",
       "      <td>True</td>\n",
       "    </tr>\n",
       "    <tr>\n",
       "      <th>1</th>\n",
       "      <td>0.285904</td>\n",
       "      <td>0.240640</td>\n",
       "      <td>0.473456</td>\n",
       "      <td>1.000000</td>\n",
       "      <td>3</td>\n",
       "      <td>3</td>\n",
       "      <td>True</td>\n",
       "    </tr>\n",
       "    <tr>\n",
       "      <th>2</th>\n",
       "      <td>0.011702</td>\n",
       "      <td>0.985609</td>\n",
       "      <td>0.002690</td>\n",
       "      <td>1.000000</td>\n",
       "      <td>2</td>\n",
       "      <td>2</td>\n",
       "      <td>True</td>\n",
       "    </tr>\n",
       "    <tr>\n",
       "      <th>3</th>\n",
       "      <td>0.041976</td>\n",
       "      <td>0.943910</td>\n",
       "      <td>0.014114</td>\n",
       "      <td>1.000000</td>\n",
       "      <td>2</td>\n",
       "      <td>2</td>\n",
       "      <td>True</td>\n",
       "    </tr>\n",
       "    <tr>\n",
       "      <th>4</th>\n",
       "      <td>0.010050</td>\n",
       "      <td>0.982840</td>\n",
       "      <td>0.007110</td>\n",
       "      <td>1.000000</td>\n",
       "      <td>2</td>\n",
       "      <td>2</td>\n",
       "      <td>True</td>\n",
       "    </tr>\n",
       "    <tr>\n",
       "      <th>5</th>\n",
       "      <td>0.014167</td>\n",
       "      <td>0.978534</td>\n",
       "      <td>0.007298</td>\n",
       "      <td>1.000000</td>\n",
       "      <td>2</td>\n",
       "      <td>2</td>\n",
       "      <td>True</td>\n",
       "    </tr>\n",
       "    <tr>\n",
       "      <th>6</th>\n",
       "      <td>0.877880</td>\n",
       "      <td>0.084514</td>\n",
       "      <td>0.037606</td>\n",
       "      <td>1.000000</td>\n",
       "      <td>1</td>\n",
       "      <td>1</td>\n",
       "      <td>True</td>\n",
       "    </tr>\n",
       "    <tr>\n",
       "      <th>7</th>\n",
       "      <td>0.143029</td>\n",
       "      <td>0.846468</td>\n",
       "      <td>0.010503</td>\n",
       "      <td>1.000000</td>\n",
       "      <td>2</td>\n",
       "      <td>2</td>\n",
       "      <td>True</td>\n",
       "    </tr>\n",
       "  </tbody>\n",
       "</table>\n",
       "</div>"
      ],
      "text/plain": [
       "         1        2        3      sum  predicted_class  actual_class  \\\n",
       "0 0.016772 0.969520 0.013708 1.000000                2             2   \n",
       "1 0.285904 0.240640 0.473456 1.000000                3             3   \n",
       "2 0.011702 0.985609 0.002690 1.000000                2             2   \n",
       "3 0.041976 0.943910 0.014114 1.000000                2             2   \n",
       "4 0.010050 0.982840 0.007110 1.000000                2             2   \n",
       "5 0.014167 0.978534 0.007298 1.000000                2             2   \n",
       "6 0.877880 0.084514 0.037606 1.000000                1             1   \n",
       "7 0.143029 0.846468 0.010503 1.000000                2             2   \n",
       "\n",
       "  correct_prediction?  \n",
       "0                True  \n",
       "1                True  \n",
       "2                True  \n",
       "3                True  \n",
       "4                True  \n",
       "5                True  \n",
       "6                True  \n",
       "7                True  "
      ]
     },
     "metadata": {},
     "output_type": "display_data"
    }
   ],
   "source": [
    "display(data_result)"
   ]
  },
  {
   "cell_type": "markdown",
   "id": "5c02c8cd",
   "metadata": {
    "papermill": {
     "duration": 0.012901,
     "end_time": "2022-07-08T14:54:05.136678",
     "exception": false,
     "start_time": "2022-07-08T14:54:05.123777",
     "status": "completed"
    },
    "tags": []
   },
   "source": [
    "Gunakan nilai yang dihasilkan untuk mendapatkan / menghitung akurasi secara manual"
   ]
  },
  {
   "cell_type": "code",
   "execution_count": 32,
   "id": "c7ac828e",
   "metadata": {
    "execution": {
     "iopub.execute_input": "2022-07-08T14:54:05.165049Z",
     "iopub.status.busy": "2022-07-08T14:54:05.164328Z",
     "iopub.status.idle": "2022-07-08T14:54:05.173319Z",
     "shell.execute_reply": "2022-07-08T14:54:05.171898Z"
    },
    "papermill": {
     "duration": 0.026678,
     "end_time": "2022-07-08T14:54:05.176536",
     "exception": false,
     "start_time": "2022-07-08T14:54:05.149858",
     "status": "completed"
    },
    "tags": []
   },
   "outputs": [
    {
     "name": "stdout",
     "output_type": "stream",
     "text": [
      "manual calculated Accuracy is: 100.0\n"
     ]
    }
   ],
   "source": [
    "true_predictions = data_result[(data_result[\"correct_prediction?\"] == 'True')].shape[0]\n",
    "false_predictions = data_result[(data_result[\"correct_prediction?\"] == 'False')].shape[0]\n",
    "total = data_result[\"correct_prediction?\"].shape[0]\n",
    "\n",
    "print('manual calculated Accuracy is:', (true_predictions / total * 100))"
   ]
  },
  {
   "cell_type": "markdown",
   "id": "a7d10019",
   "metadata": {
    "papermill": {
     "duration": 0.013016,
     "end_time": "2022-07-08T14:54:05.203695",
     "exception": false,
     "start_time": "2022-07-08T14:54:05.190679",
     "status": "completed"
    },
    "tags": []
   },
   "source": [
    "Probabilitas kelas yang salah prediksi"
   ]
  },
  {
   "cell_type": "code",
   "execution_count": 33,
   "id": "dd00190d",
   "metadata": {
    "execution": {
     "iopub.execute_input": "2022-07-08T14:54:05.232301Z",
     "iopub.status.busy": "2022-07-08T14:54:05.231520Z",
     "iopub.status.idle": "2022-07-08T14:54:05.241597Z",
     "shell.execute_reply": "2022-07-08T14:54:05.240674Z"
    },
    "papermill": {
     "duration": 0.026681,
     "end_time": "2022-07-08T14:54:05.243637",
     "exception": false,
     "start_time": "2022-07-08T14:54:05.216956",
     "status": "completed"
    },
    "tags": []
   },
   "outputs": [
    {
     "data": {
      "text/html": [
       "<div>\n",
       "<style scoped>\n",
       "    .dataframe tbody tr th:only-of-type {\n",
       "        vertical-align: middle;\n",
       "    }\n",
       "\n",
       "    .dataframe tbody tr th {\n",
       "        vertical-align: top;\n",
       "    }\n",
       "\n",
       "    .dataframe thead th {\n",
       "        text-align: right;\n",
       "    }\n",
       "</style>\n",
       "<table border=\"1\" class=\"dataframe\">\n",
       "  <thead>\n",
       "    <tr style=\"text-align: right;\">\n",
       "      <th></th>\n",
       "      <th>1</th>\n",
       "      <th>2</th>\n",
       "      <th>3</th>\n",
       "      <th>sum</th>\n",
       "      <th>predicted_class</th>\n",
       "      <th>actual_class</th>\n",
       "      <th>correct_prediction?</th>\n",
       "    </tr>\n",
       "  </thead>\n",
       "  <tbody>\n",
       "  </tbody>\n",
       "</table>\n",
       "</div>"
      ],
      "text/plain": [
       "Empty DataFrame\n",
       "Columns: [1, 2, 3, sum, predicted_class, actual_class, correct_prediction?]\n",
       "Index: []"
      ]
     },
     "execution_count": 33,
     "metadata": {},
     "output_type": "execute_result"
    }
   ],
   "source": [
    "wrong_pred = data_result[(data_result[\"correct_prediction?\"] == 'False')]\n",
    "wrong_pred"
   ]
  },
  {
   "cell_type": "markdown",
   "id": "5c6863ff",
   "metadata": {
    "papermill": {
     "duration": 0.013021,
     "end_time": "2022-07-08T14:54:05.269921",
     "exception": false,
     "start_time": "2022-07-08T14:54:05.256900",
     "status": "completed"
    },
    "tags": []
   },
   "source": [
    "**Multinomial Logit with the statsmodel library**"
   ]
  },
  {
   "cell_type": "code",
   "execution_count": 34,
   "id": "d25a0f64",
   "metadata": {
    "execution": {
     "iopub.execute_input": "2022-07-08T14:54:05.298832Z",
     "iopub.status.busy": "2022-07-08T14:54:05.298091Z",
     "iopub.status.idle": "2022-07-08T14:54:05.354343Z",
     "shell.execute_reply": "2022-07-08T14:54:05.353237Z"
    },
    "papermill": {
     "duration": 0.074005,
     "end_time": "2022-07-08T14:54:05.357410",
     "exception": false,
     "start_time": "2022-07-08T14:54:05.283405",
     "status": "completed"
    },
    "tags": []
   },
   "outputs": [
    {
     "name": "stdout",
     "output_type": "stream",
     "text": [
      "Optimization terminated successfully.\n",
      "         Current function value: 0.000004\n",
      "         Iterations: 21\n",
      "         Function evaluations: 22\n",
      "         Gradient evaluations: 22\n",
      "                          MNLogit Regression Results                          \n",
      "==============================================================================\n",
      "Dep. Variable:               Category   No. Observations:                   24\n",
      "Model:                        MNLogit   Df Residuals:                       12\n",
      "Method:                           MLE   Df Model:                           10\n",
      "Date:                Fri, 08 Jul 2022   Pseudo R-squ.:                   1.000\n",
      "Time:                        14:54:05   Log-Likelihood:            -8.6197e-05\n",
      "converged:                       True   LL-Null:                       -17.315\n",
      "Covariance Type:            nonrobust   LLR p-value:                 0.0001444\n",
      "================================================================================\n",
      "  Category=2       coef    std err          z      P>|z|      [0.025      0.975]\n",
      "--------------------------------------------------------------------------------\n",
      " DER           -21.9468   7.23e+05  -3.04e-05      1.000   -1.42e+06    1.42e+06\n",
      "ROA              7.6425   1.86e+06   4.11e-06      1.000   -3.65e+06    3.65e+06\n",
      "Sales Growth    -0.4235   5.02e+05  -8.44e-07      1.000   -9.83e+05    9.83e+05\n",
      "ROE             11.5817   3.53e+06   3.28e-06      1.000   -6.91e+06    6.91e+06\n",
      "NPM             10.9838    1.7e+06   6.46e-06      1.000   -3.33e+06    3.33e+06\n",
      "const           23.7359   8.06e+05   2.95e-05      1.000   -1.58e+06    1.58e+06\n",
      "--------------------------------------------------------------------------------\n",
      "  Category=3       coef    std err          z      P>|z|      [0.025      0.975]\n",
      "--------------------------------------------------------------------------------\n",
      " DER           -11.7969   3.87e+05  -3.05e-05      1.000   -7.58e+05    7.58e+05\n",
      "ROA             -7.6881   2.31e+06  -3.32e-06      1.000   -4.53e+06    4.53e+06\n",
      "Sales Growth     1.4579   9.25e+06   1.58e-07      1.000   -1.81e+07    1.81e+07\n",
      "ROE             -7.3254   3.08e+06  -2.38e-06      1.000   -6.03e+06    6.03e+06\n",
      "NPM             -1.7051    3.5e+06  -4.88e-07      1.000   -6.85e+06    6.85e+06\n",
      "const          -15.4631   6.23e+06  -2.48e-06      1.000   -1.22e+07    1.22e+07\n",
      "================================================================================\n"
     ]
    }
   ],
   "source": [
    "x2 = sm.add_constant(data_scaled, prepend = False)\n",
    "\n",
    "mnlogit_mod = sm.MNLogit(y, x2).fit(method='bfgs')\n",
    "\n",
    "print (mnlogit_mod.summary())"
   ]
  }
 ],
 "metadata": {
  "kernelspec": {
   "display_name": "Python 3",
   "language": "python",
   "name": "python3"
  },
  "language_info": {
   "codemirror_mode": {
    "name": "ipython",
    "version": 3
   },
   "file_extension": ".py",
   "mimetype": "text/x-python",
   "name": "python",
   "nbconvert_exporter": "python",
   "pygments_lexer": "ipython3",
   "version": "3.7.12"
  },
  "papermill": {
   "default_parameters": {},
   "duration": 14.182911,
   "end_time": "2022-07-08T14:54:06.093893",
   "environment_variables": {},
   "exception": null,
   "input_path": "__notebook__.ipynb",
   "output_path": "__notebook__.ipynb",
   "parameters": {},
   "start_time": "2022-07-08T14:53:51.910982",
   "version": "2.3.4"
  }
 },
 "nbformat": 4,
 "nbformat_minor": 5
}
