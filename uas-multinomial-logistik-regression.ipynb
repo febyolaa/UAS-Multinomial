{
 "cells": [
  {
   "cell_type": "code",
   "execution_count": 1,
   "id": "aca2f3b3",
   "metadata": {
    "_cell_guid": "b1076dfc-b9ad-4769-8c92-a6c4dae69d19",
    "_uuid": "8f2839f25d086af736a60e9eeb907d3b93b6e0e5",
    "execution": {
     "iopub.execute_input": "2022-07-08T14:59:31.464973Z",
     "iopub.status.busy": "2022-07-08T14:59:31.464307Z",
     "iopub.status.idle": "2022-07-08T14:59:31.492410Z",
     "shell.execute_reply": "2022-07-08T14:59:31.490911Z"
    },
    "papermill": {
     "duration": 0.049458,
     "end_time": "2022-07-08T14:59:31.496378",
     "exception": false,
     "start_time": "2022-07-08T14:59:31.446920",
     "status": "completed"
    },
    "tags": []
   },
   "outputs": [
    {
     "name": "stdout",
     "output_type": "stream",
     "text": [
      "/kaggle/input/data-category-bank/Data category bank .csv\n"
     ]
    }
   ],
   "source": [
    "# This Python 3 environment comes with many helpful analytics libraries installed\n",
    "# It is defined by the kaggle/python Docker image: https://github.com/kaggle/docker-python\n",
    "# For example, here's several helpful packages to load\n",
    "\n",
    "import numpy as np # linear algebra\n",
    "import pandas as pd # data processing, CSV file I/O (e.g. pd.read_csv)\n",
    "\n",
    "# Input data files are available in the read-only \"../input/\" directory\n",
    "# For example, running this (by clicking run or pressing Shift+Enter) will list all files under the input directory\n",
    "\n",
    "import os\n",
    "for dirname, _, filenames in os.walk('/kaggle/input'):\n",
    "    for filename in filenames:\n",
    "        print(os.path.join(dirname, filename))\n",
    "\n",
    "# You can write up to 20GB to the current directory (/kaggle/working/) that gets preserved as output when you create a version using \"Save & Run All\" \n",
    "# You can also write temporary files to /kaggle/temp/, but they won't be saved outside of the current session"
   ]
  },
  {
   "cell_type": "markdown",
   "id": "26b04b21",
   "metadata": {
    "papermill": {
     "duration": 0.013096,
     "end_time": "2022-07-08T14:59:31.523100",
     "exception": false,
     "start_time": "2022-07-08T14:59:31.510004",
     "status": "completed"
    },
    "tags": []
   },
   "source": [
    "\n",
    "**1. Import Libraries**"
   ]
  },
  {
   "cell_type": "code",
   "execution_count": 2,
   "id": "3e07e565",
   "metadata": {
    "execution": {
     "iopub.execute_input": "2022-07-08T14:59:31.552457Z",
     "iopub.status.busy": "2022-07-08T14:59:31.551732Z",
     "iopub.status.idle": "2022-07-08T14:59:33.948543Z",
     "shell.execute_reply": "2022-07-08T14:59:33.947067Z"
    },
    "papermill": {
     "duration": 2.41486,
     "end_time": "2022-07-08T14:59:33.951445",
     "exception": false,
     "start_time": "2022-07-08T14:59:31.536585",
     "status": "completed"
    },
    "tags": []
   },
   "outputs": [],
   "source": [
    "import numpy as np\n",
    "import pandas as pd\n",
    "\n",
    "from sklearn.linear_model import LogisticRegression\n",
    "from sklearn.model_selection import train_test_split\n",
    "from sklearn import preprocessing\n",
    "\n",
    "from sklearn.metrics import classification_report\n",
    "from sklearn.metrics import accuracy_score\n",
    "from sklearn.model_selection import cross_val_score\n",
    "from sklearn.metrics import confusion_matrix\n",
    "import matplotlib as mpl\n",
    "import matplotlib.pyplot as plt\n",
    "\n",
    "\n",
    "\n",
    "import statsmodels.api as sm\n",
    "\n",
    "# readable figures\n",
    "pd.set_option('float_format', '{:f}'.format)"
   ]
  },
  {
   "cell_type": "markdown",
   "id": "2c200a22",
   "metadata": {
    "papermill": {
     "duration": 0.016571,
     "end_time": "2022-07-08T14:59:33.982652",
     "exception": false,
     "start_time": "2022-07-08T14:59:33.966081",
     "status": "completed"
    },
    "tags": []
   },
   "source": [
    "**2. Load Data**"
   ]
  },
  {
   "cell_type": "code",
   "execution_count": 3,
   "id": "6c84694a",
   "metadata": {
    "execution": {
     "iopub.execute_input": "2022-07-08T14:59:34.016725Z",
     "iopub.status.busy": "2022-07-08T14:59:34.016254Z",
     "iopub.status.idle": "2022-07-08T14:59:34.053910Z",
     "shell.execute_reply": "2022-07-08T14:59:34.052366Z"
    },
    "papermill": {
     "duration": 0.059476,
     "end_time": "2022-07-08T14:59:34.056707",
     "exception": false,
     "start_time": "2022-07-08T14:59:33.997231",
     "status": "completed"
    },
    "tags": []
   },
   "outputs": [
    {
     "data": {
      "text/html": [
       "<div>\n",
       "<style scoped>\n",
       "    .dataframe tbody tr th:only-of-type {\n",
       "        vertical-align: middle;\n",
       "    }\n",
       "\n",
       "    .dataframe tbody tr th {\n",
       "        vertical-align: top;\n",
       "    }\n",
       "\n",
       "    .dataframe thead th {\n",
       "        text-align: right;\n",
       "    }\n",
       "</style>\n",
       "<table border=\"1\" class=\"dataframe\">\n",
       "  <thead>\n",
       "    <tr style=\"text-align: right;\">\n",
       "      <th></th>\n",
       "      <th>Emitten</th>\n",
       "      <th>DER</th>\n",
       "      <th>ROA</th>\n",
       "      <th>Sales Growth</th>\n",
       "      <th>ROE</th>\n",
       "      <th>NPM</th>\n",
       "      <th>Category</th>\n",
       "    </tr>\n",
       "  </thead>\n",
       "  <tbody>\n",
       "    <tr>\n",
       "      <th>0</th>\n",
       "      <td>AGRO</td>\n",
       "      <td>7.150000</td>\n",
       "      <td>-0.090000</td>\n",
       "      <td>-185.032137</td>\n",
       "      <td>-0.720000</td>\n",
       "      <td>-1.400000</td>\n",
       "      <td>3</td>\n",
       "    </tr>\n",
       "    <tr>\n",
       "      <th>1</th>\n",
       "      <td>BBCA</td>\n",
       "      <td>4.880000</td>\n",
       "      <td>0.030000</td>\n",
       "      <td>-1485.583000</td>\n",
       "      <td>0.150000</td>\n",
       "      <td>0.590000</td>\n",
       "      <td>2</td>\n",
       "    </tr>\n",
       "    <tr>\n",
       "      <th>2</th>\n",
       "      <td>BBHI</td>\n",
       "      <td>4.360000</td>\n",
       "      <td>0.010000</td>\n",
       "      <td>121.858090</td>\n",
       "      <td>0.060000</td>\n",
       "      <td>0.300000</td>\n",
       "      <td>2</td>\n",
       "    </tr>\n",
       "    <tr>\n",
       "      <th>3</th>\n",
       "      <td>BBKP</td>\n",
       "      <td>10.030000</td>\n",
       "      <td>-0.010000</td>\n",
       "      <td>-1445.750000</td>\n",
       "      <td>-0.060000</td>\n",
       "      <td>-0.140000</td>\n",
       "      <td>1</td>\n",
       "    </tr>\n",
       "    <tr>\n",
       "      <th>4</th>\n",
       "      <td>BBMD</td>\n",
       "      <td>2.900000</td>\n",
       "      <td>0.030000</td>\n",
       "      <td>61.545475</td>\n",
       "      <td>0.110000</td>\n",
       "      <td>0.510000</td>\n",
       "      <td>2</td>\n",
       "    </tr>\n",
       "  </tbody>\n",
       "</table>\n",
       "</div>"
      ],
      "text/plain": [
       "  Emitten       DER       ROA  Sales Growth       ROE       NPM  Category\n",
       "0    AGRO  7.150000 -0.090000   -185.032137 -0.720000 -1.400000         3\n",
       "1    BBCA  4.880000  0.030000  -1485.583000  0.150000  0.590000         2\n",
       "2    BBHI  4.360000  0.010000    121.858090  0.060000  0.300000         2\n",
       "3    BBKP 10.030000 -0.010000  -1445.750000 -0.060000 -0.140000         1\n",
       "4    BBMD  2.900000  0.030000     61.545475  0.110000  0.510000         2"
      ]
     },
     "execution_count": 3,
     "metadata": {},
     "output_type": "execute_result"
    }
   ],
   "source": [
    "df = pd.read_csv('../input/data-category-bank/Data category bank .csv')\n",
    "df.head()"
   ]
  },
  {
   "cell_type": "code",
   "execution_count": 4,
   "id": "c02dcf3c",
   "metadata": {
    "execution": {
     "iopub.execute_input": "2022-07-08T14:59:34.088668Z",
     "iopub.status.busy": "2022-07-08T14:59:34.088247Z",
     "iopub.status.idle": "2022-07-08T14:59:34.134871Z",
     "shell.execute_reply": "2022-07-08T14:59:34.133438Z"
    },
    "papermill": {
     "duration": 0.066854,
     "end_time": "2022-07-08T14:59:34.138153",
     "exception": false,
     "start_time": "2022-07-08T14:59:34.071299",
     "status": "completed"
    },
    "tags": []
   },
   "outputs": [
    {
     "data": {
      "text/html": [
       "<div>\n",
       "<style scoped>\n",
       "    .dataframe tbody tr th:only-of-type {\n",
       "        vertical-align: middle;\n",
       "    }\n",
       "\n",
       "    .dataframe tbody tr th {\n",
       "        vertical-align: top;\n",
       "    }\n",
       "\n",
       "    .dataframe thead th {\n",
       "        text-align: right;\n",
       "    }\n",
       "</style>\n",
       "<table border=\"1\" class=\"dataframe\">\n",
       "  <thead>\n",
       "    <tr style=\"text-align: right;\">\n",
       "      <th></th>\n",
       "      <th>DER</th>\n",
       "      <th>ROA</th>\n",
       "      <th>Sales Growth</th>\n",
       "      <th>ROE</th>\n",
       "      <th>NPM</th>\n",
       "      <th>Category</th>\n",
       "    </tr>\n",
       "  </thead>\n",
       "  <tbody>\n",
       "    <tr>\n",
       "      <th>count</th>\n",
       "      <td>24.000000</td>\n",
       "      <td>24.000000</td>\n",
       "      <td>24.000000</td>\n",
       "      <td>24.000000</td>\n",
       "      <td>24.000000</td>\n",
       "      <td>24.000000</td>\n",
       "    </tr>\n",
       "    <tr>\n",
       "      <th>mean</th>\n",
       "      <td>6.030000</td>\n",
       "      <td>0.005833</td>\n",
       "      <td>55.001594</td>\n",
       "      <td>-0.011667</td>\n",
       "      <td>-0.001667</td>\n",
       "      <td>1.916667</td>\n",
       "    </tr>\n",
       "    <tr>\n",
       "      <th>std</th>\n",
       "      <td>3.503758</td>\n",
       "      <td>0.031611</td>\n",
       "      <td>2377.021390</td>\n",
       "      <td>0.193473</td>\n",
       "      <td>0.484236</td>\n",
       "      <td>0.503610</td>\n",
       "    </tr>\n",
       "    <tr>\n",
       "      <th>min</th>\n",
       "      <td>0.360000</td>\n",
       "      <td>-0.090000</td>\n",
       "      <td>-4246.426000</td>\n",
       "      <td>-0.720000</td>\n",
       "      <td>-1.400000</td>\n",
       "      <td>1.000000</td>\n",
       "    </tr>\n",
       "    <tr>\n",
       "      <th>25%</th>\n",
       "      <td>4.112500</td>\n",
       "      <td>0.005000</td>\n",
       "      <td>-1112.673500</td>\n",
       "      <td>0.000000</td>\n",
       "      <td>0.010000</td>\n",
       "      <td>2.000000</td>\n",
       "    </tr>\n",
       "    <tr>\n",
       "      <th>50%</th>\n",
       "      <td>5.280000</td>\n",
       "      <td>0.010000</td>\n",
       "      <td>-1.098266</td>\n",
       "      <td>0.050000</td>\n",
       "      <td>0.115000</td>\n",
       "      <td>2.000000</td>\n",
       "    </tr>\n",
       "    <tr>\n",
       "      <th>75%</th>\n",
       "      <td>7.337500</td>\n",
       "      <td>0.012500</td>\n",
       "      <td>281.745586</td>\n",
       "      <td>0.085000</td>\n",
       "      <td>0.222500</td>\n",
       "      <td>2.000000</td>\n",
       "    </tr>\n",
       "    <tr>\n",
       "      <th>max</th>\n",
       "      <td>15.820000</td>\n",
       "      <td>0.080000</td>\n",
       "      <td>7034.205000</td>\n",
       "      <td>0.150000</td>\n",
       "      <td>0.650000</td>\n",
       "      <td>3.000000</td>\n",
       "    </tr>\n",
       "  </tbody>\n",
       "</table>\n",
       "</div>"
      ],
      "text/plain": [
       "            DER       ROA  Sales Growth       ROE       NPM  Category\n",
       "count 24.000000 24.000000     24.000000 24.000000 24.000000 24.000000\n",
       "mean   6.030000  0.005833     55.001594 -0.011667 -0.001667  1.916667\n",
       "std    3.503758  0.031611   2377.021390  0.193473  0.484236  0.503610\n",
       "min    0.360000 -0.090000  -4246.426000 -0.720000 -1.400000  1.000000\n",
       "25%    4.112500  0.005000  -1112.673500  0.000000  0.010000  2.000000\n",
       "50%    5.280000  0.010000     -1.098266  0.050000  0.115000  2.000000\n",
       "75%    7.337500  0.012500    281.745586  0.085000  0.222500  2.000000\n",
       "max   15.820000  0.080000   7034.205000  0.150000  0.650000  3.000000"
      ]
     },
     "execution_count": 4,
     "metadata": {},
     "output_type": "execute_result"
    }
   ],
   "source": [
    "df.describe()"
   ]
  },
  {
   "cell_type": "markdown",
   "id": "6ad0a543",
   "metadata": {
    "papermill": {
     "duration": 0.014041,
     "end_time": "2022-07-08T14:59:34.166196",
     "exception": false,
     "start_time": "2022-07-08T14:59:34.152155",
     "status": "completed"
    },
    "tags": []
   },
   "source": [
    "**3.Multinomial logistic regression with scikit-learn**"
   ]
  },
  {
   "cell_type": "code",
   "execution_count": 5,
   "id": "264fea2c",
   "metadata": {
    "execution": {
     "iopub.execute_input": "2022-07-08T14:59:34.199318Z",
     "iopub.status.busy": "2022-07-08T14:59:34.198482Z",
     "iopub.status.idle": "2022-07-08T14:59:34.213634Z",
     "shell.execute_reply": "2022-07-08T14:59:34.212515Z"
    },
    "papermill": {
     "duration": 0.034258,
     "end_time": "2022-07-08T14:59:34.215968",
     "exception": false,
     "start_time": "2022-07-08T14:59:34.181710",
     "status": "completed"
    },
    "tags": []
   },
   "outputs": [
    {
     "data": {
      "text/html": [
       "<div>\n",
       "<style scoped>\n",
       "    .dataframe tbody tr th:only-of-type {\n",
       "        vertical-align: middle;\n",
       "    }\n",
       "\n",
       "    .dataframe tbody tr th {\n",
       "        vertical-align: top;\n",
       "    }\n",
       "\n",
       "    .dataframe thead th {\n",
       "        text-align: right;\n",
       "    }\n",
       "</style>\n",
       "<table border=\"1\" class=\"dataframe\">\n",
       "  <thead>\n",
       "    <tr style=\"text-align: right;\">\n",
       "      <th></th>\n",
       "      <th>Emitten</th>\n",
       "      <th>DER</th>\n",
       "      <th>ROA</th>\n",
       "      <th>Sales Growth</th>\n",
       "      <th>ROE</th>\n",
       "      <th>NPM</th>\n",
       "      <th>Category</th>\n",
       "    </tr>\n",
       "  </thead>\n",
       "  <tbody>\n",
       "    <tr>\n",
       "      <th>0</th>\n",
       "      <td>AGRO</td>\n",
       "      <td>7.150000</td>\n",
       "      <td>-0.090000</td>\n",
       "      <td>-185.032137</td>\n",
       "      <td>-0.720000</td>\n",
       "      <td>-1.400000</td>\n",
       "      <td>3</td>\n",
       "    </tr>\n",
       "    <tr>\n",
       "      <th>1</th>\n",
       "      <td>BBCA</td>\n",
       "      <td>4.880000</td>\n",
       "      <td>0.030000</td>\n",
       "      <td>-1485.583000</td>\n",
       "      <td>0.150000</td>\n",
       "      <td>0.590000</td>\n",
       "      <td>2</td>\n",
       "    </tr>\n",
       "    <tr>\n",
       "      <th>2</th>\n",
       "      <td>BBHI</td>\n",
       "      <td>4.360000</td>\n",
       "      <td>0.010000</td>\n",
       "      <td>121.858090</td>\n",
       "      <td>0.060000</td>\n",
       "      <td>0.300000</td>\n",
       "      <td>2</td>\n",
       "    </tr>\n",
       "    <tr>\n",
       "      <th>3</th>\n",
       "      <td>BBKP</td>\n",
       "      <td>10.030000</td>\n",
       "      <td>-0.010000</td>\n",
       "      <td>-1445.750000</td>\n",
       "      <td>-0.060000</td>\n",
       "      <td>-0.140000</td>\n",
       "      <td>1</td>\n",
       "    </tr>\n",
       "    <tr>\n",
       "      <th>4</th>\n",
       "      <td>BBMD</td>\n",
       "      <td>2.900000</td>\n",
       "      <td>0.030000</td>\n",
       "      <td>61.545475</td>\n",
       "      <td>0.110000</td>\n",
       "      <td>0.510000</td>\n",
       "      <td>2</td>\n",
       "    </tr>\n",
       "    <tr>\n",
       "      <th>5</th>\n",
       "      <td>BBNI</td>\n",
       "      <td>6.520000</td>\n",
       "      <td>0.010000</td>\n",
       "      <td>-4246.426000</td>\n",
       "      <td>0.050000</td>\n",
       "      <td>0.140000</td>\n",
       "      <td>2</td>\n",
       "    </tr>\n",
       "    <tr>\n",
       "      <th>6</th>\n",
       "      <td>BBRI</td>\n",
       "      <td>4.780000</td>\n",
       "      <td>0.010000</td>\n",
       "      <td>6531.747000</td>\n",
       "      <td>0.080000</td>\n",
       "      <td>0.220000</td>\n",
       "      <td>2</td>\n",
       "    </tr>\n",
       "    <tr>\n",
       "      <th>7</th>\n",
       "      <td>BBSI</td>\n",
       "      <td>0.490000</td>\n",
       "      <td>0.040000</td>\n",
       "      <td>22.556467</td>\n",
       "      <td>0.060000</td>\n",
       "      <td>0.650000</td>\n",
       "      <td>2</td>\n",
       "    </tr>\n",
       "    <tr>\n",
       "      <th>8</th>\n",
       "      <td>BBTN</td>\n",
       "      <td>15.820000</td>\n",
       "      <td>0.010000</td>\n",
       "      <td>129.291000</td>\n",
       "      <td>0.100000</td>\n",
       "      <td>0.110000</td>\n",
       "      <td>1</td>\n",
       "    </tr>\n",
       "    <tr>\n",
       "      <th>9</th>\n",
       "      <td>BBYB</td>\n",
       "      <td>6.310000</td>\n",
       "      <td>-0.040000</td>\n",
       "      <td>167.373288</td>\n",
       "      <td>-0.320000</td>\n",
       "      <td>-0.700000</td>\n",
       "      <td>3</td>\n",
       "    </tr>\n",
       "    <tr>\n",
       "      <th>10</th>\n",
       "      <td>BCIC</td>\n",
       "      <td>11.530000</td>\n",
       "      <td>-0.020000</td>\n",
       "      <td>-24.753000</td>\n",
       "      <td>-0.280000</td>\n",
       "      <td>-0.550000</td>\n",
       "      <td>1</td>\n",
       "    </tr>\n",
       "    <tr>\n",
       "      <th>11</th>\n",
       "      <td>BEKS</td>\n",
       "      <td>4.170000</td>\n",
       "      <td>-0.030000</td>\n",
       "      <td>-93.899000</td>\n",
       "      <td>0.020000</td>\n",
       "      <td>0.060000</td>\n",
       "      <td>2</td>\n",
       "    </tr>\n",
       "    <tr>\n",
       "      <th>12</th>\n",
       "      <td>BJBR</td>\n",
       "      <td>11.340000</td>\n",
       "      <td>0.010000</td>\n",
       "      <td>649.269000</td>\n",
       "      <td>-0.140000</td>\n",
       "      <td>-0.920000</td>\n",
       "      <td>1</td>\n",
       "    </tr>\n",
       "    <tr>\n",
       "      <th>13</th>\n",
       "      <td>BJTM</td>\n",
       "      <td>8.420000</td>\n",
       "      <td>0.020000</td>\n",
       "      <td>424.496000</td>\n",
       "      <td>0.030000</td>\n",
       "      <td>0.070000</td>\n",
       "      <td>2</td>\n",
       "    </tr>\n",
       "    <tr>\n",
       "      <th>14</th>\n",
       "      <td>BKSW</td>\n",
       "      <td>3.820000</td>\n",
       "      <td>-0.020000</td>\n",
       "      <td>-309.781000</td>\n",
       "      <td>0.150000</td>\n",
       "      <td>0.180000</td>\n",
       "      <td>2</td>\n",
       "    </tr>\n",
       "    <tr>\n",
       "      <th>15</th>\n",
       "      <td>BMRI</td>\n",
       "      <td>5.910000</td>\n",
       "      <td>0.010000</td>\n",
       "      <td>7034.205000</td>\n",
       "      <td>0.150000</td>\n",
       "      <td>0.320000</td>\n",
       "      <td>2</td>\n",
       "    </tr>\n",
       "    <tr>\n",
       "      <th>16</th>\n",
       "      <td>BNBA</td>\n",
       "      <td>3.490000</td>\n",
       "      <td>0.010000</td>\n",
       "      <td>-81.856421</td>\n",
       "      <td>-0.100000</td>\n",
       "      <td>-0.510000</td>\n",
       "      <td>2</td>\n",
       "    </tr>\n",
       "    <tr>\n",
       "      <th>17</th>\n",
       "      <td>BNGA</td>\n",
       "      <td>5.490000</td>\n",
       "      <td>0.010000</td>\n",
       "      <td>-1001.648000</td>\n",
       "      <td>0.050000</td>\n",
       "      <td>0.100000</td>\n",
       "      <td>2</td>\n",
       "    </tr>\n",
       "    <tr>\n",
       "      <th>18</th>\n",
       "      <td>BNII</td>\n",
       "      <td>4.500000</td>\n",
       "      <td>0.010000</td>\n",
       "      <td>-1690.584000</td>\n",
       "      <td>0.100000</td>\n",
       "      <td>0.230000</td>\n",
       "      <td>2</td>\n",
       "    </tr>\n",
       "    <tr>\n",
       "      <th>19</th>\n",
       "      <td>BNLI</td>\n",
       "      <td>5.070000</td>\n",
       "      <td>0.010000</td>\n",
       "      <td>263.701000</td>\n",
       "      <td>0.030000</td>\n",
       "      <td>0.120000</td>\n",
       "      <td>2</td>\n",
       "    </tr>\n",
       "    <tr>\n",
       "      <th>20</th>\n",
       "      <td>BTPN</td>\n",
       "      <td>3.940000</td>\n",
       "      <td>0.010000</td>\n",
       "      <td>-1667.699000</td>\n",
       "      <td>0.080000</td>\n",
       "      <td>0.210000</td>\n",
       "      <td>2</td>\n",
       "    </tr>\n",
       "    <tr>\n",
       "      <th>21</th>\n",
       "      <td>BTPS</td>\n",
       "      <td>0.360000</td>\n",
       "      <td>0.080000</td>\n",
       "      <td>567.248000</td>\n",
       "      <td>0.050000</td>\n",
       "      <td>0.170000</td>\n",
       "      <td>2</td>\n",
       "    </tr>\n",
       "    <tr>\n",
       "      <th>22</th>\n",
       "      <td>MASB</td>\n",
       "      <td>7.900000</td>\n",
       "      <td>0.010000</td>\n",
       "      <td>-2756.119855</td>\n",
       "      <td>0.030000</td>\n",
       "      <td>0.110000</td>\n",
       "      <td>2</td>\n",
       "    </tr>\n",
       "    <tr>\n",
       "      <th>23</th>\n",
       "      <td>MEGA</td>\n",
       "      <td>5.540000</td>\n",
       "      <td>0.030000</td>\n",
       "      <td>335.879344</td>\n",
       "      <td>0.040000</td>\n",
       "      <td>0.090000</td>\n",
       "      <td>2</td>\n",
       "    </tr>\n",
       "  </tbody>\n",
       "</table>\n",
       "</div>"
      ],
      "text/plain": [
       "   Emitten       DER       ROA  Sales Growth       ROE       NPM  Category\n",
       "0     AGRO  7.150000 -0.090000   -185.032137 -0.720000 -1.400000         3\n",
       "1     BBCA  4.880000  0.030000  -1485.583000  0.150000  0.590000         2\n",
       "2     BBHI  4.360000  0.010000    121.858090  0.060000  0.300000         2\n",
       "3     BBKP 10.030000 -0.010000  -1445.750000 -0.060000 -0.140000         1\n",
       "4     BBMD  2.900000  0.030000     61.545475  0.110000  0.510000         2\n",
       "5     BBNI  6.520000  0.010000  -4246.426000  0.050000  0.140000         2\n",
       "6     BBRI  4.780000  0.010000   6531.747000  0.080000  0.220000         2\n",
       "7     BBSI  0.490000  0.040000     22.556467  0.060000  0.650000         2\n",
       "8     BBTN 15.820000  0.010000    129.291000  0.100000  0.110000         1\n",
       "9     BBYB  6.310000 -0.040000    167.373288 -0.320000 -0.700000         3\n",
       "10    BCIC 11.530000 -0.020000    -24.753000 -0.280000 -0.550000         1\n",
       "11    BEKS  4.170000 -0.030000    -93.899000  0.020000  0.060000         2\n",
       "12    BJBR 11.340000  0.010000    649.269000 -0.140000 -0.920000         1\n",
       "13    BJTM  8.420000  0.020000    424.496000  0.030000  0.070000         2\n",
       "14    BKSW  3.820000 -0.020000   -309.781000  0.150000  0.180000         2\n",
       "15    BMRI  5.910000  0.010000   7034.205000  0.150000  0.320000         2\n",
       "16    BNBA  3.490000  0.010000    -81.856421 -0.100000 -0.510000         2\n",
       "17    BNGA  5.490000  0.010000  -1001.648000  0.050000  0.100000         2\n",
       "18    BNII  4.500000  0.010000  -1690.584000  0.100000  0.230000         2\n",
       "19    BNLI  5.070000  0.010000    263.701000  0.030000  0.120000         2\n",
       "20    BTPN  3.940000  0.010000  -1667.699000  0.080000  0.210000         2\n",
       "21    BTPS  0.360000  0.080000    567.248000  0.050000  0.170000         2\n",
       "22    MASB  7.900000  0.010000  -2756.119855  0.030000  0.110000         2\n",
       "23    MEGA  5.540000  0.030000    335.879344  0.040000  0.090000         2"
      ]
     },
     "metadata": {},
     "output_type": "display_data"
    }
   ],
   "source": [
    "display(df)"
   ]
  },
  {
   "cell_type": "markdown",
   "id": "74741f33",
   "metadata": {
    "papermill": {
     "duration": 0.015211,
     "end_time": "2022-07-08T14:59:34.246500",
     "exception": false,
     "start_time": "2022-07-08T14:59:34.231289",
     "status": "completed"
    },
    "tags": []
   },
   "source": [
    "\n",
    "**Drop Irrelevant Data untuk variabel X**"
   ]
  },
  {
   "cell_type": "code",
   "execution_count": 6,
   "id": "1a42bd19",
   "metadata": {
    "execution": {
     "iopub.execute_input": "2022-07-08T14:59:34.279623Z",
     "iopub.status.busy": "2022-07-08T14:59:34.278947Z",
     "iopub.status.idle": "2022-07-08T14:59:34.291031Z",
     "shell.execute_reply": "2022-07-08T14:59:34.290088Z"
    },
    "papermill": {
     "duration": 0.031065,
     "end_time": "2022-07-08T14:59:34.293492",
     "exception": false,
     "start_time": "2022-07-08T14:59:34.262427",
     "status": "completed"
    },
    "tags": []
   },
   "outputs": [
    {
     "data": {
      "text/html": [
       "<div>\n",
       "<style scoped>\n",
       "    .dataframe tbody tr th:only-of-type {\n",
       "        vertical-align: middle;\n",
       "    }\n",
       "\n",
       "    .dataframe tbody tr th {\n",
       "        vertical-align: top;\n",
       "    }\n",
       "\n",
       "    .dataframe thead th {\n",
       "        text-align: right;\n",
       "    }\n",
       "</style>\n",
       "<table border=\"1\" class=\"dataframe\">\n",
       "  <thead>\n",
       "    <tr style=\"text-align: right;\">\n",
       "      <th></th>\n",
       "      <th>DER</th>\n",
       "      <th>ROA</th>\n",
       "      <th>Sales Growth</th>\n",
       "      <th>ROE</th>\n",
       "      <th>NPM</th>\n",
       "    </tr>\n",
       "  </thead>\n",
       "  <tbody>\n",
       "    <tr>\n",
       "      <th>0</th>\n",
       "      <td>7.150000</td>\n",
       "      <td>-0.090000</td>\n",
       "      <td>-185.032137</td>\n",
       "      <td>-0.720000</td>\n",
       "      <td>-1.400000</td>\n",
       "    </tr>\n",
       "    <tr>\n",
       "      <th>1</th>\n",
       "      <td>4.880000</td>\n",
       "      <td>0.030000</td>\n",
       "      <td>-1485.583000</td>\n",
       "      <td>0.150000</td>\n",
       "      <td>0.590000</td>\n",
       "    </tr>\n",
       "    <tr>\n",
       "      <th>2</th>\n",
       "      <td>4.360000</td>\n",
       "      <td>0.010000</td>\n",
       "      <td>121.858090</td>\n",
       "      <td>0.060000</td>\n",
       "      <td>0.300000</td>\n",
       "    </tr>\n",
       "    <tr>\n",
       "      <th>3</th>\n",
       "      <td>10.030000</td>\n",
       "      <td>-0.010000</td>\n",
       "      <td>-1445.750000</td>\n",
       "      <td>-0.060000</td>\n",
       "      <td>-0.140000</td>\n",
       "    </tr>\n",
       "    <tr>\n",
       "      <th>4</th>\n",
       "      <td>2.900000</td>\n",
       "      <td>0.030000</td>\n",
       "      <td>61.545475</td>\n",
       "      <td>0.110000</td>\n",
       "      <td>0.510000</td>\n",
       "    </tr>\n",
       "  </tbody>\n",
       "</table>\n",
       "</div>"
      ],
      "text/plain": [
       "        DER       ROA  Sales Growth       ROE       NPM\n",
       "0  7.150000 -0.090000   -185.032137 -0.720000 -1.400000\n",
       "1  4.880000  0.030000  -1485.583000  0.150000  0.590000\n",
       "2  4.360000  0.010000    121.858090  0.060000  0.300000\n",
       "3 10.030000 -0.010000  -1445.750000 -0.060000 -0.140000\n",
       "4  2.900000  0.030000     61.545475  0.110000  0.510000"
      ]
     },
     "execution_count": 6,
     "metadata": {},
     "output_type": "execute_result"
    }
   ],
   "source": [
    "x = df.drop(['Category','Emitten'], axis=1)\n",
    "x.head()"
   ]
  },
  {
   "cell_type": "code",
   "execution_count": 7,
   "id": "627271af",
   "metadata": {
    "execution": {
     "iopub.execute_input": "2022-07-08T14:59:34.327154Z",
     "iopub.status.busy": "2022-07-08T14:59:34.326440Z",
     "iopub.status.idle": "2022-07-08T14:59:34.335241Z",
     "shell.execute_reply": "2022-07-08T14:59:34.333806Z"
    },
    "papermill": {
     "duration": 0.030236,
     "end_time": "2022-07-08T14:59:34.339122",
     "exception": false,
     "start_time": "2022-07-08T14:59:34.308886",
     "status": "completed"
    },
    "tags": []
   },
   "outputs": [
    {
     "data": {
      "text/plain": [
       "0    3\n",
       "1    2\n",
       "2    2\n",
       "3    1\n",
       "4    2\n",
       "Name: Category, dtype: int64"
      ]
     },
     "execution_count": 7,
     "metadata": {},
     "output_type": "execute_result"
    }
   ],
   "source": [
    "y = df['Category']\n",
    "y.head()"
   ]
  },
  {
   "cell_type": "markdown",
   "id": "433546cf",
   "metadata": {
    "papermill": {
     "duration": 0.014429,
     "end_time": "2022-07-08T14:59:34.369884",
     "exception": false,
     "start_time": "2022-07-08T14:59:34.355455",
     "status": "completed"
    },
    "tags": []
   },
   "source": [
    "**Standardize the Data**"
   ]
  },
  {
   "cell_type": "code",
   "execution_count": 8,
   "id": "f2f8e9ef",
   "metadata": {
    "execution": {
     "iopub.execute_input": "2022-07-08T14:59:34.403006Z",
     "iopub.status.busy": "2022-07-08T14:59:34.402610Z",
     "iopub.status.idle": "2022-07-08T14:59:34.423588Z",
     "shell.execute_reply": "2022-07-08T14:59:34.421924Z"
    },
    "papermill": {
     "duration": 0.040985,
     "end_time": "2022-07-08T14:59:34.426560",
     "exception": false,
     "start_time": "2022-07-08T14:59:34.385575",
     "status": "completed"
    },
    "tags": []
   },
   "outputs": [
    {
     "data": {
      "text/html": [
       "<div>\n",
       "<style scoped>\n",
       "    .dataframe tbody tr th:only-of-type {\n",
       "        vertical-align: middle;\n",
       "    }\n",
       "\n",
       "    .dataframe tbody tr th {\n",
       "        vertical-align: top;\n",
       "    }\n",
       "\n",
       "    .dataframe thead th {\n",
       "        text-align: right;\n",
       "    }\n",
       "</style>\n",
       "<table border=\"1\" class=\"dataframe\">\n",
       "  <thead>\n",
       "    <tr style=\"text-align: right;\">\n",
       "      <th></th>\n",
       "      <th>DER</th>\n",
       "      <th>ROA</th>\n",
       "      <th>Sales Growth</th>\n",
       "      <th>ROE</th>\n",
       "      <th>NPM</th>\n",
       "    </tr>\n",
       "  </thead>\n",
       "  <tbody>\n",
       "    <tr>\n",
       "      <th>0</th>\n",
       "      <td>0.326532</td>\n",
       "      <td>-3.096818</td>\n",
       "      <td>-0.103153</td>\n",
       "      <td>-3.739888</td>\n",
       "      <td>-2.949822</td>\n",
       "    </tr>\n",
       "    <tr>\n",
       "      <th>1</th>\n",
       "      <td>-0.335278</td>\n",
       "      <td>0.780937</td>\n",
       "      <td>-0.662055</td>\n",
       "      <td>0.853574</td>\n",
       "      <td>1.248137</td>\n",
       "    </tr>\n",
       "    <tr>\n",
       "      <th>2</th>\n",
       "      <td>-0.486882</td>\n",
       "      <td>0.134644</td>\n",
       "      <td>0.028731</td>\n",
       "      <td>0.378389</td>\n",
       "      <td>0.636374</td>\n",
       "    </tr>\n",
       "    <tr>\n",
       "      <th>3</th>\n",
       "      <td>1.166185</td>\n",
       "      <td>-0.511648</td>\n",
       "      <td>-0.644937</td>\n",
       "      <td>-0.255192</td>\n",
       "      <td>-0.291818</td>\n",
       "    </tr>\n",
       "    <tr>\n",
       "      <th>4</th>\n",
       "      <td>-0.912540</td>\n",
       "      <td>0.780937</td>\n",
       "      <td>0.002812</td>\n",
       "      <td>0.642381</td>\n",
       "      <td>1.079375</td>\n",
       "    </tr>\n",
       "    <tr>\n",
       "      <th>5</th>\n",
       "      <td>0.142858</td>\n",
       "      <td>0.134644</td>\n",
       "      <td>-1.848508</td>\n",
       "      <td>0.325590</td>\n",
       "      <td>0.298850</td>\n",
       "    </tr>\n",
       "    <tr>\n",
       "      <th>6</th>\n",
       "      <td>-0.364433</td>\n",
       "      <td>0.134644</td>\n",
       "      <td>2.783335</td>\n",
       "      <td>0.483985</td>\n",
       "      <td>0.467612</td>\n",
       "    </tr>\n",
       "    <tr>\n",
       "      <th>7</th>\n",
       "      <td>-1.615167</td>\n",
       "      <td>1.104083</td>\n",
       "      <td>-0.013943</td>\n",
       "      <td>0.378389</td>\n",
       "      <td>1.374708</td>\n",
       "    </tr>\n",
       "    <tr>\n",
       "      <th>8</th>\n",
       "      <td>2.854239</td>\n",
       "      <td>0.134644</td>\n",
       "      <td>0.031925</td>\n",
       "      <td>0.589582</td>\n",
       "      <td>0.235564</td>\n",
       "    </tr>\n",
       "    <tr>\n",
       "      <th>9</th>\n",
       "      <td>0.081633</td>\n",
       "      <td>-1.481087</td>\n",
       "      <td>0.048291</td>\n",
       "      <td>-1.627951</td>\n",
       "      <td>-1.473153</td>\n",
       "    </tr>\n",
       "    <tr>\n",
       "      <th>10</th>\n",
       "      <td>1.603505</td>\n",
       "      <td>-0.834794</td>\n",
       "      <td>-0.034274</td>\n",
       "      <td>-1.416757</td>\n",
       "      <td>-1.156724</td>\n",
       "    </tr>\n",
       "    <tr>\n",
       "      <th>11</th>\n",
       "      <td>-0.542276</td>\n",
       "      <td>-1.157941</td>\n",
       "      <td>-0.063989</td>\n",
       "      <td>0.167195</td>\n",
       "      <td>0.130087</td>\n",
       "    </tr>\n",
       "    <tr>\n",
       "      <th>12</th>\n",
       "      <td>1.548111</td>\n",
       "      <td>0.134644</td>\n",
       "      <td>0.255382</td>\n",
       "      <td>-0.677580</td>\n",
       "      <td>-1.937249</td>\n",
       "    </tr>\n",
       "    <tr>\n",
       "      <th>13</th>\n",
       "      <td>0.696796</td>\n",
       "      <td>0.457791</td>\n",
       "      <td>0.158788</td>\n",
       "      <td>0.219993</td>\n",
       "      <td>0.151183</td>\n",
       "    </tr>\n",
       "    <tr>\n",
       "      <th>14</th>\n",
       "      <td>-0.644317</td>\n",
       "      <td>-0.834794</td>\n",
       "      <td>-0.156763</td>\n",
       "      <td>0.853574</td>\n",
       "      <td>0.383231</td>\n",
       "    </tr>\n",
       "    <tr>\n",
       "      <th>15</th>\n",
       "      <td>-0.034986</td>\n",
       "      <td>0.134644</td>\n",
       "      <td>2.999262</td>\n",
       "      <td>0.853574</td>\n",
       "      <td>0.678564</td>\n",
       "    </tr>\n",
       "    <tr>\n",
       "      <th>16</th>\n",
       "      <td>-0.740528</td>\n",
       "      <td>0.134644</td>\n",
       "      <td>-0.058814</td>\n",
       "      <td>-0.466386</td>\n",
       "      <td>-1.072343</td>\n",
       "    </tr>\n",
       "    <tr>\n",
       "      <th>17</th>\n",
       "      <td>-0.157435</td>\n",
       "      <td>0.134644</td>\n",
       "      <td>-0.454088</td>\n",
       "      <td>0.325590</td>\n",
       "      <td>0.214469</td>\n",
       "    </tr>\n",
       "    <tr>\n",
       "      <th>18</th>\n",
       "      <td>-0.446066</td>\n",
       "      <td>0.134644</td>\n",
       "      <td>-0.750153</td>\n",
       "      <td>0.589582</td>\n",
       "      <td>0.488707</td>\n",
       "    </tr>\n",
       "    <tr>\n",
       "      <th>19</th>\n",
       "      <td>-0.279884</td>\n",
       "      <td>0.134644</td>\n",
       "      <td>0.089687</td>\n",
       "      <td>0.219993</td>\n",
       "      <td>0.256659</td>\n",
       "    </tr>\n",
       "    <tr>\n",
       "      <th>20</th>\n",
       "      <td>-0.609332</td>\n",
       "      <td>0.134644</td>\n",
       "      <td>-0.740318</td>\n",
       "      <td>0.483985</td>\n",
       "      <td>0.446517</td>\n",
       "    </tr>\n",
       "    <tr>\n",
       "      <th>21</th>\n",
       "      <td>-1.653068</td>\n",
       "      <td>2.396668</td>\n",
       "      <td>0.220134</td>\n",
       "      <td>0.325590</td>\n",
       "      <td>0.362135</td>\n",
       "    </tr>\n",
       "    <tr>\n",
       "      <th>22</th>\n",
       "      <td>0.545192</td>\n",
       "      <td>0.134644</td>\n",
       "      <td>-1.208059</td>\n",
       "      <td>0.219993</td>\n",
       "      <td>0.235564</td>\n",
       "    </tr>\n",
       "    <tr>\n",
       "      <th>23</th>\n",
       "      <td>-0.142858</td>\n",
       "      <td>0.780937</td>\n",
       "      <td>0.120705</td>\n",
       "      <td>0.272792</td>\n",
       "      <td>0.193373</td>\n",
       "    </tr>\n",
       "  </tbody>\n",
       "</table>\n",
       "</div>"
      ],
      "text/plain": [
       "         DER       ROA  Sales Growth       ROE       NPM\n",
       "0   0.326532 -3.096818     -0.103153 -3.739888 -2.949822\n",
       "1  -0.335278  0.780937     -0.662055  0.853574  1.248137\n",
       "2  -0.486882  0.134644      0.028731  0.378389  0.636374\n",
       "3   1.166185 -0.511648     -0.644937 -0.255192 -0.291818\n",
       "4  -0.912540  0.780937      0.002812  0.642381  1.079375\n",
       "5   0.142858  0.134644     -1.848508  0.325590  0.298850\n",
       "6  -0.364433  0.134644      2.783335  0.483985  0.467612\n",
       "7  -1.615167  1.104083     -0.013943  0.378389  1.374708\n",
       "8   2.854239  0.134644      0.031925  0.589582  0.235564\n",
       "9   0.081633 -1.481087      0.048291 -1.627951 -1.473153\n",
       "10  1.603505 -0.834794     -0.034274 -1.416757 -1.156724\n",
       "11 -0.542276 -1.157941     -0.063989  0.167195  0.130087\n",
       "12  1.548111  0.134644      0.255382 -0.677580 -1.937249\n",
       "13  0.696796  0.457791      0.158788  0.219993  0.151183\n",
       "14 -0.644317 -0.834794     -0.156763  0.853574  0.383231\n",
       "15 -0.034986  0.134644      2.999262  0.853574  0.678564\n",
       "16 -0.740528  0.134644     -0.058814 -0.466386 -1.072343\n",
       "17 -0.157435  0.134644     -0.454088  0.325590  0.214469\n",
       "18 -0.446066  0.134644     -0.750153  0.589582  0.488707\n",
       "19 -0.279884  0.134644      0.089687  0.219993  0.256659\n",
       "20 -0.609332  0.134644     -0.740318  0.483985  0.446517\n",
       "21 -1.653068  2.396668      0.220134  0.325590  0.362135\n",
       "22  0.545192  0.134644     -1.208059  0.219993  0.235564\n",
       "23 -0.142858  0.780937      0.120705  0.272792  0.193373"
      ]
     },
     "execution_count": 8,
     "metadata": {},
     "output_type": "execute_result"
    }
   ],
   "source": [
    "from sklearn.preprocessing import StandardScaler \n",
    "from sklearn import preprocessing\n",
    "x_scaled = StandardScaler().fit_transform(x)\n",
    "data_scaled = pd.DataFrame(x_scaled, columns=df.columns.drop(['Emitten','Category']))\n",
    "\n",
    "data_scaled"
   ]
  },
  {
   "cell_type": "code",
   "execution_count": 9,
   "id": "4ae6dd12",
   "metadata": {
    "execution": {
     "iopub.execute_input": "2022-07-08T14:59:34.460978Z",
     "iopub.status.busy": "2022-07-08T14:59:34.460543Z",
     "iopub.status.idle": "2022-07-08T14:59:34.477208Z",
     "shell.execute_reply": "2022-07-08T14:59:34.475892Z"
    },
    "papermill": {
     "duration": 0.037189,
     "end_time": "2022-07-08T14:59:34.480050",
     "exception": false,
     "start_time": "2022-07-08T14:59:34.442861",
     "status": "completed"
    },
    "tags": []
   },
   "outputs": [
    {
     "data": {
      "text/html": [
       "<div>\n",
       "<style scoped>\n",
       "    .dataframe tbody tr th:only-of-type {\n",
       "        vertical-align: middle;\n",
       "    }\n",
       "\n",
       "    .dataframe tbody tr th {\n",
       "        vertical-align: top;\n",
       "    }\n",
       "\n",
       "    .dataframe thead th {\n",
       "        text-align: right;\n",
       "    }\n",
       "</style>\n",
       "<table border=\"1\" class=\"dataframe\">\n",
       "  <thead>\n",
       "    <tr style=\"text-align: right;\">\n",
       "      <th></th>\n",
       "      <th>Emitten</th>\n",
       "      <th>DER</th>\n",
       "      <th>ROA</th>\n",
       "      <th>Sales Growth</th>\n",
       "      <th>ROE</th>\n",
       "      <th>NPM</th>\n",
       "      <th>Category</th>\n",
       "    </tr>\n",
       "  </thead>\n",
       "  <tbody>\n",
       "    <tr>\n",
       "      <th>0</th>\n",
       "      <td>AGRO</td>\n",
       "      <td>7.150000</td>\n",
       "      <td>-0.090000</td>\n",
       "      <td>-185.032137</td>\n",
       "      <td>-0.720000</td>\n",
       "      <td>-1.400000</td>\n",
       "      <td>3</td>\n",
       "    </tr>\n",
       "    <tr>\n",
       "      <th>1</th>\n",
       "      <td>BBCA</td>\n",
       "      <td>4.880000</td>\n",
       "      <td>0.030000</td>\n",
       "      <td>-1485.583000</td>\n",
       "      <td>0.150000</td>\n",
       "      <td>0.590000</td>\n",
       "      <td>2</td>\n",
       "    </tr>\n",
       "    <tr>\n",
       "      <th>2</th>\n",
       "      <td>BBHI</td>\n",
       "      <td>4.360000</td>\n",
       "      <td>0.010000</td>\n",
       "      <td>121.858090</td>\n",
       "      <td>0.060000</td>\n",
       "      <td>0.300000</td>\n",
       "      <td>2</td>\n",
       "    </tr>\n",
       "    <tr>\n",
       "      <th>3</th>\n",
       "      <td>BBKP</td>\n",
       "      <td>10.030000</td>\n",
       "      <td>-0.010000</td>\n",
       "      <td>-1445.750000</td>\n",
       "      <td>-0.060000</td>\n",
       "      <td>-0.140000</td>\n",
       "      <td>1</td>\n",
       "    </tr>\n",
       "    <tr>\n",
       "      <th>4</th>\n",
       "      <td>BBMD</td>\n",
       "      <td>2.900000</td>\n",
       "      <td>0.030000</td>\n",
       "      <td>61.545475</td>\n",
       "      <td>0.110000</td>\n",
       "      <td>0.510000</td>\n",
       "      <td>2</td>\n",
       "    </tr>\n",
       "    <tr>\n",
       "      <th>5</th>\n",
       "      <td>BBNI</td>\n",
       "      <td>6.520000</td>\n",
       "      <td>0.010000</td>\n",
       "      <td>-4246.426000</td>\n",
       "      <td>0.050000</td>\n",
       "      <td>0.140000</td>\n",
       "      <td>2</td>\n",
       "    </tr>\n",
       "    <tr>\n",
       "      <th>6</th>\n",
       "      <td>BBRI</td>\n",
       "      <td>4.780000</td>\n",
       "      <td>0.010000</td>\n",
       "      <td>6531.747000</td>\n",
       "      <td>0.080000</td>\n",
       "      <td>0.220000</td>\n",
       "      <td>2</td>\n",
       "    </tr>\n",
       "    <tr>\n",
       "      <th>7</th>\n",
       "      <td>BBSI</td>\n",
       "      <td>0.490000</td>\n",
       "      <td>0.040000</td>\n",
       "      <td>22.556467</td>\n",
       "      <td>0.060000</td>\n",
       "      <td>0.650000</td>\n",
       "      <td>2</td>\n",
       "    </tr>\n",
       "    <tr>\n",
       "      <th>8</th>\n",
       "      <td>BBTN</td>\n",
       "      <td>15.820000</td>\n",
       "      <td>0.010000</td>\n",
       "      <td>129.291000</td>\n",
       "      <td>0.100000</td>\n",
       "      <td>0.110000</td>\n",
       "      <td>1</td>\n",
       "    </tr>\n",
       "    <tr>\n",
       "      <th>9</th>\n",
       "      <td>BBYB</td>\n",
       "      <td>6.310000</td>\n",
       "      <td>-0.040000</td>\n",
       "      <td>167.373288</td>\n",
       "      <td>-0.320000</td>\n",
       "      <td>-0.700000</td>\n",
       "      <td>3</td>\n",
       "    </tr>\n",
       "    <tr>\n",
       "      <th>10</th>\n",
       "      <td>BCIC</td>\n",
       "      <td>11.530000</td>\n",
       "      <td>-0.020000</td>\n",
       "      <td>-24.753000</td>\n",
       "      <td>-0.280000</td>\n",
       "      <td>-0.550000</td>\n",
       "      <td>1</td>\n",
       "    </tr>\n",
       "    <tr>\n",
       "      <th>11</th>\n",
       "      <td>BEKS</td>\n",
       "      <td>4.170000</td>\n",
       "      <td>-0.030000</td>\n",
       "      <td>-93.899000</td>\n",
       "      <td>0.020000</td>\n",
       "      <td>0.060000</td>\n",
       "      <td>2</td>\n",
       "    </tr>\n",
       "    <tr>\n",
       "      <th>12</th>\n",
       "      <td>BJBR</td>\n",
       "      <td>11.340000</td>\n",
       "      <td>0.010000</td>\n",
       "      <td>649.269000</td>\n",
       "      <td>-0.140000</td>\n",
       "      <td>-0.920000</td>\n",
       "      <td>1</td>\n",
       "    </tr>\n",
       "    <tr>\n",
       "      <th>13</th>\n",
       "      <td>BJTM</td>\n",
       "      <td>8.420000</td>\n",
       "      <td>0.020000</td>\n",
       "      <td>424.496000</td>\n",
       "      <td>0.030000</td>\n",
       "      <td>0.070000</td>\n",
       "      <td>2</td>\n",
       "    </tr>\n",
       "    <tr>\n",
       "      <th>14</th>\n",
       "      <td>BKSW</td>\n",
       "      <td>3.820000</td>\n",
       "      <td>-0.020000</td>\n",
       "      <td>-309.781000</td>\n",
       "      <td>0.150000</td>\n",
       "      <td>0.180000</td>\n",
       "      <td>2</td>\n",
       "    </tr>\n",
       "    <tr>\n",
       "      <th>15</th>\n",
       "      <td>BMRI</td>\n",
       "      <td>5.910000</td>\n",
       "      <td>0.010000</td>\n",
       "      <td>7034.205000</td>\n",
       "      <td>0.150000</td>\n",
       "      <td>0.320000</td>\n",
       "      <td>2</td>\n",
       "    </tr>\n",
       "    <tr>\n",
       "      <th>16</th>\n",
       "      <td>BNBA</td>\n",
       "      <td>3.490000</td>\n",
       "      <td>0.010000</td>\n",
       "      <td>-81.856421</td>\n",
       "      <td>-0.100000</td>\n",
       "      <td>-0.510000</td>\n",
       "      <td>2</td>\n",
       "    </tr>\n",
       "    <tr>\n",
       "      <th>17</th>\n",
       "      <td>BNGA</td>\n",
       "      <td>5.490000</td>\n",
       "      <td>0.010000</td>\n",
       "      <td>-1001.648000</td>\n",
       "      <td>0.050000</td>\n",
       "      <td>0.100000</td>\n",
       "      <td>2</td>\n",
       "    </tr>\n",
       "    <tr>\n",
       "      <th>18</th>\n",
       "      <td>BNII</td>\n",
       "      <td>4.500000</td>\n",
       "      <td>0.010000</td>\n",
       "      <td>-1690.584000</td>\n",
       "      <td>0.100000</td>\n",
       "      <td>0.230000</td>\n",
       "      <td>2</td>\n",
       "    </tr>\n",
       "    <tr>\n",
       "      <th>19</th>\n",
       "      <td>BNLI</td>\n",
       "      <td>5.070000</td>\n",
       "      <td>0.010000</td>\n",
       "      <td>263.701000</td>\n",
       "      <td>0.030000</td>\n",
       "      <td>0.120000</td>\n",
       "      <td>2</td>\n",
       "    </tr>\n",
       "    <tr>\n",
       "      <th>20</th>\n",
       "      <td>BTPN</td>\n",
       "      <td>3.940000</td>\n",
       "      <td>0.010000</td>\n",
       "      <td>-1667.699000</td>\n",
       "      <td>0.080000</td>\n",
       "      <td>0.210000</td>\n",
       "      <td>2</td>\n",
       "    </tr>\n",
       "    <tr>\n",
       "      <th>21</th>\n",
       "      <td>BTPS</td>\n",
       "      <td>0.360000</td>\n",
       "      <td>0.080000</td>\n",
       "      <td>567.248000</td>\n",
       "      <td>0.050000</td>\n",
       "      <td>0.170000</td>\n",
       "      <td>2</td>\n",
       "    </tr>\n",
       "    <tr>\n",
       "      <th>22</th>\n",
       "      <td>MASB</td>\n",
       "      <td>7.900000</td>\n",
       "      <td>0.010000</td>\n",
       "      <td>-2756.119855</td>\n",
       "      <td>0.030000</td>\n",
       "      <td>0.110000</td>\n",
       "      <td>2</td>\n",
       "    </tr>\n",
       "    <tr>\n",
       "      <th>23</th>\n",
       "      <td>MEGA</td>\n",
       "      <td>5.540000</td>\n",
       "      <td>0.030000</td>\n",
       "      <td>335.879344</td>\n",
       "      <td>0.040000</td>\n",
       "      <td>0.090000</td>\n",
       "      <td>2</td>\n",
       "    </tr>\n",
       "  </tbody>\n",
       "</table>\n",
       "</div>"
      ],
      "text/plain": [
       "   Emitten       DER       ROA  Sales Growth       ROE       NPM  Category\n",
       "0     AGRO  7.150000 -0.090000   -185.032137 -0.720000 -1.400000         3\n",
       "1     BBCA  4.880000  0.030000  -1485.583000  0.150000  0.590000         2\n",
       "2     BBHI  4.360000  0.010000    121.858090  0.060000  0.300000         2\n",
       "3     BBKP 10.030000 -0.010000  -1445.750000 -0.060000 -0.140000         1\n",
       "4     BBMD  2.900000  0.030000     61.545475  0.110000  0.510000         2\n",
       "5     BBNI  6.520000  0.010000  -4246.426000  0.050000  0.140000         2\n",
       "6     BBRI  4.780000  0.010000   6531.747000  0.080000  0.220000         2\n",
       "7     BBSI  0.490000  0.040000     22.556467  0.060000  0.650000         2\n",
       "8     BBTN 15.820000  0.010000    129.291000  0.100000  0.110000         1\n",
       "9     BBYB  6.310000 -0.040000    167.373288 -0.320000 -0.700000         3\n",
       "10    BCIC 11.530000 -0.020000    -24.753000 -0.280000 -0.550000         1\n",
       "11    BEKS  4.170000 -0.030000    -93.899000  0.020000  0.060000         2\n",
       "12    BJBR 11.340000  0.010000    649.269000 -0.140000 -0.920000         1\n",
       "13    BJTM  8.420000  0.020000    424.496000  0.030000  0.070000         2\n",
       "14    BKSW  3.820000 -0.020000   -309.781000  0.150000  0.180000         2\n",
       "15    BMRI  5.910000  0.010000   7034.205000  0.150000  0.320000         2\n",
       "16    BNBA  3.490000  0.010000    -81.856421 -0.100000 -0.510000         2\n",
       "17    BNGA  5.490000  0.010000  -1001.648000  0.050000  0.100000         2\n",
       "18    BNII  4.500000  0.010000  -1690.584000  0.100000  0.230000         2\n",
       "19    BNLI  5.070000  0.010000    263.701000  0.030000  0.120000         2\n",
       "20    BTPN  3.940000  0.010000  -1667.699000  0.080000  0.210000         2\n",
       "21    BTPS  0.360000  0.080000    567.248000  0.050000  0.170000         2\n",
       "22    MASB  7.900000  0.010000  -2756.119855  0.030000  0.110000         2\n",
       "23    MEGA  5.540000  0.030000    335.879344  0.040000  0.090000         2"
      ]
     },
     "metadata": {},
     "output_type": "display_data"
    }
   ],
   "source": [
    "display(df)"
   ]
  },
  {
   "cell_type": "markdown",
   "id": "b47e5df8",
   "metadata": {
    "papermill": {
     "duration": 0.015239,
     "end_time": "2022-07-08T14:59:34.511831",
     "exception": false,
     "start_time": "2022-07-08T14:59:34.496592",
     "status": "completed"
    },
    "tags": []
   },
   "source": [
    "Split Data, tentukan X train, Y train, X test dan Y test"
   ]
  },
  {
   "cell_type": "code",
   "execution_count": 10,
   "id": "1b556084",
   "metadata": {
    "execution": {
     "iopub.execute_input": "2022-07-08T14:59:34.545589Z",
     "iopub.status.busy": "2022-07-08T14:59:34.545196Z",
     "iopub.status.idle": "2022-07-08T14:59:34.552213Z",
     "shell.execute_reply": "2022-07-08T14:59:34.550724Z"
    },
    "papermill": {
     "duration": 0.027658,
     "end_time": "2022-07-08T14:59:34.555091",
     "exception": false,
     "start_time": "2022-07-08T14:59:34.527433",
     "status": "completed"
    },
    "tags": []
   },
   "outputs": [],
   "source": [
    "trainX, testX, trainY, testY = train_test_split(x, y, test_size = 0.3)"
   ]
  },
  {
   "cell_type": "markdown",
   "id": "5a1cafab",
   "metadata": {
    "papermill": {
     "duration": 0.01528,
     "end_time": "2022-07-08T14:59:34.587685",
     "exception": false,
     "start_time": "2022-07-08T14:59:34.572405",
     "status": "completed"
    },
    "tags": []
   },
   "source": [
    "training size : 70%\n",
    "testing size : 30%\n",
    "semakin besar data training, semakin besar akurasi"
   ]
  },
  {
   "cell_type": "markdown",
   "id": "f4bc8c3d",
   "metadata": {
    "papermill": {
     "duration": 0.015605,
     "end_time": "2022-07-08T14:59:34.619976",
     "exception": false,
     "start_time": "2022-07-08T14:59:34.604371",
     "status": "completed"
    },
    "tags": []
   },
   "source": [
    "**Multinomial Logit with the statsmodel library**"
   ]
  },
  {
   "cell_type": "code",
   "execution_count": 11,
   "id": "8aa4f3fe",
   "metadata": {
    "execution": {
     "iopub.execute_input": "2022-07-08T14:59:34.653706Z",
     "iopub.status.busy": "2022-07-08T14:59:34.653292Z",
     "iopub.status.idle": "2022-07-08T14:59:34.748666Z",
     "shell.execute_reply": "2022-07-08T14:59:34.746141Z"
    },
    "papermill": {
     "duration": 0.118554,
     "end_time": "2022-07-08T14:59:34.754075",
     "exception": false,
     "start_time": "2022-07-08T14:59:34.635521",
     "status": "completed"
    },
    "tags": []
   },
   "outputs": [
    {
     "name": "stdout",
     "output_type": "stream",
     "text": [
      "Optimization terminated successfully.\n",
      "         Current function value: 0.000004\n",
      "         Iterations: 21\n",
      "         Function evaluations: 22\n",
      "         Gradient evaluations: 22\n",
      "                          MNLogit Regression Results                          \n",
      "==============================================================================\n",
      "Dep. Variable:               Category   No. Observations:                   24\n",
      "Model:                        MNLogit   Df Residuals:                       12\n",
      "Method:                           MLE   Df Model:                           10\n",
      "Date:                Fri, 08 Jul 2022   Pseudo R-squ.:                   1.000\n",
      "Time:                        14:59:34   Log-Likelihood:            -8.6197e-05\n",
      "converged:                       True   LL-Null:                       -17.315\n",
      "Covariance Type:            nonrobust   LLR p-value:                 0.0001444\n",
      "================================================================================\n",
      "  Category=2       coef    std err          z      P>|z|      [0.025      0.975]\n",
      "--------------------------------------------------------------------------------\n",
      "const           23.7359   8.06e+05   2.95e-05      1.000   -1.58e+06    1.58e+06\n",
      " DER           -21.9468   7.23e+05  -3.04e-05      1.000   -1.42e+06    1.42e+06\n",
      "ROA              7.6425   1.86e+06   4.11e-06      1.000   -3.65e+06    3.65e+06\n",
      "Sales Growth    -0.4235   5.02e+05  -8.44e-07      1.000   -9.83e+05    9.83e+05\n",
      "ROE             11.5817   3.53e+06   3.28e-06      1.000   -6.91e+06    6.91e+06\n",
      "NPM             10.9838    1.7e+06   6.46e-06      1.000   -3.33e+06    3.33e+06\n",
      "--------------------------------------------------------------------------------\n",
      "  Category=3       coef    std err          z      P>|z|      [0.025      0.975]\n",
      "--------------------------------------------------------------------------------\n",
      "const          -15.4631   6.23e+06  -2.48e-06      1.000   -1.22e+07    1.22e+07\n",
      " DER           -11.7969   3.87e+05  -3.05e-05      1.000   -7.58e+05    7.58e+05\n",
      "ROA             -7.6881   2.31e+06  -3.32e-06      1.000   -4.53e+06    4.53e+06\n",
      "Sales Growth     1.4579   9.25e+06   1.58e-07      1.000   -1.81e+07    1.81e+07\n",
      "ROE             -7.3254   3.08e+06  -2.38e-06      1.000   -6.03e+06    6.03e+06\n",
      "NPM             -1.7051    3.5e+06  -4.88e-07      1.000   -6.85e+06    6.85e+06\n",
      "================================================================================\n"
     ]
    }
   ],
   "source": [
    "mnlogit_mod = sm.MNLogit(y,sm.add_constant(data_scaled))\n",
    "mnlogit_fit = mnlogit_mod.fit(method='bfgs')\n",
    "\n",
    "print (mnlogit_fit.summary())"
   ]
  },
  {
   "cell_type": "markdown",
   "id": "a57cffbc",
   "metadata": {
    "papermill": {
     "duration": 0.030143,
     "end_time": "2022-07-08T14:59:34.813940",
     "exception": false,
     "start_time": "2022-07-08T14:59:34.783797",
     "status": "completed"
    },
    "tags": []
   },
   "source": [
    "**Fit The Model\n",
    "\n",
    "Y Prediction**"
   ]
  },
  {
   "cell_type": "code",
   "execution_count": 12,
   "id": "7b08cdad",
   "metadata": {
    "execution": {
     "iopub.execute_input": "2022-07-08T14:59:34.848412Z",
     "iopub.status.busy": "2022-07-08T14:59:34.847730Z",
     "iopub.status.idle": "2022-07-08T14:59:34.891484Z",
     "shell.execute_reply": "2022-07-08T14:59:34.890172Z"
    },
    "papermill": {
     "duration": 0.065369,
     "end_time": "2022-07-08T14:59:34.896004",
     "exception": false,
     "start_time": "2022-07-08T14:59:34.830635",
     "status": "completed"
    },
    "tags": []
   },
   "outputs": [
    {
     "name": "stderr",
     "output_type": "stream",
     "text": [
      "/opt/conda/lib/python3.7/site-packages/sklearn/linear_model/_logistic.py:818: ConvergenceWarning: lbfgs failed to converge (status=1):\n",
      "STOP: TOTAL NO. of ITERATIONS REACHED LIMIT.\n",
      "\n",
      "Increase the number of iterations (max_iter) or scale the data as shown in:\n",
      "    https://scikit-learn.org/stable/modules/preprocessing.html\n",
      "Please also refer to the documentation for alternative solver options:\n",
      "    https://scikit-learn.org/stable/modules/linear_model.html#logistic-regression\n",
      "  extra_warning_msg=_LOGISTIC_SOLVER_CONVERGENCE_MSG,\n"
     ]
    },
    {
     "data": {
      "text/plain": [
       "array([2, 2, 1, 2, 1, 2, 3, 2])"
      ]
     },
     "execution_count": 12,
     "metadata": {},
     "output_type": "execute_result"
    }
   ],
   "source": [
    "logistic_regresion = LogisticRegression(multi_class='auto').fit(x,y)\n",
    "y_pred = logistic_regresion.predict(testX)\n",
    "y_pred"
   ]
  },
  {
   "cell_type": "markdown",
   "id": "0708cb46",
   "metadata": {
    "papermill": {
     "duration": 0.018192,
     "end_time": "2022-07-08T14:59:34.930301",
     "exception": false,
     "start_time": "2022-07-08T14:59:34.912109",
     "status": "completed"
    },
    "tags": []
   },
   "source": [
    " **Intercept**"
   ]
  },
  {
   "cell_type": "code",
   "execution_count": 13,
   "id": "c151c954",
   "metadata": {
    "execution": {
     "iopub.execute_input": "2022-07-08T14:59:34.968187Z",
     "iopub.status.busy": "2022-07-08T14:59:34.967108Z",
     "iopub.status.idle": "2022-07-08T14:59:34.973802Z",
     "shell.execute_reply": "2022-07-08T14:59:34.972381Z"
    },
    "papermill": {
     "duration": 0.029852,
     "end_time": "2022-07-08T14:59:34.977071",
     "exception": false,
     "start_time": "2022-07-08T14:59:34.947219",
     "status": "completed"
    },
    "tags": []
   },
   "outputs": [
    {
     "name": "stdout",
     "output_type": "stream",
     "text": [
      "Intercept : [-3.1010003   3.7690791  -0.66807881]\n"
     ]
    }
   ],
   "source": [
    "print('Intercept :', logistic_regresion.intercept_)"
   ]
  },
  {
   "cell_type": "markdown",
   "id": "8aa6804f",
   "metadata": {
    "papermill": {
     "duration": 0.017056,
     "end_time": "2022-07-08T14:59:35.011398",
     "exception": false,
     "start_time": "2022-07-08T14:59:34.994342",
     "status": "completed"
    },
    "tags": []
   },
   "source": [
    "**Koefisien**"
   ]
  },
  {
   "cell_type": "code",
   "execution_count": 14,
   "id": "eccc6357",
   "metadata": {
    "execution": {
     "iopub.execute_input": "2022-07-08T14:59:35.046536Z",
     "iopub.status.busy": "2022-07-08T14:59:35.045342Z",
     "iopub.status.idle": "2022-07-08T14:59:35.052481Z",
     "shell.execute_reply": "2022-07-08T14:59:35.050887Z"
    },
    "papermill": {
     "duration": 0.028871,
     "end_time": "2022-07-08T14:59:35.056341",
     "exception": false,
     "start_time": "2022-07-08T14:59:35.027470",
     "status": "completed"
    },
    "tags": []
   },
   "outputs": [
    {
     "name": "stdout",
     "output_type": "stream",
     "text": [
      "[[ 4.35344712e-01  1.53302075e-02  2.37005600e-05  1.66909640e-01\n",
      "  -2.52989557e-03]\n",
      " [-2.61259391e-01  8.62296063e-02 -6.93210331e-05  4.98474857e-01\n",
      "   1.30733967e+00]\n",
      " [-1.74085322e-01 -1.01559814e-01  4.56204739e-05 -6.65384497e-01\n",
      "  -1.30480977e+00]]\n"
     ]
    }
   ],
   "source": [
    "print(logistic_regresion.coef_)"
   ]
  },
  {
   "cell_type": "markdown",
   "id": "52a0603f",
   "metadata": {
    "papermill": {
     "duration": 0.016562,
     "end_time": "2022-07-08T14:59:35.090834",
     "exception": false,
     "start_time": "2022-07-08T14:59:35.074272",
     "status": "completed"
    },
    "tags": []
   },
   "source": [
    "**Model Validation / Testing The Model******"
   ]
  },
  {
   "cell_type": "markdown",
   "id": "5f218e21",
   "metadata": {
    "papermill": {
     "duration": 0.017412,
     "end_time": "2022-07-08T14:59:35.124485",
     "exception": false,
     "start_time": "2022-07-08T14:59:35.107073",
     "status": "completed"
    },
    "tags": []
   },
   "source": [
    "Mendapatkan Prediction test menggunakan model"
   ]
  },
  {
   "cell_type": "code",
   "execution_count": 15,
   "id": "7e5a1666",
   "metadata": {
    "execution": {
     "iopub.execute_input": "2022-07-08T14:59:35.160805Z",
     "iopub.status.busy": "2022-07-08T14:59:35.159913Z",
     "iopub.status.idle": "2022-07-08T14:59:35.167198Z",
     "shell.execute_reply": "2022-07-08T14:59:35.165616Z"
    },
    "papermill": {
     "duration": 0.028678,
     "end_time": "2022-07-08T14:59:35.170130",
     "exception": false,
     "start_time": "2022-07-08T14:59:35.141452",
     "status": "completed"
    },
    "tags": []
   },
   "outputs": [],
   "source": [
    "prediction_test = logistic_regresion.predict(testX)"
   ]
  },
  {
   "cell_type": "markdown",
   "id": "f5ee4eb9",
   "metadata": {
    "papermill": {
     "duration": 0.017176,
     "end_time": "2022-07-08T14:59:35.204375",
     "exception": false,
     "start_time": "2022-07-08T14:59:35.187199",
     "status": "completed"
    },
    "tags": []
   },
   "source": [
    "Print akurasi dan error rate"
   ]
  },
  {
   "cell_type": "code",
   "execution_count": 16,
   "id": "b0f65fd0",
   "metadata": {
    "execution": {
     "iopub.execute_input": "2022-07-08T14:59:35.239623Z",
     "iopub.status.busy": "2022-07-08T14:59:35.238792Z",
     "iopub.status.idle": "2022-07-08T14:59:35.248352Z",
     "shell.execute_reply": "2022-07-08T14:59:35.246318Z"
    },
    "papermill": {
     "duration": 0.032603,
     "end_time": "2022-07-08T14:59:35.253439",
     "exception": false,
     "start_time": "2022-07-08T14:59:35.220836",
     "status": "completed"
    },
    "tags": []
   },
   "outputs": [
    {
     "name": "stdout",
     "output_type": "stream",
     "text": [
      "Accuracy: 0.88\n",
      "Error rate: 0.12\n"
     ]
    }
   ],
   "source": [
    "print('Accuracy: {:.2f}'.format(accuracy_score(testY, y_pred)))\n",
    "print('Error rate: {:.2f}'.format(1 - accuracy_score(testY, y_pred)))"
   ]
  },
  {
   "cell_type": "markdown",
   "id": "4650e89d",
   "metadata": {
    "papermill": {
     "duration": 0.01644,
     "end_time": "2022-07-08T14:59:35.286115",
     "exception": false,
     "start_time": "2022-07-08T14:59:35.269675",
     "status": "completed"
    },
    "tags": []
   },
   "source": [
    "**Matrix**"
   ]
  },
  {
   "cell_type": "code",
   "execution_count": 17,
   "id": "3d716fe8",
   "metadata": {
    "execution": {
     "iopub.execute_input": "2022-07-08T14:59:35.323337Z",
     "iopub.status.busy": "2022-07-08T14:59:35.322874Z",
     "iopub.status.idle": "2022-07-08T14:59:35.333733Z",
     "shell.execute_reply": "2022-07-08T14:59:35.331816Z"
    },
    "papermill": {
     "duration": 0.034012,
     "end_time": "2022-07-08T14:59:35.337367",
     "exception": false,
     "start_time": "2022-07-08T14:59:35.303355",
     "status": "completed"
    },
    "tags": []
   },
   "outputs": [
    {
     "name": "stdout",
     "output_type": "stream",
     "text": [
      "[[2 0 0]\n",
      " [0 4 0]\n",
      " [0 1 1]]\n"
     ]
    }
   ],
   "source": [
    "confusion_matrix = confusion_matrix(testY, y_pred)\n",
    "print(confusion_matrix)"
   ]
  },
  {
   "cell_type": "code",
   "execution_count": 18,
   "id": "b386a7df",
   "metadata": {
    "execution": {
     "iopub.execute_input": "2022-07-08T14:59:35.372295Z",
     "iopub.status.busy": "2022-07-08T14:59:35.371497Z",
     "iopub.status.idle": "2022-07-08T14:59:35.637995Z",
     "shell.execute_reply": "2022-07-08T14:59:35.637026Z"
    },
    "papermill": {
     "duration": 0.286931,
     "end_time": "2022-07-08T14:59:35.640585",
     "exception": false,
     "start_time": "2022-07-08T14:59:35.353654",
     "status": "completed"
    },
    "tags": []
   },
   "outputs": [
    {
     "data": {
      "image/png": "[encoded data removed]",
      "text/plain": [
       "<Figure size 288x288 with 1 Axes>"
      ]
     },
     "metadata": {
      "needs_background": "light"
     },
     "output_type": "display_data"
    }
   ],
   "source": [
    "plt.matshow(confusion_matrix, cmap=plt.cm.gray)\n",
    "plt.show()"
   ]
  },
  {
   "cell_type": "markdown",
   "id": "f70aba62",
   "metadata": {
    "papermill": {
     "duration": 0.02397,
     "end_time": "2022-07-08T14:59:35.686637",
     "exception": false,
     "start_time": "2022-07-08T14:59:35.662667",
     "status": "completed"
    },
    "tags": []
   },
   "source": [
    "**Probabilitas**"
   ]
  },
  {
   "cell_type": "code",
   "execution_count": 19,
   "id": "048df659",
   "metadata": {
    "execution": {
     "iopub.execute_input": "2022-07-08T14:59:35.723374Z",
     "iopub.status.busy": "2022-07-08T14:59:35.722911Z",
     "iopub.status.idle": "2022-07-08T14:59:35.736677Z",
     "shell.execute_reply": "2022-07-08T14:59:35.734982Z"
    },
    "papermill": {
     "duration": 0.034945,
     "end_time": "2022-07-08T14:59:35.739914",
     "exception": false,
     "start_time": "2022-07-08T14:59:35.704969",
     "status": "completed"
    },
    "tags": []
   },
   "outputs": [
    {
     "data": {
      "text/plain": [
       "array([[1.43028714e-01, 8.46468220e-01, 1.05030660e-02],\n",
       "       [3.67067371e-02, 9.44904724e-01, 1.83885386e-02],\n",
       "       [9.81164268e-01, 1.82555053e-02, 5.80226461e-04],\n",
       "       [1.66969572e-01, 6.99876739e-01, 1.33153689e-01],\n",
       "       [8.58324329e-01, 1.19203746e-01, 2.24719248e-02],\n",
       "       [3.85558086e-03, 9.92628773e-01, 3.51564619e-03],\n",
       "       [2.85903718e-01, 2.40639956e-01, 4.73456326e-01],\n",
       "       [1.06623598e-02, 9.81106608e-01, 8.23103243e-03]])"
      ]
     },
     "execution_count": 19,
     "metadata": {},
     "output_type": "execute_result"
    }
   ],
   "source": [
    "probability = logistic_regresion.predict_proba(testX)\n",
    "probability"
   ]
  },
  {
   "cell_type": "code",
   "execution_count": 20,
   "id": "9c2faaa0",
   "metadata": {
    "execution": {
     "iopub.execute_input": "2022-07-08T14:59:35.777279Z",
     "iopub.status.busy": "2022-07-08T14:59:35.776771Z",
     "iopub.status.idle": "2022-07-08T14:59:35.783505Z",
     "shell.execute_reply": "2022-07-08T14:59:35.781679Z"
    },
    "papermill": {
     "duration": 0.02865,
     "end_time": "2022-07-08T14:59:35.786328",
     "exception": false,
     "start_time": "2022-07-08T14:59:35.757678",
     "status": "completed"
    },
    "tags": []
   },
   "outputs": [
    {
     "name": "stdout",
     "output_type": "stream",
     "text": [
      "8\n",
      "8\n"
     ]
    }
   ],
   "source": [
    "print(probability.shape[0])\n",
    "print(testX.shape[0])"
   ]
  },
  {
   "cell_type": "markdown",
   "id": "bf30f110",
   "metadata": {
    "papermill": {
     "duration": 0.018008,
     "end_time": "2022-07-08T14:59:35.822108",
     "exception": false,
     "start_time": "2022-07-08T14:59:35.804100",
     "status": "completed"
    },
    "tags": []
   },
   "source": [
    "Disini, kita dapat melihat bahwa panjang data probabilitas (8) = panjang data uji (8)"
   ]
  },
  {
   "cell_type": "code",
   "execution_count": 21,
   "id": "283a8998",
   "metadata": {
    "execution": {
     "iopub.execute_input": "2022-07-08T14:59:35.860192Z",
     "iopub.status.busy": "2022-07-08T14:59:35.859730Z",
     "iopub.status.idle": "2022-07-08T14:59:35.864773Z",
     "shell.execute_reply": "2022-07-08T14:59:35.863508Z"
    },
    "papermill": {
     "duration": 0.027134,
     "end_time": "2022-07-08T14:59:35.867218",
     "exception": false,
     "start_time": "2022-07-08T14:59:35.840084",
     "status": "completed"
    },
    "tags": []
   },
   "outputs": [],
   "source": [
    "#data_result = pd.DataFrame(logistic_regresion.coef_, columns=x.columns)\n",
    "#data_result['intercept'] = log_reg_result.intercept_\n",
    "#data_result['class'] = logistic_regresion.classes_\n",
    "\n",
    "#data_result"
   ]
  },
  {
   "cell_type": "code",
   "execution_count": 22,
   "id": "cca9c060",
   "metadata": {
    "execution": {
     "iopub.execute_input": "2022-07-08T14:59:35.905110Z",
     "iopub.status.busy": "2022-07-08T14:59:35.904296Z",
     "iopub.status.idle": "2022-07-08T14:59:35.918912Z",
     "shell.execute_reply": "2022-07-08T14:59:35.917100Z"
    },
    "papermill": {
     "duration": 0.036865,
     "end_time": "2022-07-08T14:59:35.921944",
     "exception": false,
     "start_time": "2022-07-08T14:59:35.885079",
     "status": "completed"
    },
    "tags": []
   },
   "outputs": [
    {
     "data": {
      "text/html": [
       "<div>\n",
       "<style scoped>\n",
       "    .dataframe tbody tr th:only-of-type {\n",
       "        vertical-align: middle;\n",
       "    }\n",
       "\n",
       "    .dataframe tbody tr th {\n",
       "        vertical-align: top;\n",
       "    }\n",
       "\n",
       "    .dataframe thead th {\n",
       "        text-align: right;\n",
       "    }\n",
       "</style>\n",
       "<table border=\"1\" class=\"dataframe\">\n",
       "  <thead>\n",
       "    <tr style=\"text-align: right;\">\n",
       "      <th></th>\n",
       "      <th>1</th>\n",
       "      <th>2</th>\n",
       "      <th>3</th>\n",
       "    </tr>\n",
       "  </thead>\n",
       "  <tbody>\n",
       "    <tr>\n",
       "      <th>0</th>\n",
       "      <td>0.143029</td>\n",
       "      <td>0.846468</td>\n",
       "      <td>0.010503</td>\n",
       "    </tr>\n",
       "    <tr>\n",
       "      <th>1</th>\n",
       "      <td>0.036707</td>\n",
       "      <td>0.944905</td>\n",
       "      <td>0.018389</td>\n",
       "    </tr>\n",
       "    <tr>\n",
       "      <th>2</th>\n",
       "      <td>0.981164</td>\n",
       "      <td>0.018256</td>\n",
       "      <td>0.000580</td>\n",
       "    </tr>\n",
       "    <tr>\n",
       "      <th>3</th>\n",
       "      <td>0.166970</td>\n",
       "      <td>0.699877</td>\n",
       "      <td>0.133154</td>\n",
       "    </tr>\n",
       "    <tr>\n",
       "      <th>4</th>\n",
       "      <td>0.858324</td>\n",
       "      <td>0.119204</td>\n",
       "      <td>0.022472</td>\n",
       "    </tr>\n",
       "    <tr>\n",
       "      <th>5</th>\n",
       "      <td>0.003856</td>\n",
       "      <td>0.992629</td>\n",
       "      <td>0.003516</td>\n",
       "    </tr>\n",
       "    <tr>\n",
       "      <th>6</th>\n",
       "      <td>0.285904</td>\n",
       "      <td>0.240640</td>\n",
       "      <td>0.473456</td>\n",
       "    </tr>\n",
       "    <tr>\n",
       "      <th>7</th>\n",
       "      <td>0.010662</td>\n",
       "      <td>0.981107</td>\n",
       "      <td>0.008231</td>\n",
       "    </tr>\n",
       "  </tbody>\n",
       "</table>\n",
       "</div>"
      ],
      "text/plain": [
       "         1        2        3\n",
       "0 0.143029 0.846468 0.010503\n",
       "1 0.036707 0.944905 0.018389\n",
       "2 0.981164 0.018256 0.000580\n",
       "3 0.166970 0.699877 0.133154\n",
       "4 0.858324 0.119204 0.022472\n",
       "5 0.003856 0.992629 0.003516\n",
       "6 0.285904 0.240640 0.473456\n",
       "7 0.010662 0.981107 0.008231"
      ]
     },
     "execution_count": 22,
     "metadata": {},
     "output_type": "execute_result"
    }
   ],
   "source": [
    "data_result = pd.DataFrame(logistic_regresion.predict_proba(testX), columns=logistic_regresion.classes_)\n",
    "data_result"
   ]
  },
  {
   "cell_type": "markdown",
   "id": "5b17ddd0",
   "metadata": {
    "papermill": {
     "duration": 0.016984,
     "end_time": "2022-07-08T14:59:35.956837",
     "exception": false,
     "start_time": "2022-07-08T14:59:35.939853",
     "status": "completed"
    },
    "tags": []
   },
   "source": [
    "Sum / jumlah probabilitas harus selalu 1"
   ]
  },
  {
   "cell_type": "code",
   "execution_count": 23,
   "id": "59e96d88",
   "metadata": {
    "execution": {
     "iopub.execute_input": "2022-07-08T14:59:35.994009Z",
     "iopub.status.busy": "2022-07-08T14:59:35.993562Z",
     "iopub.status.idle": "2022-07-08T14:59:36.007482Z",
     "shell.execute_reply": "2022-07-08T14:59:36.006000Z"
    },
    "papermill": {
     "duration": 0.036372,
     "end_time": "2022-07-08T14:59:36.010849",
     "exception": false,
     "start_time": "2022-07-08T14:59:35.974477",
     "status": "completed"
    },
    "tags": []
   },
   "outputs": [
    {
     "data": {
      "text/html": [
       "<div>\n",
       "<style scoped>\n",
       "    .dataframe tbody tr th:only-of-type {\n",
       "        vertical-align: middle;\n",
       "    }\n",
       "\n",
       "    .dataframe tbody tr th {\n",
       "        vertical-align: top;\n",
       "    }\n",
       "\n",
       "    .dataframe thead th {\n",
       "        text-align: right;\n",
       "    }\n",
       "</style>\n",
       "<table border=\"1\" class=\"dataframe\">\n",
       "  <thead>\n",
       "    <tr style=\"text-align: right;\">\n",
       "      <th></th>\n",
       "      <th>1</th>\n",
       "      <th>2</th>\n",
       "      <th>3</th>\n",
       "      <th>sum</th>\n",
       "    </tr>\n",
       "  </thead>\n",
       "  <tbody>\n",
       "    <tr>\n",
       "      <th>0</th>\n",
       "      <td>0.143029</td>\n",
       "      <td>0.846468</td>\n",
       "      <td>0.010503</td>\n",
       "      <td>1.000000</td>\n",
       "    </tr>\n",
       "    <tr>\n",
       "      <th>1</th>\n",
       "      <td>0.036707</td>\n",
       "      <td>0.944905</td>\n",
       "      <td>0.018389</td>\n",
       "      <td>1.000000</td>\n",
       "    </tr>\n",
       "    <tr>\n",
       "      <th>2</th>\n",
       "      <td>0.981164</td>\n",
       "      <td>0.018256</td>\n",
       "      <td>0.000580</td>\n",
       "      <td>1.000000</td>\n",
       "    </tr>\n",
       "    <tr>\n",
       "      <th>3</th>\n",
       "      <td>0.166970</td>\n",
       "      <td>0.699877</td>\n",
       "      <td>0.133154</td>\n",
       "      <td>1.000000</td>\n",
       "    </tr>\n",
       "    <tr>\n",
       "      <th>4</th>\n",
       "      <td>0.858324</td>\n",
       "      <td>0.119204</td>\n",
       "      <td>0.022472</td>\n",
       "      <td>1.000000</td>\n",
       "    </tr>\n",
       "    <tr>\n",
       "      <th>5</th>\n",
       "      <td>0.003856</td>\n",
       "      <td>0.992629</td>\n",
       "      <td>0.003516</td>\n",
       "      <td>1.000000</td>\n",
       "    </tr>\n",
       "    <tr>\n",
       "      <th>6</th>\n",
       "      <td>0.285904</td>\n",
       "      <td>0.240640</td>\n",
       "      <td>0.473456</td>\n",
       "      <td>1.000000</td>\n",
       "    </tr>\n",
       "    <tr>\n",
       "      <th>7</th>\n",
       "      <td>0.010662</td>\n",
       "      <td>0.981107</td>\n",
       "      <td>0.008231</td>\n",
       "      <td>1.000000</td>\n",
       "    </tr>\n",
       "  </tbody>\n",
       "</table>\n",
       "</div>"
      ],
      "text/plain": [
       "         1        2        3      sum\n",
       "0 0.143029 0.846468 0.010503 1.000000\n",
       "1 0.036707 0.944905 0.018389 1.000000\n",
       "2 0.981164 0.018256 0.000580 1.000000\n",
       "3 0.166970 0.699877 0.133154 1.000000\n",
       "4 0.858324 0.119204 0.022472 1.000000\n",
       "5 0.003856 0.992629 0.003516 1.000000\n",
       "6 0.285904 0.240640 0.473456 1.000000\n",
       "7 0.010662 0.981107 0.008231 1.000000"
      ]
     },
     "execution_count": 23,
     "metadata": {},
     "output_type": "execute_result"
    }
   ],
   "source": [
    "data_result['sum'] = data_result.sum(axis=1)\n",
    "data_result"
   ]
  },
  {
   "cell_type": "markdown",
   "id": "edd7f7a7",
   "metadata": {
    "papermill": {
     "duration": 0.018769,
     "end_time": "2022-07-08T14:59:36.048027",
     "exception": false,
     "start_time": "2022-07-08T14:59:36.029258",
     "status": "completed"
    },
    "tags": []
   },
   "source": [
    "Lihat Predicted class"
   ]
  },
  {
   "cell_type": "code",
   "execution_count": 24,
   "id": "45d40ab5",
   "metadata": {
    "execution": {
     "iopub.execute_input": "2022-07-08T14:59:36.087577Z",
     "iopub.status.busy": "2022-07-08T14:59:36.086339Z",
     "iopub.status.idle": "2022-07-08T14:59:36.100010Z",
     "shell.execute_reply": "2022-07-08T14:59:36.098658Z"
    },
    "papermill": {
     "duration": 0.035994,
     "end_time": "2022-07-08T14:59:36.102511",
     "exception": false,
     "start_time": "2022-07-08T14:59:36.066517",
     "status": "completed"
    },
    "tags": []
   },
   "outputs": [
    {
     "data": {
      "text/html": [
       "<div>\n",
       "<style scoped>\n",
       "    .dataframe tbody tr th:only-of-type {\n",
       "        vertical-align: middle;\n",
       "    }\n",
       "\n",
       "    .dataframe tbody tr th {\n",
       "        vertical-align: top;\n",
       "    }\n",
       "\n",
       "    .dataframe thead th {\n",
       "        text-align: right;\n",
       "    }\n",
       "</style>\n",
       "<table border=\"1\" class=\"dataframe\">\n",
       "  <thead>\n",
       "    <tr style=\"text-align: right;\">\n",
       "      <th></th>\n",
       "      <th>1</th>\n",
       "      <th>2</th>\n",
       "      <th>3</th>\n",
       "      <th>sum</th>\n",
       "      <th>predicted_class</th>\n",
       "    </tr>\n",
       "  </thead>\n",
       "  <tbody>\n",
       "    <tr>\n",
       "      <th>0</th>\n",
       "      <td>0.143029</td>\n",
       "      <td>0.846468</td>\n",
       "      <td>0.010503</td>\n",
       "      <td>1.000000</td>\n",
       "      <td>2</td>\n",
       "    </tr>\n",
       "    <tr>\n",
       "      <th>1</th>\n",
       "      <td>0.036707</td>\n",
       "      <td>0.944905</td>\n",
       "      <td>0.018389</td>\n",
       "      <td>1.000000</td>\n",
       "      <td>2</td>\n",
       "    </tr>\n",
       "    <tr>\n",
       "      <th>2</th>\n",
       "      <td>0.981164</td>\n",
       "      <td>0.018256</td>\n",
       "      <td>0.000580</td>\n",
       "      <td>1.000000</td>\n",
       "      <td>1</td>\n",
       "    </tr>\n",
       "    <tr>\n",
       "      <th>3</th>\n",
       "      <td>0.166970</td>\n",
       "      <td>0.699877</td>\n",
       "      <td>0.133154</td>\n",
       "      <td>1.000000</td>\n",
       "      <td>2</td>\n",
       "    </tr>\n",
       "    <tr>\n",
       "      <th>4</th>\n",
       "      <td>0.858324</td>\n",
       "      <td>0.119204</td>\n",
       "      <td>0.022472</td>\n",
       "      <td>1.000000</td>\n",
       "      <td>1</td>\n",
       "    </tr>\n",
       "    <tr>\n",
       "      <th>5</th>\n",
       "      <td>0.003856</td>\n",
       "      <td>0.992629</td>\n",
       "      <td>0.003516</td>\n",
       "      <td>1.000000</td>\n",
       "      <td>2</td>\n",
       "    </tr>\n",
       "    <tr>\n",
       "      <th>6</th>\n",
       "      <td>0.285904</td>\n",
       "      <td>0.240640</td>\n",
       "      <td>0.473456</td>\n",
       "      <td>1.000000</td>\n",
       "      <td>3</td>\n",
       "    </tr>\n",
       "    <tr>\n",
       "      <th>7</th>\n",
       "      <td>0.010662</td>\n",
       "      <td>0.981107</td>\n",
       "      <td>0.008231</td>\n",
       "      <td>1.000000</td>\n",
       "      <td>2</td>\n",
       "    </tr>\n",
       "  </tbody>\n",
       "</table>\n",
       "</div>"
      ],
      "text/plain": [
       "         1        2        3      sum  predicted_class\n",
       "0 0.143029 0.846468 0.010503 1.000000                2\n",
       "1 0.036707 0.944905 0.018389 1.000000                2\n",
       "2 0.981164 0.018256 0.000580 1.000000                1\n",
       "3 0.166970 0.699877 0.133154 1.000000                2\n",
       "4 0.858324 0.119204 0.022472 1.000000                1\n",
       "5 0.003856 0.992629 0.003516 1.000000                2\n",
       "6 0.285904 0.240640 0.473456 1.000000                3\n",
       "7 0.010662 0.981107 0.008231 1.000000                2"
      ]
     },
     "execution_count": 24,
     "metadata": {},
     "output_type": "execute_result"
    }
   ],
   "source": [
    "data_result['predicted_class'] = y_pred\n",
    "data_result"
   ]
  },
  {
   "cell_type": "markdown",
   "id": "993ccf41",
   "metadata": {
    "papermill": {
     "duration": 0.017258,
     "end_time": "2022-07-08T14:59:36.139021",
     "exception": false,
     "start_time": "2022-07-08T14:59:36.121763",
     "status": "completed"
    },
    "tags": []
   },
   "source": [
    "\n",
    "Actual Class"
   ]
  },
  {
   "cell_type": "code",
   "execution_count": 25,
   "id": "87d45742",
   "metadata": {
    "execution": {
     "iopub.execute_input": "2022-07-08T14:59:36.178153Z",
     "iopub.status.busy": "2022-07-08T14:59:36.177375Z",
     "iopub.status.idle": "2022-07-08T14:59:36.194946Z",
     "shell.execute_reply": "2022-07-08T14:59:36.193714Z"
    },
    "papermill": {
     "duration": 0.03992,
     "end_time": "2022-07-08T14:59:36.197900",
     "exception": false,
     "start_time": "2022-07-08T14:59:36.157980",
     "status": "completed"
    },
    "tags": []
   },
   "outputs": [
    {
     "data": {
      "text/html": [
       "<div>\n",
       "<style scoped>\n",
       "    .dataframe tbody tr th:only-of-type {\n",
       "        vertical-align: middle;\n",
       "    }\n",
       "\n",
       "    .dataframe tbody tr th {\n",
       "        vertical-align: top;\n",
       "    }\n",
       "\n",
       "    .dataframe thead th {\n",
       "        text-align: right;\n",
       "    }\n",
       "</style>\n",
       "<table border=\"1\" class=\"dataframe\">\n",
       "  <thead>\n",
       "    <tr style=\"text-align: right;\">\n",
       "      <th></th>\n",
       "      <th>1</th>\n",
       "      <th>2</th>\n",
       "      <th>3</th>\n",
       "      <th>sum</th>\n",
       "      <th>predicted_class</th>\n",
       "      <th>actual_class</th>\n",
       "    </tr>\n",
       "  </thead>\n",
       "  <tbody>\n",
       "    <tr>\n",
       "      <th>0</th>\n",
       "      <td>0.143029</td>\n",
       "      <td>0.846468</td>\n",
       "      <td>0.010503</td>\n",
       "      <td>1.000000</td>\n",
       "      <td>2</td>\n",
       "      <td>2</td>\n",
       "    </tr>\n",
       "    <tr>\n",
       "      <th>1</th>\n",
       "      <td>0.036707</td>\n",
       "      <td>0.944905</td>\n",
       "      <td>0.018389</td>\n",
       "      <td>1.000000</td>\n",
       "      <td>2</td>\n",
       "      <td>2</td>\n",
       "    </tr>\n",
       "    <tr>\n",
       "      <th>2</th>\n",
       "      <td>0.981164</td>\n",
       "      <td>0.018256</td>\n",
       "      <td>0.000580</td>\n",
       "      <td>1.000000</td>\n",
       "      <td>1</td>\n",
       "      <td>1</td>\n",
       "    </tr>\n",
       "    <tr>\n",
       "      <th>3</th>\n",
       "      <td>0.166970</td>\n",
       "      <td>0.699877</td>\n",
       "      <td>0.133154</td>\n",
       "      <td>1.000000</td>\n",
       "      <td>2</td>\n",
       "      <td>3</td>\n",
       "    </tr>\n",
       "    <tr>\n",
       "      <th>4</th>\n",
       "      <td>0.858324</td>\n",
       "      <td>0.119204</td>\n",
       "      <td>0.022472</td>\n",
       "      <td>1.000000</td>\n",
       "      <td>1</td>\n",
       "      <td>1</td>\n",
       "    </tr>\n",
       "    <tr>\n",
       "      <th>5</th>\n",
       "      <td>0.003856</td>\n",
       "      <td>0.992629</td>\n",
       "      <td>0.003516</td>\n",
       "      <td>1.000000</td>\n",
       "      <td>2</td>\n",
       "      <td>2</td>\n",
       "    </tr>\n",
       "    <tr>\n",
       "      <th>6</th>\n",
       "      <td>0.285904</td>\n",
       "      <td>0.240640</td>\n",
       "      <td>0.473456</td>\n",
       "      <td>1.000000</td>\n",
       "      <td>3</td>\n",
       "      <td>3</td>\n",
       "    </tr>\n",
       "    <tr>\n",
       "      <th>7</th>\n",
       "      <td>0.010662</td>\n",
       "      <td>0.981107</td>\n",
       "      <td>0.008231</td>\n",
       "      <td>1.000000</td>\n",
       "      <td>2</td>\n",
       "      <td>2</td>\n",
       "    </tr>\n",
       "  </tbody>\n",
       "</table>\n",
       "</div>"
      ],
      "text/plain": [
       "         1        2        3      sum  predicted_class  actual_class\n",
       "0 0.143029 0.846468 0.010503 1.000000                2             2\n",
       "1 0.036707 0.944905 0.018389 1.000000                2             2\n",
       "2 0.981164 0.018256 0.000580 1.000000                1             1\n",
       "3 0.166970 0.699877 0.133154 1.000000                2             3\n",
       "4 0.858324 0.119204 0.022472 1.000000                1             1\n",
       "5 0.003856 0.992629 0.003516 1.000000                2             2\n",
       "6 0.285904 0.240640 0.473456 1.000000                3             3\n",
       "7 0.010662 0.981107 0.008231 1.000000                2             2"
      ]
     },
     "execution_count": 25,
     "metadata": {},
     "output_type": "execute_result"
    }
   ],
   "source": [
    "data_result['actual_class'] = testY.to_frame().reset_index().drop(columns='index')\n",
    "data_result\n"
   ]
  },
  {
   "cell_type": "code",
   "execution_count": 26,
   "id": "0ff391b8",
   "metadata": {
    "execution": {
     "iopub.execute_input": "2022-07-08T14:59:36.239457Z",
     "iopub.status.busy": "2022-07-08T14:59:36.238180Z",
     "iopub.status.idle": "2022-07-08T14:59:36.255065Z",
     "shell.execute_reply": "2022-07-08T14:59:36.254215Z"
    },
    "papermill": {
     "duration": 0.039957,
     "end_time": "2022-07-08T14:59:36.257383",
     "exception": false,
     "start_time": "2022-07-08T14:59:36.217426",
     "status": "completed"
    },
    "tags": []
   },
   "outputs": [
    {
     "data": {
      "text/html": [
       "<div>\n",
       "<style scoped>\n",
       "    .dataframe tbody tr th:only-of-type {\n",
       "        vertical-align: middle;\n",
       "    }\n",
       "\n",
       "    .dataframe tbody tr th {\n",
       "        vertical-align: top;\n",
       "    }\n",
       "\n",
       "    .dataframe thead th {\n",
       "        text-align: right;\n",
       "    }\n",
       "</style>\n",
       "<table border=\"1\" class=\"dataframe\">\n",
       "  <thead>\n",
       "    <tr style=\"text-align: right;\">\n",
       "      <th></th>\n",
       "      <th>1</th>\n",
       "      <th>2</th>\n",
       "      <th>3</th>\n",
       "      <th>sum</th>\n",
       "      <th>predicted_class</th>\n",
       "      <th>actual_class</th>\n",
       "      <th>label_pred</th>\n",
       "      <th>label_actual</th>\n",
       "    </tr>\n",
       "  </thead>\n",
       "  <tbody>\n",
       "    <tr>\n",
       "      <th>0</th>\n",
       "      <td>0.143029</td>\n",
       "      <td>0.846468</td>\n",
       "      <td>0.010503</td>\n",
       "      <td>1.000000</td>\n",
       "      <td>2</td>\n",
       "      <td>2</td>\n",
       "      <td>1</td>\n",
       "      <td>1</td>\n",
       "    </tr>\n",
       "    <tr>\n",
       "      <th>1</th>\n",
       "      <td>0.036707</td>\n",
       "      <td>0.944905</td>\n",
       "      <td>0.018389</td>\n",
       "      <td>1.000000</td>\n",
       "      <td>2</td>\n",
       "      <td>2</td>\n",
       "      <td>1</td>\n",
       "      <td>1</td>\n",
       "    </tr>\n",
       "    <tr>\n",
       "      <th>2</th>\n",
       "      <td>0.981164</td>\n",
       "      <td>0.018256</td>\n",
       "      <td>0.000580</td>\n",
       "      <td>1.000000</td>\n",
       "      <td>1</td>\n",
       "      <td>1</td>\n",
       "      <td>0</td>\n",
       "      <td>0</td>\n",
       "    </tr>\n",
       "    <tr>\n",
       "      <th>3</th>\n",
       "      <td>0.166970</td>\n",
       "      <td>0.699877</td>\n",
       "      <td>0.133154</td>\n",
       "      <td>1.000000</td>\n",
       "      <td>2</td>\n",
       "      <td>3</td>\n",
       "      <td>1</td>\n",
       "      <td>2</td>\n",
       "    </tr>\n",
       "    <tr>\n",
       "      <th>4</th>\n",
       "      <td>0.858324</td>\n",
       "      <td>0.119204</td>\n",
       "      <td>0.022472</td>\n",
       "      <td>1.000000</td>\n",
       "      <td>1</td>\n",
       "      <td>1</td>\n",
       "      <td>0</td>\n",
       "      <td>0</td>\n",
       "    </tr>\n",
       "    <tr>\n",
       "      <th>5</th>\n",
       "      <td>0.003856</td>\n",
       "      <td>0.992629</td>\n",
       "      <td>0.003516</td>\n",
       "      <td>1.000000</td>\n",
       "      <td>2</td>\n",
       "      <td>2</td>\n",
       "      <td>1</td>\n",
       "      <td>1</td>\n",
       "    </tr>\n",
       "    <tr>\n",
       "      <th>6</th>\n",
       "      <td>0.285904</td>\n",
       "      <td>0.240640</td>\n",
       "      <td>0.473456</td>\n",
       "      <td>1.000000</td>\n",
       "      <td>3</td>\n",
       "      <td>3</td>\n",
       "      <td>2</td>\n",
       "      <td>2</td>\n",
       "    </tr>\n",
       "    <tr>\n",
       "      <th>7</th>\n",
       "      <td>0.010662</td>\n",
       "      <td>0.981107</td>\n",
       "      <td>0.008231</td>\n",
       "      <td>1.000000</td>\n",
       "      <td>2</td>\n",
       "      <td>2</td>\n",
       "      <td>1</td>\n",
       "      <td>1</td>\n",
       "    </tr>\n",
       "  </tbody>\n",
       "</table>\n",
       "</div>"
      ],
      "text/plain": [
       "         1        2        3      sum  predicted_class  actual_class  \\\n",
       "0 0.143029 0.846468 0.010503 1.000000                2             2   \n",
       "1 0.036707 0.944905 0.018389 1.000000                2             2   \n",
       "2 0.981164 0.018256 0.000580 1.000000                1             1   \n",
       "3 0.166970 0.699877 0.133154 1.000000                2             3   \n",
       "4 0.858324 0.119204 0.022472 1.000000                1             1   \n",
       "5 0.003856 0.992629 0.003516 1.000000                2             2   \n",
       "6 0.285904 0.240640 0.473456 1.000000                3             3   \n",
       "7 0.010662 0.981107 0.008231 1.000000                2             2   \n",
       "\n",
       "   label_pred  label_actual  \n",
       "0           1             1  \n",
       "1           1             1  \n",
       "2           0             0  \n",
       "3           1             2  \n",
       "4           0             0  \n",
       "5           1             1  \n",
       "6           2             2  \n",
       "7           1             1  "
      ]
     },
     "execution_count": 26,
     "metadata": {},
     "output_type": "execute_result"
    }
   ],
   "source": [
    "le = preprocessing.LabelEncoder()\n",
    "\n",
    "data_result['label_pred'] = le.fit_transform(data_result['predicted_class'])\n",
    "data_result['label_actual'] = le.fit_transform(data_result['actual_class'])\n",
    "data_result"
   ]
  },
  {
   "cell_type": "code",
   "execution_count": 27,
   "id": "eb0eef11",
   "metadata": {
    "execution": {
     "iopub.execute_input": "2022-07-08T14:59:36.296263Z",
     "iopub.status.busy": "2022-07-08T14:59:36.294825Z",
     "iopub.status.idle": "2022-07-08T14:59:36.305537Z",
     "shell.execute_reply": "2022-07-08T14:59:36.303769Z"
    },
    "papermill": {
     "duration": 0.033425,
     "end_time": "2022-07-08T14:59:36.308755",
     "exception": false,
     "start_time": "2022-07-08T14:59:36.275330",
     "status": "completed"
    },
    "tags": []
   },
   "outputs": [
    {
     "data": {
      "text/plain": [
       "{2: 1, 1: 0, 3: 2}"
      ]
     },
     "execution_count": 27,
     "metadata": {},
     "output_type": "execute_result"
    }
   ],
   "source": [
    "targets = data_result['predicted_class']   \n",
    "integerEncoded = le.fit_transform(targets)\n",
    "integerMapping=dict(zip(targets,integerEncoded))\n",
    "integerMapping"
   ]
  },
  {
   "cell_type": "code",
   "execution_count": 28,
   "id": "cf0372ab",
   "metadata": {
    "execution": {
     "iopub.execute_input": "2022-07-08T14:59:36.347723Z",
     "iopub.status.busy": "2022-07-08T14:59:36.347337Z",
     "iopub.status.idle": "2022-07-08T14:59:36.355884Z",
     "shell.execute_reply": "2022-07-08T14:59:36.354464Z"
    },
    "papermill": {
     "duration": 0.03084,
     "end_time": "2022-07-08T14:59:36.358485",
     "exception": false,
     "start_time": "2022-07-08T14:59:36.327645",
     "status": "completed"
    },
    "tags": []
   },
   "outputs": [
    {
     "data": {
      "text/plain": [
       "{2: 1, 1: 0, 3: 2}"
      ]
     },
     "execution_count": 28,
     "metadata": {},
     "output_type": "execute_result"
    }
   ],
   "source": [
    "targets = data_result['actual_class']   \n",
    "integerEncoded = le.fit_transform(targets)\n",
    "integerMapping=dict(zip(targets,integerEncoded))\n",
    "integerMapping"
   ]
  },
  {
   "cell_type": "markdown",
   "id": "ae6521b9",
   "metadata": {
    "papermill": {
     "duration": 0.018624,
     "end_time": "2022-07-08T14:59:36.395742",
     "exception": false,
     "start_time": "2022-07-08T14:59:36.377118",
     "status": "completed"
    },
    "tags": []
   },
   "source": [
    "Cek apakah prediksi class benar"
   ]
  },
  {
   "cell_type": "code",
   "execution_count": 29,
   "id": "cd75d3c5",
   "metadata": {
    "execution": {
     "iopub.execute_input": "2022-07-08T14:59:36.435540Z",
     "iopub.status.busy": "2022-07-08T14:59:36.434809Z",
     "iopub.status.idle": "2022-07-08T14:59:36.451050Z",
     "shell.execute_reply": "2022-07-08T14:59:36.449874Z"
    },
    "papermill": {
     "duration": 0.039641,
     "end_time": "2022-07-08T14:59:36.454091",
     "exception": false,
     "start_time": "2022-07-08T14:59:36.414450",
     "status": "completed"
    },
    "tags": []
   },
   "outputs": [
    {
     "data": {
      "text/html": [
       "<div>\n",
       "<style scoped>\n",
       "    .dataframe tbody tr th:only-of-type {\n",
       "        vertical-align: middle;\n",
       "    }\n",
       "\n",
       "    .dataframe tbody tr th {\n",
       "        vertical-align: top;\n",
       "    }\n",
       "\n",
       "    .dataframe thead th {\n",
       "        text-align: right;\n",
       "    }\n",
       "</style>\n",
       "<table border=\"1\" class=\"dataframe\">\n",
       "  <thead>\n",
       "    <tr style=\"text-align: right;\">\n",
       "      <th></th>\n",
       "      <th>1</th>\n",
       "      <th>2</th>\n",
       "      <th>3</th>\n",
       "      <th>sum</th>\n",
       "      <th>predicted_class</th>\n",
       "      <th>actual_class</th>\n",
       "      <th>label_pred</th>\n",
       "      <th>label_actual</th>\n",
       "      <th>check</th>\n",
       "    </tr>\n",
       "  </thead>\n",
       "  <tbody>\n",
       "    <tr>\n",
       "      <th>0</th>\n",
       "      <td>0.143029</td>\n",
       "      <td>0.846468</td>\n",
       "      <td>0.010503</td>\n",
       "      <td>1.000000</td>\n",
       "      <td>2</td>\n",
       "      <td>2</td>\n",
       "      <td>1</td>\n",
       "      <td>1</td>\n",
       "      <td>0</td>\n",
       "    </tr>\n",
       "    <tr>\n",
       "      <th>1</th>\n",
       "      <td>0.036707</td>\n",
       "      <td>0.944905</td>\n",
       "      <td>0.018389</td>\n",
       "      <td>1.000000</td>\n",
       "      <td>2</td>\n",
       "      <td>2</td>\n",
       "      <td>1</td>\n",
       "      <td>1</td>\n",
       "      <td>0</td>\n",
       "    </tr>\n",
       "    <tr>\n",
       "      <th>2</th>\n",
       "      <td>0.981164</td>\n",
       "      <td>0.018256</td>\n",
       "      <td>0.000580</td>\n",
       "      <td>1.000000</td>\n",
       "      <td>1</td>\n",
       "      <td>1</td>\n",
       "      <td>0</td>\n",
       "      <td>0</td>\n",
       "      <td>0</td>\n",
       "    </tr>\n",
       "    <tr>\n",
       "      <th>3</th>\n",
       "      <td>0.166970</td>\n",
       "      <td>0.699877</td>\n",
       "      <td>0.133154</td>\n",
       "      <td>1.000000</td>\n",
       "      <td>2</td>\n",
       "      <td>3</td>\n",
       "      <td>1</td>\n",
       "      <td>2</td>\n",
       "      <td>1</td>\n",
       "    </tr>\n",
       "    <tr>\n",
       "      <th>4</th>\n",
       "      <td>0.858324</td>\n",
       "      <td>0.119204</td>\n",
       "      <td>0.022472</td>\n",
       "      <td>1.000000</td>\n",
       "      <td>1</td>\n",
       "      <td>1</td>\n",
       "      <td>0</td>\n",
       "      <td>0</td>\n",
       "      <td>0</td>\n",
       "    </tr>\n",
       "    <tr>\n",
       "      <th>5</th>\n",
       "      <td>0.003856</td>\n",
       "      <td>0.992629</td>\n",
       "      <td>0.003516</td>\n",
       "      <td>1.000000</td>\n",
       "      <td>2</td>\n",
       "      <td>2</td>\n",
       "      <td>1</td>\n",
       "      <td>1</td>\n",
       "      <td>0</td>\n",
       "    </tr>\n",
       "    <tr>\n",
       "      <th>6</th>\n",
       "      <td>0.285904</td>\n",
       "      <td>0.240640</td>\n",
       "      <td>0.473456</td>\n",
       "      <td>1.000000</td>\n",
       "      <td>3</td>\n",
       "      <td>3</td>\n",
       "      <td>2</td>\n",
       "      <td>2</td>\n",
       "      <td>0</td>\n",
       "    </tr>\n",
       "    <tr>\n",
       "      <th>7</th>\n",
       "      <td>0.010662</td>\n",
       "      <td>0.981107</td>\n",
       "      <td>0.008231</td>\n",
       "      <td>1.000000</td>\n",
       "      <td>2</td>\n",
       "      <td>2</td>\n",
       "      <td>1</td>\n",
       "      <td>1</td>\n",
       "      <td>0</td>\n",
       "    </tr>\n",
       "  </tbody>\n",
       "</table>\n",
       "</div>"
      ],
      "text/plain": [
       "         1        2        3      sum  predicted_class  actual_class  \\\n",
       "0 0.143029 0.846468 0.010503 1.000000                2             2   \n",
       "1 0.036707 0.944905 0.018389 1.000000                2             2   \n",
       "2 0.981164 0.018256 0.000580 1.000000                1             1   \n",
       "3 0.166970 0.699877 0.133154 1.000000                2             3   \n",
       "4 0.858324 0.119204 0.022472 1.000000                1             1   \n",
       "5 0.003856 0.992629 0.003516 1.000000                2             2   \n",
       "6 0.285904 0.240640 0.473456 1.000000                3             3   \n",
       "7 0.010662 0.981107 0.008231 1.000000                2             2   \n",
       "\n",
       "   label_pred  label_actual  check  \n",
       "0           1             1      0  \n",
       "1           1             1      0  \n",
       "2           0             0      0  \n",
       "3           1             2      1  \n",
       "4           0             0      0  \n",
       "5           1             1      0  \n",
       "6           2             2      0  \n",
       "7           1             1      0  "
      ]
     },
     "execution_count": 29,
     "metadata": {},
     "output_type": "execute_result"
    }
   ],
   "source": [
    "data_result['check'] = data_result['label_actual'] - data_result['label_pred']\n",
    "data_result"
   ]
  },
  {
   "cell_type": "code",
   "execution_count": 30,
   "id": "16a55f30",
   "metadata": {
    "execution": {
     "iopub.execute_input": "2022-07-08T14:59:36.501854Z",
     "iopub.status.busy": "2022-07-08T14:59:36.500994Z",
     "iopub.status.idle": "2022-07-08T14:59:36.518361Z",
     "shell.execute_reply": "2022-07-08T14:59:36.517195Z"
    },
    "papermill": {
     "duration": 0.046516,
     "end_time": "2022-07-08T14:59:36.520952",
     "exception": false,
     "start_time": "2022-07-08T14:59:36.474436",
     "status": "completed"
    },
    "tags": []
   },
   "outputs": [
    {
     "data": {
      "text/html": [
       "<div>\n",
       "<style scoped>\n",
       "    .dataframe tbody tr th:only-of-type {\n",
       "        vertical-align: middle;\n",
       "    }\n",
       "\n",
       "    .dataframe tbody tr th {\n",
       "        vertical-align: top;\n",
       "    }\n",
       "\n",
       "    .dataframe thead th {\n",
       "        text-align: right;\n",
       "    }\n",
       "</style>\n",
       "<table border=\"1\" class=\"dataframe\">\n",
       "  <thead>\n",
       "    <tr style=\"text-align: right;\">\n",
       "      <th></th>\n",
       "      <th>1</th>\n",
       "      <th>2</th>\n",
       "      <th>3</th>\n",
       "      <th>sum</th>\n",
       "      <th>predicted_class</th>\n",
       "      <th>actual_class</th>\n",
       "      <th>correct_prediction?</th>\n",
       "    </tr>\n",
       "  </thead>\n",
       "  <tbody>\n",
       "    <tr>\n",
       "      <th>0</th>\n",
       "      <td>0.143029</td>\n",
       "      <td>0.846468</td>\n",
       "      <td>0.010503</td>\n",
       "      <td>1.000000</td>\n",
       "      <td>2</td>\n",
       "      <td>2</td>\n",
       "      <td>True</td>\n",
       "    </tr>\n",
       "    <tr>\n",
       "      <th>1</th>\n",
       "      <td>0.036707</td>\n",
       "      <td>0.944905</td>\n",
       "      <td>0.018389</td>\n",
       "      <td>1.000000</td>\n",
       "      <td>2</td>\n",
       "      <td>2</td>\n",
       "      <td>True</td>\n",
       "    </tr>\n",
       "    <tr>\n",
       "      <th>2</th>\n",
       "      <td>0.981164</td>\n",
       "      <td>0.018256</td>\n",
       "      <td>0.000580</td>\n",
       "      <td>1.000000</td>\n",
       "      <td>1</td>\n",
       "      <td>1</td>\n",
       "      <td>True</td>\n",
       "    </tr>\n",
       "    <tr>\n",
       "      <th>3</th>\n",
       "      <td>0.166970</td>\n",
       "      <td>0.699877</td>\n",
       "      <td>0.133154</td>\n",
       "      <td>1.000000</td>\n",
       "      <td>2</td>\n",
       "      <td>3</td>\n",
       "      <td>False</td>\n",
       "    </tr>\n",
       "    <tr>\n",
       "      <th>4</th>\n",
       "      <td>0.858324</td>\n",
       "      <td>0.119204</td>\n",
       "      <td>0.022472</td>\n",
       "      <td>1.000000</td>\n",
       "      <td>1</td>\n",
       "      <td>1</td>\n",
       "      <td>True</td>\n",
       "    </tr>\n",
       "    <tr>\n",
       "      <th>5</th>\n",
       "      <td>0.003856</td>\n",
       "      <td>0.992629</td>\n",
       "      <td>0.003516</td>\n",
       "      <td>1.000000</td>\n",
       "      <td>2</td>\n",
       "      <td>2</td>\n",
       "      <td>True</td>\n",
       "    </tr>\n",
       "    <tr>\n",
       "      <th>6</th>\n",
       "      <td>0.285904</td>\n",
       "      <td>0.240640</td>\n",
       "      <td>0.473456</td>\n",
       "      <td>1.000000</td>\n",
       "      <td>3</td>\n",
       "      <td>3</td>\n",
       "      <td>True</td>\n",
       "    </tr>\n",
       "    <tr>\n",
       "      <th>7</th>\n",
       "      <td>0.010662</td>\n",
       "      <td>0.981107</td>\n",
       "      <td>0.008231</td>\n",
       "      <td>1.000000</td>\n",
       "      <td>2</td>\n",
       "      <td>2</td>\n",
       "      <td>True</td>\n",
       "    </tr>\n",
       "  </tbody>\n",
       "</table>\n",
       "</div>"
      ],
      "text/plain": [
       "         1        2        3      sum  predicted_class  actual_class  \\\n",
       "0 0.143029 0.846468 0.010503 1.000000                2             2   \n",
       "1 0.036707 0.944905 0.018389 1.000000                2             2   \n",
       "2 0.981164 0.018256 0.000580 1.000000                1             1   \n",
       "3 0.166970 0.699877 0.133154 1.000000                2             3   \n",
       "4 0.858324 0.119204 0.022472 1.000000                1             1   \n",
       "5 0.003856 0.992629 0.003516 1.000000                2             2   \n",
       "6 0.285904 0.240640 0.473456 1.000000                3             3   \n",
       "7 0.010662 0.981107 0.008231 1.000000                2             2   \n",
       "\n",
       "  correct_prediction?  \n",
       "0                True  \n",
       "1                True  \n",
       "2                True  \n",
       "3               False  \n",
       "4                True  \n",
       "5                True  \n",
       "6                True  \n",
       "7                True  "
      ]
     },
     "execution_count": 30,
     "metadata": {},
     "output_type": "execute_result"
    }
   ],
   "source": [
    "data_result['correct_prediction?'] = np.where(data_result['check'] == 0, 'True', 'False')\n",
    "data_result = data_result.drop(['label_pred', 'label_actual', 'check'], axis=1)\n",
    "data_result"
   ]
  },
  {
   "cell_type": "code",
   "execution_count": 31,
   "id": "67f40a5a",
   "metadata": {
    "execution": {
     "iopub.execute_input": "2022-07-08T14:59:36.560506Z",
     "iopub.status.busy": "2022-07-08T14:59:36.560032Z",
     "iopub.status.idle": "2022-07-08T14:59:36.573922Z",
     "shell.execute_reply": "2022-07-08T14:59:36.572695Z"
    },
    "papermill": {
     "duration": 0.036507,
     "end_time": "2022-07-08T14:59:36.576272",
     "exception": false,
     "start_time": "2022-07-08T14:59:36.539765",
     "status": "completed"
    },
    "tags": []
   },
   "outputs": [
    {
     "data": {
      "text/html": [
       "<div>\n",
       "<style scoped>\n",
       "    .dataframe tbody tr th:only-of-type {\n",
       "        vertical-align: middle;\n",
       "    }\n",
       "\n",
       "    .dataframe tbody tr th {\n",
       "        vertical-align: top;\n",
       "    }\n",
       "\n",
       "    .dataframe thead th {\n",
       "        text-align: right;\n",
       "    }\n",
       "</style>\n",
       "<table border=\"1\" class=\"dataframe\">\n",
       "  <thead>\n",
       "    <tr style=\"text-align: right;\">\n",
       "      <th></th>\n",
       "      <th>1</th>\n",
       "      <th>2</th>\n",
       "      <th>3</th>\n",
       "      <th>sum</th>\n",
       "      <th>predicted_class</th>\n",
       "      <th>actual_class</th>\n",
       "      <th>correct_prediction?</th>\n",
       "    </tr>\n",
       "  </thead>\n",
       "  <tbody>\n",
       "    <tr>\n",
       "      <th>0</th>\n",
       "      <td>0.143029</td>\n",
       "      <td>0.846468</td>\n",
       "      <td>0.010503</td>\n",
       "      <td>1.000000</td>\n",
       "      <td>2</td>\n",
       "      <td>2</td>\n",
       "      <td>True</td>\n",
       "    </tr>\n",
       "    <tr>\n",
       "      <th>1</th>\n",
       "      <td>0.036707</td>\n",
       "      <td>0.944905</td>\n",
       "      <td>0.018389</td>\n",
       "      <td>1.000000</td>\n",
       "      <td>2</td>\n",
       "      <td>2</td>\n",
       "      <td>True</td>\n",
       "    </tr>\n",
       "    <tr>\n",
       "      <th>2</th>\n",
       "      <td>0.981164</td>\n",
       "      <td>0.018256</td>\n",
       "      <td>0.000580</td>\n",
       "      <td>1.000000</td>\n",
       "      <td>1</td>\n",
       "      <td>1</td>\n",
       "      <td>True</td>\n",
       "    </tr>\n",
       "    <tr>\n",
       "      <th>3</th>\n",
       "      <td>0.166970</td>\n",
       "      <td>0.699877</td>\n",
       "      <td>0.133154</td>\n",
       "      <td>1.000000</td>\n",
       "      <td>2</td>\n",
       "      <td>3</td>\n",
       "      <td>False</td>\n",
       "    </tr>\n",
       "    <tr>\n",
       "      <th>4</th>\n",
       "      <td>0.858324</td>\n",
       "      <td>0.119204</td>\n",
       "      <td>0.022472</td>\n",
       "      <td>1.000000</td>\n",
       "      <td>1</td>\n",
       "      <td>1</td>\n",
       "      <td>True</td>\n",
       "    </tr>\n",
       "    <tr>\n",
       "      <th>5</th>\n",
       "      <td>0.003856</td>\n",
       "      <td>0.992629</td>\n",
       "      <td>0.003516</td>\n",
       "      <td>1.000000</td>\n",
       "      <td>2</td>\n",
       "      <td>2</td>\n",
       "      <td>True</td>\n",
       "    </tr>\n",
       "    <tr>\n",
       "      <th>6</th>\n",
       "      <td>0.285904</td>\n",
       "      <td>0.240640</td>\n",
       "      <td>0.473456</td>\n",
       "      <td>1.000000</td>\n",
       "      <td>3</td>\n",
       "      <td>3</td>\n",
       "      <td>True</td>\n",
       "    </tr>\n",
       "    <tr>\n",
       "      <th>7</th>\n",
       "      <td>0.010662</td>\n",
       "      <td>0.981107</td>\n",
       "      <td>0.008231</td>\n",
       "      <td>1.000000</td>\n",
       "      <td>2</td>\n",
       "      <td>2</td>\n",
       "      <td>True</td>\n",
       "    </tr>\n",
       "  </tbody>\n",
       "</table>\n",
       "</div>"
      ],
      "text/plain": [
       "         1        2        3      sum  predicted_class  actual_class  \\\n",
       "0 0.143029 0.846468 0.010503 1.000000                2             2   \n",
       "1 0.036707 0.944905 0.018389 1.000000                2             2   \n",
       "2 0.981164 0.018256 0.000580 1.000000                1             1   \n",
       "3 0.166970 0.699877 0.133154 1.000000                2             3   \n",
       "4 0.858324 0.119204 0.022472 1.000000                1             1   \n",
       "5 0.003856 0.992629 0.003516 1.000000                2             2   \n",
       "6 0.285904 0.240640 0.473456 1.000000                3             3   \n",
       "7 0.010662 0.981107 0.008231 1.000000                2             2   \n",
       "\n",
       "  correct_prediction?  \n",
       "0                True  \n",
       "1                True  \n",
       "2                True  \n",
       "3               False  \n",
       "4                True  \n",
       "5                True  \n",
       "6                True  \n",
       "7                True  "
      ]
     },
     "metadata": {},
     "output_type": "display_data"
    }
   ],
   "source": [
    "display(data_result)"
   ]
  },
  {
   "cell_type": "markdown",
   "id": "d3b66e59",
   "metadata": {
    "papermill": {
     "duration": 0.02083,
     "end_time": "2022-07-08T14:59:36.617704",
     "exception": false,
     "start_time": "2022-07-08T14:59:36.596874",
     "status": "completed"
    },
    "tags": []
   },
   "source": [
    "Gunakan nilai yang dihasilkan untuk mendapatkan / menghitung akurasi secara manual"
   ]
  },
  {
   "cell_type": "code",
   "execution_count": 32,
   "id": "1768942a",
   "metadata": {
    "execution": {
     "iopub.execute_input": "2022-07-08T14:59:36.659122Z",
     "iopub.status.busy": "2022-07-08T14:59:36.658752Z",
     "iopub.status.idle": "2022-07-08T14:59:36.667878Z",
     "shell.execute_reply": "2022-07-08T14:59:36.666394Z"
    },
    "papermill": {
     "duration": 0.033232,
     "end_time": "2022-07-08T14:59:36.670592",
     "exception": false,
     "start_time": "2022-07-08T14:59:36.637360",
     "status": "completed"
    },
    "tags": []
   },
   "outputs": [
    {
     "name": "stdout",
     "output_type": "stream",
     "text": [
      "manual calculated Accuracy is: 87.5\n"
     ]
    }
   ],
   "source": [
    "true_predictions = data_result[(data_result[\"correct_prediction?\"] == 'True')].shape[0]\n",
    "false_predictions = data_result[(data_result[\"correct_prediction?\"] == 'False')].shape[0]\n",
    "total = data_result[\"correct_prediction?\"].shape[0]\n",
    "\n",
    "print('manual calculated Accuracy is:', (true_predictions / total * 100))"
   ]
  },
  {
   "cell_type": "markdown",
   "id": "523644f1",
   "metadata": {
    "papermill": {
     "duration": 0.019968,
     "end_time": "2022-07-08T14:59:36.709307",
     "exception": false,
     "start_time": "2022-07-08T14:59:36.689339",
     "status": "completed"
    },
    "tags": []
   },
   "source": [
    "Probabilitas kelas yang salah prediksi"
   ]
  },
  {
   "cell_type": "code",
   "execution_count": 33,
   "id": "cefe2bdb",
   "metadata": {
    "execution": {
     "iopub.execute_input": "2022-07-08T14:59:36.751002Z",
     "iopub.status.busy": "2022-07-08T14:59:36.750560Z",
     "iopub.status.idle": "2022-07-08T14:59:36.767528Z",
     "shell.execute_reply": "2022-07-08T14:59:36.766290Z"
    },
    "papermill": {
     "duration": 0.040735,
     "end_time": "2022-07-08T14:59:36.770381",
     "exception": false,
     "start_time": "2022-07-08T14:59:36.729646",
     "status": "completed"
    },
    "tags": []
   },
   "outputs": [
    {
     "data": {
      "text/html": [
       "<div>\n",
       "<style scoped>\n",
       "    .dataframe tbody tr th:only-of-type {\n",
       "        vertical-align: middle;\n",
       "    }\n",
       "\n",
       "    .dataframe tbody tr th {\n",
       "        vertical-align: top;\n",
       "    }\n",
       "\n",
       "    .dataframe thead th {\n",
       "        text-align: right;\n",
       "    }\n",
       "</style>\n",
       "<table border=\"1\" class=\"dataframe\">\n",
       "  <thead>\n",
       "    <tr style=\"text-align: right;\">\n",
       "      <th></th>\n",
       "      <th>1</th>\n",
       "      <th>2</th>\n",
       "      <th>3</th>\n",
       "      <th>sum</th>\n",
       "      <th>predicted_class</th>\n",
       "      <th>actual_class</th>\n",
       "      <th>correct_prediction?</th>\n",
       "    </tr>\n",
       "  </thead>\n",
       "  <tbody>\n",
       "    <tr>\n",
       "      <th>3</th>\n",
       "      <td>0.166970</td>\n",
       "      <td>0.699877</td>\n",
       "      <td>0.133154</td>\n",
       "      <td>1.000000</td>\n",
       "      <td>2</td>\n",
       "      <td>3</td>\n",
       "      <td>False</td>\n",
       "    </tr>\n",
       "  </tbody>\n",
       "</table>\n",
       "</div>"
      ],
      "text/plain": [
       "         1        2        3      sum  predicted_class  actual_class  \\\n",
       "3 0.166970 0.699877 0.133154 1.000000                2             3   \n",
       "\n",
       "  correct_prediction?  \n",
       "3               False  "
      ]
     },
     "execution_count": 33,
     "metadata": {},
     "output_type": "execute_result"
    }
   ],
   "source": [
    "wrong_pred = data_result[(data_result[\"correct_prediction?\"] == 'False')]\n",
    "wrong_pred"
   ]
  },
  {
   "cell_type": "markdown",
   "id": "ea1b1062",
   "metadata": {
    "papermill": {
     "duration": 0.018944,
     "end_time": "2022-07-08T14:59:36.809624",
     "exception": false,
     "start_time": "2022-07-08T14:59:36.790680",
     "status": "completed"
    },
    "tags": []
   },
   "source": [
    "**Multinomial Logit with the statsmodel library**"
   ]
  },
  {
   "cell_type": "code",
   "execution_count": 34,
   "id": "2c063e8a",
   "metadata": {
    "execution": {
     "iopub.execute_input": "2022-07-08T14:59:36.851700Z",
     "iopub.status.busy": "2022-07-08T14:59:36.851312Z",
     "iopub.status.idle": "2022-07-08T14:59:36.925339Z",
     "shell.execute_reply": "2022-07-08T14:59:36.923855Z"
    },
    "papermill": {
     "duration": 0.100676,
     "end_time": "2022-07-08T14:59:36.930215",
     "exception": false,
     "start_time": "2022-07-08T14:59:36.829539",
     "status": "completed"
    },
    "tags": []
   },
   "outputs": [
    {
     "name": "stdout",
     "output_type": "stream",
     "text": [
      "Optimization terminated successfully.\n",
      "         Current function value: 0.000004\n",
      "         Iterations: 21\n",
      "         Function evaluations: 22\n",
      "         Gradient evaluations: 22\n",
      "                          MNLogit Regression Results                          \n",
      "==============================================================================\n",
      "Dep. Variable:               Category   No. Observations:                   24\n",
      "Model:                        MNLogit   Df Residuals:                       12\n",
      "Method:                           MLE   Df Model:                           10\n",
      "Date:                Fri, 08 Jul 2022   Pseudo R-squ.:                   1.000\n",
      "Time:                        14:59:36   Log-Likelihood:            -8.6197e-05\n",
      "converged:                       True   LL-Null:                       -17.315\n",
      "Covariance Type:            nonrobust   LLR p-value:                 0.0001444\n",
      "================================================================================\n",
      "  Category=2       coef    std err          z      P>|z|      [0.025      0.975]\n",
      "--------------------------------------------------------------------------------\n",
      " DER           -21.9468   7.23e+05  -3.04e-05      1.000   -1.42e+06    1.42e+06\n",
      "ROA              7.6425   1.86e+06   4.11e-06      1.000   -3.65e+06    3.65e+06\n",
      "Sales Growth    -0.4235   5.02e+05  -8.44e-07      1.000   -9.83e+05    9.83e+05\n",
      "ROE             11.5817   3.53e+06   3.28e-06      1.000   -6.91e+06    6.91e+06\n",
      "NPM             10.9838    1.7e+06   6.46e-06      1.000   -3.33e+06    3.33e+06\n",
      "const           23.7359   8.06e+05   2.95e-05      1.000   -1.58e+06    1.58e+06\n",
      "--------------------------------------------------------------------------------\n",
      "  Category=3       coef    std err          z      P>|z|      [0.025      0.975]\n",
      "--------------------------------------------------------------------------------\n",
      " DER           -11.7969   3.87e+05  -3.05e-05      1.000   -7.58e+05    7.58e+05\n",
      "ROA             -7.6881   2.31e+06  -3.32e-06      1.000   -4.53e+06    4.53e+06\n",
      "Sales Growth     1.4579   9.25e+06   1.58e-07      1.000   -1.81e+07    1.81e+07\n",
      "ROE             -7.3254   3.08e+06  -2.38e-06      1.000   -6.03e+06    6.03e+06\n",
      "NPM             -1.7051    3.5e+06  -4.88e-07      1.000   -6.85e+06    6.85e+06\n",
      "const          -15.4631   6.23e+06  -2.48e-06      1.000   -1.22e+07    1.22e+07\n",
      "================================================================================\n"
     ]
    }
   ],
   "source": [
    "x2 = sm.add_constant(data_scaled, prepend = False)\n",
    "\n",
    "mnlogit_mod = sm.MNLogit(y, x2).fit(method='bfgs')\n",
    "\n",
    "print (mnlogit_mod.summary())"
   ]
  }
 ],
 "metadata": {
  "kernelspec": {
   "display_name": "Python 3",
   "language": "python",
   "name": "python3"
  },
  "language_info": {
   "codemirror_mode": {
    "name": "ipython",
    "version": 3
   },
   "file_extension": ".py",
   "mimetype": "text/x-python",
   "name": "python",
   "nbconvert_exporter": "python",
   "pygments_lexer": "ipython3",
   "version": "3.7.12"
  },
  "papermill": {
   "default_parameters": {},
   "duration": 19.775974,
   "end_time": "2022-07-08T14:59:37.891943",
   "environment_variables": {},
   "exception": null,
   "input_path": "__notebook__.ipynb",
   "output_path": "__notebook__.ipynb",
   "parameters": {},
   "start_time": "2022-07-08T14:59:18.115969",
   "version": "2.3.4"
  }
 },
 "nbformat": 4,
 "nbformat_minor": 5
}
