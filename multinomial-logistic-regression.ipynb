{
 "cells": [
  {
   "cell_type": "code",
   "execution_count": 1,
   "id": "51e0aa59",
   "metadata": {
    "_cell_guid": "b1076dfc-b9ad-4769-8c92-a6c4dae69d19",
    "_uuid": "8f2839f25d086af736a60e9eeb907d3b93b6e0e5",
    "execution": {
     "iopub.execute_input": "2022-07-06T05:37:23.364750Z",
     "iopub.status.busy": "2022-07-06T05:37:23.363575Z",
     "iopub.status.idle": "2022-07-06T05:37:23.379953Z",
     "shell.execute_reply": "2022-07-06T05:37:23.380552Z",
     "shell.execute_reply.started": "2022-07-06T05:32:45.148459Z"
    },
    "papermill": {
     "duration": 0.039289,
     "end_time": "2022-07-06T05:37:23.380836",
     "exception": false,
     "start_time": "2022-07-06T05:37:23.341547",
     "status": "completed"
    },
    "tags": []
   },
   "outputs": [
    {
     "name": "stdout",
     "output_type": "stream",
     "text": [
      "/kaggle/input/data-category-bank/Data category bank .csv\n"
     ]
    }
   ],
   "source": [
    "# This Python 3 environment comes with many helpful analytics libraries installed\n",
    "# It is defined by the kaggle/python Docker image: https://github.com/kaggle/docker-python\n",
    "# For example, here's several helpful packages to load\n",
    "\n",
    "import numpy as np # linear algebra\n",
    "import pandas as pd # data processing, CSV file I/O (e.g. pd.read_csv)\n",
    "\n",
    "# Input data files are available in the read-only \"../input/\" directory\n",
    "# For example, running this (by clicking run or pressing Shift+Enter) will list all files under the input directory\n",
    "\n",
    "import os\n",
    "for dirname, _, filenames in os.walk('/kaggle/input'):\n",
    "    for filename in filenames:\n",
    "        print(os.path.join(dirname, filename))\n",
    "\n",
    "# You can write up to 20GB to the current directory (/kaggle/working/) that gets preserved as output when you create a version using \"Save & Run All\" \n",
    "# You can also write temporary files to /kaggle/temp/, but they won't be saved outside of the current session"
   ]
  },
  {
   "cell_type": "code",
   "execution_count": 2,
   "id": "662ad538",
   "metadata": {
    "execution": {
     "iopub.execute_input": "2022-07-06T05:37:23.423291Z",
     "iopub.status.busy": "2022-07-06T05:37:23.421102Z",
     "iopub.status.idle": "2022-07-06T05:37:24.659342Z",
     "shell.execute_reply": "2022-07-06T05:37:24.658762Z",
     "shell.execute_reply.started": "2022-07-06T05:32:45.178527Z"
    },
    "papermill": {
     "duration": 1.258562,
     "end_time": "2022-07-06T05:37:24.659481",
     "exception": false,
     "start_time": "2022-07-06T05:37:23.400919",
     "status": "completed"
    },
    "tags": []
   },
   "outputs": [],
   "source": [
    "import pandas as pd\n",
    "import seaborn as sns\n",
    "from sklearn.metrics import classification_report\n",
    "from sklearn.metrics import accuracy_score\n",
    "from sklearn.model_selection import train_test_split\n",
    "from sklearn.linear_model import LogisticRegression"
   ]
  },
  {
   "cell_type": "code",
   "execution_count": 3,
   "id": "f990d6f2",
   "metadata": {
    "execution": {
     "iopub.execute_input": "2022-07-06T05:37:24.701101Z",
     "iopub.status.busy": "2022-07-06T05:37:24.700146Z",
     "iopub.status.idle": "2022-07-06T05:37:24.732996Z",
     "shell.execute_reply": "2022-07-06T05:37:24.733544Z",
     "shell.execute_reply.started": "2022-07-06T05:32:45.207945Z"
    },
    "papermill": {
     "duration": 0.054979,
     "end_time": "2022-07-06T05:37:24.733713",
     "exception": false,
     "start_time": "2022-07-06T05:37:24.678734",
     "status": "completed"
    },
    "tags": []
   },
   "outputs": [
    {
     "data": {
      "text/html": [
       "<div>\n",
       "<style scoped>\n",
       "    .dataframe tbody tr th:only-of-type {\n",
       "        vertical-align: middle;\n",
       "    }\n",
       "\n",
       "    .dataframe tbody tr th {\n",
       "        vertical-align: top;\n",
       "    }\n",
       "\n",
       "    .dataframe thead th {\n",
       "        text-align: right;\n",
       "    }\n",
       "</style>\n",
       "<table border=\"1\" class=\"dataframe\">\n",
       "  <thead>\n",
       "    <tr style=\"text-align: right;\">\n",
       "      <th></th>\n",
       "      <th>Emitten</th>\n",
       "      <th>DER</th>\n",
       "      <th>ROA</th>\n",
       "      <th>Sales Growth</th>\n",
       "      <th>ROE</th>\n",
       "      <th>NPM</th>\n",
       "      <th>Category</th>\n",
       "    </tr>\n",
       "  </thead>\n",
       "  <tbody>\n",
       "    <tr>\n",
       "      <th>0</th>\n",
       "      <td>AGRO</td>\n",
       "      <td>7.15</td>\n",
       "      <td>-0.09</td>\n",
       "      <td>-185.032137</td>\n",
       "      <td>-0.72</td>\n",
       "      <td>-1.40</td>\n",
       "      <td>3</td>\n",
       "    </tr>\n",
       "    <tr>\n",
       "      <th>1</th>\n",
       "      <td>BBCA</td>\n",
       "      <td>4.88</td>\n",
       "      <td>0.03</td>\n",
       "      <td>-1485.583000</td>\n",
       "      <td>0.15</td>\n",
       "      <td>0.59</td>\n",
       "      <td>2</td>\n",
       "    </tr>\n",
       "    <tr>\n",
       "      <th>2</th>\n",
       "      <td>BBHI</td>\n",
       "      <td>4.36</td>\n",
       "      <td>0.01</td>\n",
       "      <td>121.858090</td>\n",
       "      <td>0.06</td>\n",
       "      <td>0.30</td>\n",
       "      <td>2</td>\n",
       "    </tr>\n",
       "    <tr>\n",
       "      <th>3</th>\n",
       "      <td>BBKP</td>\n",
       "      <td>10.03</td>\n",
       "      <td>-0.01</td>\n",
       "      <td>-1445.750000</td>\n",
       "      <td>-0.06</td>\n",
       "      <td>-0.14</td>\n",
       "      <td>1</td>\n",
       "    </tr>\n",
       "    <tr>\n",
       "      <th>4</th>\n",
       "      <td>BBMD</td>\n",
       "      <td>2.90</td>\n",
       "      <td>0.03</td>\n",
       "      <td>61.545475</td>\n",
       "      <td>0.11</td>\n",
       "      <td>0.51</td>\n",
       "      <td>2</td>\n",
       "    </tr>\n",
       "  </tbody>\n",
       "</table>\n",
       "</div>"
      ],
      "text/plain": [
       "  Emitten    DER   ROA  Sales Growth   ROE   NPM  Category\n",
       "0    AGRO   7.15 -0.09   -185.032137 -0.72 -1.40         3\n",
       "1    BBCA   4.88  0.03  -1485.583000  0.15  0.59         2\n",
       "2    BBHI   4.36  0.01    121.858090  0.06  0.30         2\n",
       "3    BBKP  10.03 -0.01  -1445.750000 -0.06 -0.14         1\n",
       "4    BBMD   2.90  0.03     61.545475  0.11  0.51         2"
      ]
     },
     "execution_count": 3,
     "metadata": {},
     "output_type": "execute_result"
    }
   ],
   "source": [
    "df = pd.read_csv('../input/data-category-bank/Data category bank .csv')\n",
    "df.head()"
   ]
  },
  {
   "cell_type": "code",
   "execution_count": 4,
   "id": "9319febc",
   "metadata": {
    "execution": {
     "iopub.execute_input": "2022-07-06T05:37:24.775604Z",
     "iopub.status.busy": "2022-07-06T05:37:24.774679Z",
     "iopub.status.idle": "2022-07-06T05:37:24.781172Z",
     "shell.execute_reply": "2022-07-06T05:37:24.781633Z",
     "shell.execute_reply.started": "2022-07-06T05:32:45.254230Z"
    },
    "papermill": {
     "duration": 0.02853,
     "end_time": "2022-07-06T05:37:24.781784",
     "exception": false,
     "start_time": "2022-07-06T05:37:24.753254",
     "status": "completed"
    },
    "tags": []
   },
   "outputs": [
    {
     "data": {
      "text/plain": [
       "array([['AGRO', 7.15, -0.09, -185.032137, -0.72, -1.4, 3],\n",
       "       ['BBCA', 4.88, 0.03, -1485.583, 0.15, 0.59, 2],\n",
       "       ['BBHI', 4.36, 0.01, 121.8580899, 0.06, 0.3, 2],\n",
       "       ['BBKP', 10.03, -0.01, -1445.75, -0.06, -0.14, 1],\n",
       "       ['BBMD', 2.9, 0.03, 61.5454751, 0.11, 0.51, 2],\n",
       "       ['BBNI', 6.52, 0.01, -4246.426, 0.05, 0.14, 2],\n",
       "       ['BBRI', 4.78, 0.01, 6531.747, 0.08, 0.22, 2],\n",
       "       ['BBSI', 0.49, 0.04, 22.55646717, 0.06, 0.65, 2],\n",
       "       ['BBTN', 15.82, 0.01, 129.291, 0.1, 0.11, 1],\n",
       "       ['BBYB', 6.31, -0.04, 167.3732876, -0.32, -0.7, 3],\n",
       "       ['BCIC', 11.53, -0.02, -24.753, -0.28, -0.55, 1],\n",
       "       ['BEKS', 4.17, -0.03, -93.899, 0.02, 0.06, 2],\n",
       "       ['BJBR', 11.34, 0.01, 649.269, -0.14, -0.92, 1],\n",
       "       ['BJTM', 8.42, 0.02, 424.496, 0.03, 0.07, 2],\n",
       "       ['BKSW', 3.82, -0.02, -309.781, 0.15, 0.18, 2],\n",
       "       ['BMRI', 5.91, 0.01, 7034.205, 0.15, 0.32, 2],\n",
       "       ['BNBA', 3.49, 0.01, -81.85642106, -0.1, -0.51, 2],\n",
       "       ['BNGA', 5.49, 0.01, -1001.648, 0.05, 0.1, 2],\n",
       "       ['BNII', 4.5, 0.01, -1690.584, 0.1, 0.23, 2],\n",
       "       ['BNLI', 5.07, 0.01, 263.701, 0.03, 0.12, 2],\n",
       "       ['BTPN', 3.94, 0.01, -1667.699, 0.08, 0.21, 2],\n",
       "       ['BTPS', 0.36, 0.08, 567.248, 0.05, 0.17, 2],\n",
       "       ['MASB', 7.9, 0.01, -2756.119855, 0.03, 0.11, 2],\n",
       "       ['MEGA', 5.54, 0.03, 335.8793442, 0.04, 0.09, 2]], dtype=object)"
      ]
     },
     "execution_count": 4,
     "metadata": {},
     "output_type": "execute_result"
    }
   ],
   "source": [
    "np.asarray(df)"
   ]
  },
  {
   "cell_type": "code",
   "execution_count": 5,
   "id": "e3df4559",
   "metadata": {
    "execution": {
     "iopub.execute_input": "2022-07-06T05:37:24.823330Z",
     "iopub.status.busy": "2022-07-06T05:37:24.822386Z",
     "iopub.status.idle": "2022-07-06T05:37:25.459676Z",
     "shell.execute_reply": "2022-07-06T05:37:25.460229Z",
     "shell.execute_reply.started": "2022-07-06T05:32:45.290173Z"
    },
    "papermill": {
     "duration": 0.659782,
     "end_time": "2022-07-06T05:37:25.460426",
     "exception": false,
     "start_time": "2022-07-06T05:37:24.800644",
     "status": "completed"
    },
    "tags": []
   },
   "outputs": [],
   "source": [
    "import statsmodels.api as sm"
   ]
  },
  {
   "cell_type": "code",
   "execution_count": 6,
   "id": "90680699",
   "metadata": {
    "execution": {
     "iopub.execute_input": "2022-07-06T05:37:25.507367Z",
     "iopub.status.busy": "2022-07-06T05:37:25.506740Z",
     "iopub.status.idle": "2022-07-06T05:37:25.511620Z",
     "shell.execute_reply": "2022-07-06T05:37:25.512158Z",
     "shell.execute_reply.started": "2022-07-06T05:32:45.328066Z"
    },
    "papermill": {
     "duration": 0.032679,
     "end_time": "2022-07-06T05:37:25.512318",
     "exception": false,
     "start_time": "2022-07-06T05:37:25.479639",
     "status": "completed"
    },
    "tags": []
   },
   "outputs": [],
   "source": [
    "df.drop(['Emitten'], axis=1, inplace=True)"
   ]
  },
  {
   "cell_type": "code",
   "execution_count": 7,
   "id": "550b8125",
   "metadata": {
    "execution": {
     "iopub.execute_input": "2022-07-06T05:37:25.564213Z",
     "iopub.status.busy": "2022-07-06T05:37:25.563596Z",
     "iopub.status.idle": "2022-07-06T05:37:25.566272Z",
     "shell.execute_reply": "2022-07-06T05:37:25.566770Z",
     "shell.execute_reply.started": "2022-07-06T05:32:45.375549Z"
    },
    "papermill": {
     "duration": 0.035538,
     "end_time": "2022-07-06T05:37:25.566920",
     "exception": false,
     "start_time": "2022-07-06T05:37:25.531382",
     "status": "completed"
    },
    "tags": []
   },
   "outputs": [
    {
     "data": {
      "text/html": [
       "<div>\n",
       "<style scoped>\n",
       "    .dataframe tbody tr th:only-of-type {\n",
       "        vertical-align: middle;\n",
       "    }\n",
       "\n",
       "    .dataframe tbody tr th {\n",
       "        vertical-align: top;\n",
       "    }\n",
       "\n",
       "    .dataframe thead th {\n",
       "        text-align: right;\n",
       "    }\n",
       "</style>\n",
       "<table border=\"1\" class=\"dataframe\">\n",
       "  <thead>\n",
       "    <tr style=\"text-align: right;\">\n",
       "      <th></th>\n",
       "      <th>DER</th>\n",
       "      <th>ROA</th>\n",
       "      <th>Sales Growth</th>\n",
       "      <th>ROE</th>\n",
       "      <th>NPM</th>\n",
       "    </tr>\n",
       "  </thead>\n",
       "  <tbody>\n",
       "    <tr>\n",
       "      <th>0</th>\n",
       "      <td>7.15</td>\n",
       "      <td>-0.09</td>\n",
       "      <td>-185.032137</td>\n",
       "      <td>-0.72</td>\n",
       "      <td>-1.40</td>\n",
       "    </tr>\n",
       "    <tr>\n",
       "      <th>1</th>\n",
       "      <td>4.88</td>\n",
       "      <td>0.03</td>\n",
       "      <td>-1485.583000</td>\n",
       "      <td>0.15</td>\n",
       "      <td>0.59</td>\n",
       "    </tr>\n",
       "    <tr>\n",
       "      <th>2</th>\n",
       "      <td>4.36</td>\n",
       "      <td>0.01</td>\n",
       "      <td>121.858090</td>\n",
       "      <td>0.06</td>\n",
       "      <td>0.30</td>\n",
       "    </tr>\n",
       "    <tr>\n",
       "      <th>3</th>\n",
       "      <td>10.03</td>\n",
       "      <td>-0.01</td>\n",
       "      <td>-1445.750000</td>\n",
       "      <td>-0.06</td>\n",
       "      <td>-0.14</td>\n",
       "    </tr>\n",
       "    <tr>\n",
       "      <th>4</th>\n",
       "      <td>2.90</td>\n",
       "      <td>0.03</td>\n",
       "      <td>61.545475</td>\n",
       "      <td>0.11</td>\n",
       "      <td>0.51</td>\n",
       "    </tr>\n",
       "  </tbody>\n",
       "</table>\n",
       "</div>"
      ],
      "text/plain": [
       "     DER   ROA  Sales Growth   ROE   NPM\n",
       "0   7.15 -0.09   -185.032137 -0.72 -1.40\n",
       "1   4.88  0.03  -1485.583000  0.15  0.59\n",
       "2   4.36  0.01    121.858090  0.06  0.30\n",
       "3  10.03 -0.01  -1445.750000 -0.06 -0.14\n",
       "4   2.90  0.03     61.545475  0.11  0.51"
      ]
     },
     "execution_count": 7,
     "metadata": {},
     "output_type": "execute_result"
    }
   ],
   "source": [
    "x = df.drop('Category', axis=1)\n",
    "x.head()"
   ]
  },
  {
   "cell_type": "code",
   "execution_count": 8,
   "id": "4575ec85",
   "metadata": {
    "execution": {
     "iopub.execute_input": "2022-07-06T05:37:25.612084Z",
     "iopub.status.busy": "2022-07-06T05:37:25.607266Z",
     "iopub.status.idle": "2022-07-06T05:37:25.615665Z",
     "shell.execute_reply": "2022-07-06T05:37:25.615193Z",
     "shell.execute_reply.started": "2022-07-06T05:32:45.410838Z"
    },
    "papermill": {
     "duration": 0.029827,
     "end_time": "2022-07-06T05:37:25.615788",
     "exception": false,
     "start_time": "2022-07-06T05:37:25.585961",
     "status": "completed"
    },
    "tags": []
   },
   "outputs": [
    {
     "data": {
      "text/plain": [
       "0    3\n",
       "1    2\n",
       "2    2\n",
       "3    1\n",
       "4    2\n",
       "Name: Category, dtype: int64"
      ]
     },
     "execution_count": 8,
     "metadata": {},
     "output_type": "execute_result"
    }
   ],
   "source": [
    "y = df['Category']\n",
    "y.head()"
   ]
  },
  {
   "cell_type": "code",
   "execution_count": 9,
   "id": "74fafea8",
   "metadata": {
    "execution": {
     "iopub.execute_input": "2022-07-06T05:37:25.661353Z",
     "iopub.status.busy": "2022-07-06T05:37:25.659734Z",
     "iopub.status.idle": "2022-07-06T05:37:25.663934Z",
     "shell.execute_reply": "2022-07-06T05:37:25.663409Z",
     "shell.execute_reply.started": "2022-07-06T05:32:45.469743Z"
    },
    "papermill": {
     "duration": 0.02853,
     "end_time": "2022-07-06T05:37:25.664091",
     "exception": false,
     "start_time": "2022-07-06T05:37:25.635561",
     "status": "completed"
    },
    "tags": []
   },
   "outputs": [],
   "source": [
    "x_train, x_test, y_train, y_test = train_test_split(x,y, test_size=0.2)"
   ]
  },
  {
   "cell_type": "code",
   "execution_count": 10,
   "id": "636e4665",
   "metadata": {
    "execution": {
     "iopub.execute_input": "2022-07-06T05:37:25.708162Z",
     "iopub.status.busy": "2022-07-06T05:37:25.707539Z",
     "iopub.status.idle": "2022-07-06T05:37:25.730930Z",
     "shell.execute_reply": "2022-07-06T05:37:25.731534Z",
     "shell.execute_reply.started": "2022-07-06T05:32:45.503849Z"
    },
    "papermill": {
     "duration": 0.047071,
     "end_time": "2022-07-06T05:37:25.731706",
     "exception": false,
     "start_time": "2022-07-06T05:37:25.684635",
     "status": "completed"
    },
    "tags": []
   },
   "outputs": [
    {
     "data": {
      "text/html": [
       "<div>\n",
       "<style scoped>\n",
       "    .dataframe tbody tr th:only-of-type {\n",
       "        vertical-align: middle;\n",
       "    }\n",
       "\n",
       "    .dataframe tbody tr th {\n",
       "        vertical-align: top;\n",
       "    }\n",
       "\n",
       "    .dataframe thead th {\n",
       "        text-align: right;\n",
       "    }\n",
       "</style>\n",
       "<table border=\"1\" class=\"dataframe\">\n",
       "  <thead>\n",
       "    <tr style=\"text-align: right;\">\n",
       "      <th></th>\n",
       "      <th>const</th>\n",
       "      <th>DER</th>\n",
       "      <th>ROA</th>\n",
       "      <th>Sales Growth</th>\n",
       "      <th>ROE</th>\n",
       "      <th>NPM</th>\n",
       "    </tr>\n",
       "  </thead>\n",
       "  <tbody>\n",
       "    <tr>\n",
       "      <th>9</th>\n",
       "      <td>1.0</td>\n",
       "      <td>6.31</td>\n",
       "      <td>-0.04</td>\n",
       "      <td>167.373288</td>\n",
       "      <td>-0.32</td>\n",
       "      <td>-0.70</td>\n",
       "    </tr>\n",
       "    <tr>\n",
       "      <th>5</th>\n",
       "      <td>1.0</td>\n",
       "      <td>6.52</td>\n",
       "      <td>0.01</td>\n",
       "      <td>-4246.426000</td>\n",
       "      <td>0.05</td>\n",
       "      <td>0.14</td>\n",
       "    </tr>\n",
       "    <tr>\n",
       "      <th>20</th>\n",
       "      <td>1.0</td>\n",
       "      <td>3.94</td>\n",
       "      <td>0.01</td>\n",
       "      <td>-1667.699000</td>\n",
       "      <td>0.08</td>\n",
       "      <td>0.21</td>\n",
       "    </tr>\n",
       "    <tr>\n",
       "      <th>10</th>\n",
       "      <td>1.0</td>\n",
       "      <td>11.53</td>\n",
       "      <td>-0.02</td>\n",
       "      <td>-24.753000</td>\n",
       "      <td>-0.28</td>\n",
       "      <td>-0.55</td>\n",
       "    </tr>\n",
       "    <tr>\n",
       "      <th>19</th>\n",
       "      <td>1.0</td>\n",
       "      <td>5.07</td>\n",
       "      <td>0.01</td>\n",
       "      <td>263.701000</td>\n",
       "      <td>0.03</td>\n",
       "      <td>0.12</td>\n",
       "    </tr>\n",
       "    <tr>\n",
       "      <th>12</th>\n",
       "      <td>1.0</td>\n",
       "      <td>11.34</td>\n",
       "      <td>0.01</td>\n",
       "      <td>649.269000</td>\n",
       "      <td>-0.14</td>\n",
       "      <td>-0.92</td>\n",
       "    </tr>\n",
       "    <tr>\n",
       "      <th>16</th>\n",
       "      <td>1.0</td>\n",
       "      <td>3.49</td>\n",
       "      <td>0.01</td>\n",
       "      <td>-81.856421</td>\n",
       "      <td>-0.10</td>\n",
       "      <td>-0.51</td>\n",
       "    </tr>\n",
       "    <tr>\n",
       "      <th>3</th>\n",
       "      <td>1.0</td>\n",
       "      <td>10.03</td>\n",
       "      <td>-0.01</td>\n",
       "      <td>-1445.750000</td>\n",
       "      <td>-0.06</td>\n",
       "      <td>-0.14</td>\n",
       "    </tr>\n",
       "    <tr>\n",
       "      <th>11</th>\n",
       "      <td>1.0</td>\n",
       "      <td>4.17</td>\n",
       "      <td>-0.03</td>\n",
       "      <td>-93.899000</td>\n",
       "      <td>0.02</td>\n",
       "      <td>0.06</td>\n",
       "    </tr>\n",
       "    <tr>\n",
       "      <th>17</th>\n",
       "      <td>1.0</td>\n",
       "      <td>5.49</td>\n",
       "      <td>0.01</td>\n",
       "      <td>-1001.648000</td>\n",
       "      <td>0.05</td>\n",
       "      <td>0.10</td>\n",
       "    </tr>\n",
       "    <tr>\n",
       "      <th>2</th>\n",
       "      <td>1.0</td>\n",
       "      <td>4.36</td>\n",
       "      <td>0.01</td>\n",
       "      <td>121.858090</td>\n",
       "      <td>0.06</td>\n",
       "      <td>0.30</td>\n",
       "    </tr>\n",
       "    <tr>\n",
       "      <th>14</th>\n",
       "      <td>1.0</td>\n",
       "      <td>3.82</td>\n",
       "      <td>-0.02</td>\n",
       "      <td>-309.781000</td>\n",
       "      <td>0.15</td>\n",
       "      <td>0.18</td>\n",
       "    </tr>\n",
       "    <tr>\n",
       "      <th>13</th>\n",
       "      <td>1.0</td>\n",
       "      <td>8.42</td>\n",
       "      <td>0.02</td>\n",
       "      <td>424.496000</td>\n",
       "      <td>0.03</td>\n",
       "      <td>0.07</td>\n",
       "    </tr>\n",
       "    <tr>\n",
       "      <th>18</th>\n",
       "      <td>1.0</td>\n",
       "      <td>4.50</td>\n",
       "      <td>0.01</td>\n",
       "      <td>-1690.584000</td>\n",
       "      <td>0.10</td>\n",
       "      <td>0.23</td>\n",
       "    </tr>\n",
       "    <tr>\n",
       "      <th>6</th>\n",
       "      <td>1.0</td>\n",
       "      <td>4.78</td>\n",
       "      <td>0.01</td>\n",
       "      <td>6531.747000</td>\n",
       "      <td>0.08</td>\n",
       "      <td>0.22</td>\n",
       "    </tr>\n",
       "    <tr>\n",
       "      <th>1</th>\n",
       "      <td>1.0</td>\n",
       "      <td>4.88</td>\n",
       "      <td>0.03</td>\n",
       "      <td>-1485.583000</td>\n",
       "      <td>0.15</td>\n",
       "      <td>0.59</td>\n",
       "    </tr>\n",
       "    <tr>\n",
       "      <th>4</th>\n",
       "      <td>1.0</td>\n",
       "      <td>2.90</td>\n",
       "      <td>0.03</td>\n",
       "      <td>61.545475</td>\n",
       "      <td>0.11</td>\n",
       "      <td>0.51</td>\n",
       "    </tr>\n",
       "    <tr>\n",
       "      <th>7</th>\n",
       "      <td>1.0</td>\n",
       "      <td>0.49</td>\n",
       "      <td>0.04</td>\n",
       "      <td>22.556467</td>\n",
       "      <td>0.06</td>\n",
       "      <td>0.65</td>\n",
       "    </tr>\n",
       "    <tr>\n",
       "      <th>8</th>\n",
       "      <td>1.0</td>\n",
       "      <td>15.82</td>\n",
       "      <td>0.01</td>\n",
       "      <td>129.291000</td>\n",
       "      <td>0.10</td>\n",
       "      <td>0.11</td>\n",
       "    </tr>\n",
       "  </tbody>\n",
       "</table>\n",
       "</div>"
      ],
      "text/plain": [
       "    const    DER   ROA  Sales Growth   ROE   NPM\n",
       "9     1.0   6.31 -0.04    167.373288 -0.32 -0.70\n",
       "5     1.0   6.52  0.01  -4246.426000  0.05  0.14\n",
       "20    1.0   3.94  0.01  -1667.699000  0.08  0.21\n",
       "10    1.0  11.53 -0.02    -24.753000 -0.28 -0.55\n",
       "19    1.0   5.07  0.01    263.701000  0.03  0.12\n",
       "12    1.0  11.34  0.01    649.269000 -0.14 -0.92\n",
       "16    1.0   3.49  0.01    -81.856421 -0.10 -0.51\n",
       "3     1.0  10.03 -0.01  -1445.750000 -0.06 -0.14\n",
       "11    1.0   4.17 -0.03    -93.899000  0.02  0.06\n",
       "17    1.0   5.49  0.01  -1001.648000  0.05  0.10\n",
       "2     1.0   4.36  0.01    121.858090  0.06  0.30\n",
       "14    1.0   3.82 -0.02   -309.781000  0.15  0.18\n",
       "13    1.0   8.42  0.02    424.496000  0.03  0.07\n",
       "18    1.0   4.50  0.01  -1690.584000  0.10  0.23\n",
       "6     1.0   4.78  0.01   6531.747000  0.08  0.22\n",
       "1     1.0   4.88  0.03  -1485.583000  0.15  0.59\n",
       "4     1.0   2.90  0.03     61.545475  0.11  0.51\n",
       "7     1.0   0.49  0.04     22.556467  0.06  0.65\n",
       "8     1.0  15.82  0.01    129.291000  0.10  0.11"
      ]
     },
     "execution_count": 10,
     "metadata": {},
     "output_type": "execute_result"
    }
   ],
   "source": [
    "x_train_sm = sm.add_constant(x_train)\n",
    "x_train_sm"
   ]
  },
  {
   "cell_type": "code",
   "execution_count": 11,
   "id": "2e1ff234",
   "metadata": {
    "execution": {
     "iopub.execute_input": "2022-07-06T05:37:25.776172Z",
     "iopub.status.busy": "2022-07-06T05:37:25.775567Z",
     "iopub.status.idle": "2022-07-06T05:37:25.822644Z",
     "shell.execute_reply": "2022-07-06T05:37:25.823637Z",
     "shell.execute_reply.started": "2022-07-06T05:32:45.536155Z"
    },
    "papermill": {
     "duration": 0.07135,
     "end_time": "2022-07-06T05:37:25.823962",
     "exception": false,
     "start_time": "2022-07-06T05:37:25.752612",
     "status": "completed"
    },
    "tags": []
   },
   "outputs": [
    {
     "name": "stdout",
     "output_type": "stream",
     "text": [
      "Optimization terminated successfully.\n",
      "         Current function value: nan\n",
      "         Iterations 24\n"
     ]
    },
    {
     "name": "stderr",
     "output_type": "stream",
     "text": [
      "/opt/conda/lib/python3.7/site-packages/statsmodels/discrete/discrete_model.py:2299: RuntimeWarning: overflow encountered in exp\n",
      "  eXB = np.column_stack((np.ones(len(X)), np.exp(X)))\n",
      "/opt/conda/lib/python3.7/site-packages/statsmodels/discrete/discrete_model.py:2300: RuntimeWarning: invalid value encountered in true_divide\n",
      "  return eXB/eXB.sum(1)[:,None]\n"
     ]
    }
   ],
   "source": [
    "#logit_mod = sm.Logit(y_train, x_train_sm\n",
    "                     \n",
    "mnlogit_mod = sm.MNLogit(y_train, x_train_sm)\n",
    "mnlogit_fit = mnlogit_mod.fit()"
   ]
  },
  {
   "cell_type": "code",
   "execution_count": 12,
   "id": "d3b6950c",
   "metadata": {
    "execution": {
     "iopub.execute_input": "2022-07-06T05:37:25.911310Z",
     "iopub.status.busy": "2022-07-06T05:37:25.910232Z",
     "iopub.status.idle": "2022-07-06T05:37:25.956183Z",
     "shell.execute_reply": "2022-07-06T05:37:25.957046Z",
     "shell.execute_reply.started": "2022-07-06T05:32:45.570598Z"
    },
    "papermill": {
     "duration": 0.093426,
     "end_time": "2022-07-06T05:37:25.957272",
     "exception": false,
     "start_time": "2022-07-06T05:37:25.863846",
     "status": "completed"
    },
    "tags": []
   },
   "outputs": [
    {
     "name": "stdout",
     "output_type": "stream",
     "text": [
      "                          MNLogit Regression Results                          \n",
      "==============================================================================\n",
      "Dep. Variable:               Category   No. Observations:                   19\n",
      "Model:                        MNLogit   Df Residuals:                        7\n",
      "Method:                           MLE   Df Model:                           10\n",
      "Date:                Wed, 06 Jul 2022   Pseudo R-squ.:                     nan\n",
      "Time:                        05:37:25   Log-Likelihood:                    nan\n",
      "converged:                       True   LL-Null:                       -13.452\n",
      "Covariance Type:            nonrobust   LLR p-value:                       nan\n",
      "================================================================================\n",
      "  Category=2       coef    std err          z      P>|z|      [0.025      0.975]\n",
      "--------------------------------------------------------------------------------\n",
      "const               nan        nan        nan        nan         nan         nan\n",
      " DER                nan        nan        nan        nan         nan         nan\n",
      "ROA                 nan        nan        nan        nan         nan         nan\n",
      "Sales Growth        nan        nan        nan        nan         nan         nan\n",
      "ROE                 nan        nan        nan        nan         nan         nan\n",
      "NPM                 nan        nan        nan        nan         nan         nan\n",
      "--------------------------------------------------------------------------------\n",
      "  Category=3       coef    std err          z      P>|z|      [0.025      0.975]\n",
      "--------------------------------------------------------------------------------\n",
      "const               nan        nan        nan        nan         nan         nan\n",
      " DER                nan        nan        nan        nan         nan         nan\n",
      "ROA                 nan        nan        nan        nan         nan         nan\n",
      "Sales Growth        nan        nan        nan        nan         nan         nan\n",
      "ROE                 nan        nan        nan        nan         nan         nan\n",
      "NPM                 nan        nan        nan        nan         nan         nan\n",
      "================================================================================\n"
     ]
    }
   ],
   "source": [
    "print (mnlogit_fit.summary())"
   ]
  },
  {
   "cell_type": "code",
   "execution_count": 13,
   "id": "a7c292da",
   "metadata": {
    "execution": {
     "iopub.execute_input": "2022-07-06T05:37:26.007214Z",
     "iopub.status.busy": "2022-07-06T05:37:26.006606Z",
     "iopub.status.idle": "2022-07-06T05:37:26.041617Z",
     "shell.execute_reply": "2022-07-06T05:37:26.042106Z",
     "shell.execute_reply.started": "2022-07-06T05:32:45.633416Z"
    },
    "papermill": {
     "duration": 0.06188,
     "end_time": "2022-07-06T05:37:26.042272",
     "exception": false,
     "start_time": "2022-07-06T05:37:25.980392",
     "status": "completed"
    },
    "tags": []
   },
   "outputs": [
    {
     "name": "stderr",
     "output_type": "stream",
     "text": [
      "/opt/conda/lib/python3.7/site-packages/sklearn/linear_model/_logistic.py:818: ConvergenceWarning: lbfgs failed to converge (status=1):\n",
      "STOP: TOTAL NO. of ITERATIONS REACHED LIMIT.\n",
      "\n",
      "Increase the number of iterations (max_iter) or scale the data as shown in:\n",
      "    https://scikit-learn.org/stable/modules/preprocessing.html\n",
      "Please also refer to the documentation for alternative solver options:\n",
      "    https://scikit-learn.org/stable/modules/linear_model.html#logistic-regression\n",
      "  extra_warning_msg=_LOGISTIC_SOLVER_CONVERGENCE_MSG,\n"
     ]
    },
    {
     "data": {
      "text/plain": [
       "LogisticRegression()"
      ]
     },
     "execution_count": 13,
     "metadata": {},
     "output_type": "execute_result"
    }
   ],
   "source": [
    "model = LogisticRegression(multi_class='auto')\n",
    "model.fit(x_train, y_train)"
   ]
  },
  {
   "cell_type": "code",
   "execution_count": 14,
   "id": "60727663",
   "metadata": {
    "execution": {
     "iopub.execute_input": "2022-07-06T05:37:26.094576Z",
     "iopub.status.busy": "2022-07-06T05:37:26.090490Z",
     "iopub.status.idle": "2022-07-06T05:37:26.097071Z",
     "shell.execute_reply": "2022-07-06T05:37:26.097554Z",
     "shell.execute_reply.started": "2022-07-06T05:32:45.692522Z"
    },
    "papermill": {
     "duration": 0.03261,
     "end_time": "2022-07-06T05:37:26.097724",
     "exception": false,
     "start_time": "2022-07-06T05:37:26.065114",
     "status": "completed"
    },
    "tags": []
   },
   "outputs": [
    {
     "data": {
      "text/plain": [
       "array([[1.17777935e-01, 8.78950300e-01, 3.27176450e-03],\n",
       "       [1.89776356e-01, 6.60346868e-01, 1.49876776e-01],\n",
       "       [4.41476333e-02, 9.20559670e-01, 3.52926964e-02],\n",
       "       [2.80951724e-04, 9.95581807e-01, 4.13724088e-03],\n",
       "       [4.24989195e-01, 1.58959310e-01, 4.16051496e-01]])"
      ]
     },
     "execution_count": 14,
     "metadata": {},
     "output_type": "execute_result"
    }
   ],
   "source": [
    "model.predict_proba(x_test)[0:5]"
   ]
  },
  {
   "cell_type": "code",
   "execution_count": 15,
   "id": "c15dbf1a",
   "metadata": {
    "execution": {
     "iopub.execute_input": "2022-07-06T05:37:26.147206Z",
     "iopub.status.busy": "2022-07-06T05:37:26.146590Z",
     "iopub.status.idle": "2022-07-06T05:37:26.153249Z",
     "shell.execute_reply": "2022-07-06T05:37:26.153824Z",
     "shell.execute_reply.started": "2022-07-06T05:32:45.704511Z"
    },
    "papermill": {
     "duration": 0.033327,
     "end_time": "2022-07-06T05:37:26.153989",
     "exception": false,
     "start_time": "2022-07-06T05:37:26.120662",
     "status": "completed"
    },
    "tags": []
   },
   "outputs": [
    {
     "data": {
      "text/plain": [
       "array([2, 2, 2, 2, 1])"
      ]
     },
     "execution_count": 15,
     "metadata": {},
     "output_type": "execute_result"
    }
   ],
   "source": [
    "predictions = model.predict(x_test)\n",
    "predictions"
   ]
  },
  {
   "cell_type": "code",
   "execution_count": 16,
   "id": "a57c1620",
   "metadata": {
    "execution": {
     "iopub.execute_input": "2022-07-06T05:37:26.207228Z",
     "iopub.status.busy": "2022-07-06T05:37:26.203173Z",
     "iopub.status.idle": "2022-07-06T05:37:26.217858Z",
     "shell.execute_reply": "2022-07-06T05:37:26.218377Z",
     "shell.execute_reply.started": "2022-07-06T05:32:45.715207Z"
    },
    "papermill": {
     "duration": 0.041219,
     "end_time": "2022-07-06T05:37:26.218546",
     "exception": false,
     "start_time": "2022-07-06T05:37:26.177327",
     "status": "completed"
    },
    "tags": []
   },
   "outputs": [
    {
     "name": "stdout",
     "output_type": "stream",
     "text": [
      "              precision    recall  f1-score   support\n",
      "\n",
      "           1       0.00      0.00      0.00         0\n",
      "           2       1.00      1.00      1.00         4\n",
      "           3       0.00      0.00      0.00         1\n",
      "\n",
      "    accuracy                           0.80         5\n",
      "   macro avg       0.33      0.33      0.33         5\n",
      "weighted avg       0.80      0.80      0.80         5\n",
      "\n"
     ]
    },
    {
     "name": "stderr",
     "output_type": "stream",
     "text": [
      "/opt/conda/lib/python3.7/site-packages/sklearn/metrics/_classification.py:1308: UndefinedMetricWarning: Precision and F-score are ill-defined and being set to 0.0 in labels with no predicted samples. Use `zero_division` parameter to control this behavior.\n",
      "  _warn_prf(average, modifier, msg_start, len(result))\n",
      "/opt/conda/lib/python3.7/site-packages/sklearn/metrics/_classification.py:1308: UndefinedMetricWarning: Recall and F-score are ill-defined and being set to 0.0 in labels with no true samples. Use `zero_division` parameter to control this behavior.\n",
      "  _warn_prf(average, modifier, msg_start, len(result))\n",
      "/opt/conda/lib/python3.7/site-packages/sklearn/metrics/_classification.py:1308: UndefinedMetricWarning: Precision and F-score are ill-defined and being set to 0.0 in labels with no predicted samples. Use `zero_division` parameter to control this behavior.\n",
      "  _warn_prf(average, modifier, msg_start, len(result))\n",
      "/opt/conda/lib/python3.7/site-packages/sklearn/metrics/_classification.py:1308: UndefinedMetricWarning: Recall and F-score are ill-defined and being set to 0.0 in labels with no true samples. Use `zero_division` parameter to control this behavior.\n",
      "  _warn_prf(average, modifier, msg_start, len(result))\n",
      "/opt/conda/lib/python3.7/site-packages/sklearn/metrics/_classification.py:1308: UndefinedMetricWarning: Precision and F-score are ill-defined and being set to 0.0 in labels with no predicted samples. Use `zero_division` parameter to control this behavior.\n",
      "  _warn_prf(average, modifier, msg_start, len(result))\n",
      "/opt/conda/lib/python3.7/site-packages/sklearn/metrics/_classification.py:1308: UndefinedMetricWarning: Recall and F-score are ill-defined and being set to 0.0 in labels with no true samples. Use `zero_division` parameter to control this behavior.\n",
      "  _warn_prf(average, modifier, msg_start, len(result))\n"
     ]
    }
   ],
   "source": [
    "print(classification_report(y_test, predictions))"
   ]
  },
  {
   "cell_type": "code",
   "execution_count": 17,
   "id": "61d59604",
   "metadata": {
    "execution": {
     "iopub.execute_input": "2022-07-06T05:37:26.276687Z",
     "iopub.status.busy": "2022-07-06T05:37:26.275742Z",
     "iopub.status.idle": "2022-07-06T05:37:26.284132Z",
     "shell.execute_reply": "2022-07-06T05:37:26.284892Z",
     "shell.execute_reply.started": "2022-07-06T05:32:45.731564Z"
    },
    "papermill": {
     "duration": 0.038948,
     "end_time": "2022-07-06T05:37:26.285145",
     "exception": false,
     "start_time": "2022-07-06T05:37:26.246197",
     "status": "completed"
    },
    "tags": []
   },
   "outputs": [
    {
     "name": "stdout",
     "output_type": "stream",
     "text": [
      "0.8\n"
     ]
    }
   ],
   "source": [
    "print(accuracy_score(y_test, predictions))"
   ]
  }
 ],
 "metadata": {
  "kernelspec": {
   "display_name": "Python 3",
   "language": "python",
   "name": "python3"
  },
  "language_info": {
   "codemirror_mode": {
    "name": "ipython",
    "version": 3
   },
   "file_extension": ".py",
   "mimetype": "text/x-python",
   "name": "python",
   "nbconvert_exporter": "python",
   "pygments_lexer": "ipython3",
   "version": "3.7.12"
  },
  "papermill": {
   "default_parameters": {},
   "duration": 13.167252,
   "end_time": "2022-07-06T05:37:27.026513",
   "environment_variables": {},
   "exception": null,
   "input_path": "__notebook__.ipynb",
   "output_path": "__notebook__.ipynb",
   "parameters": {},
   "start_time": "2022-07-06T05:37:13.859261",
   "version": "2.3.3"
  }
 },
 "nbformat": 4,
 "nbformat_minor": 5
}
