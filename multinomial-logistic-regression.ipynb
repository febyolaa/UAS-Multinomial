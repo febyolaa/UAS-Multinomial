{
 "cells": [
  {
   "cell_type": "code",
   "execution_count": 1,
   "id": "ed3ff001",
   "metadata": {
    "_cell_guid": "b1076dfc-b9ad-4769-8c92-a6c4dae69d19",
    "_uuid": "8f2839f25d086af736a60e9eeb907d3b93b6e0e5",
    "execution": {
     "iopub.execute_input": "2022-07-06T05:45:28.510502Z",
     "iopub.status.busy": "2022-07-06T05:45:28.509808Z",
     "iopub.status.idle": "2022-07-06T05:45:28.519427Z",
     "shell.execute_reply": "2022-07-06T05:45:28.520059Z",
     "shell.execute_reply.started": "2022-07-06T05:32:45.148459Z"
    },
    "papermill": {
     "duration": 0.045083,
     "end_time": "2022-07-06T05:45:28.520378",
     "exception": false,
     "start_time": "2022-07-06T05:45:28.475295",
     "status": "completed"
    },
    "tags": []
   },
   "outputs": [
    {
     "name": "stdout",
     "output_type": "stream",
     "text": [
      "/kaggle/input/data-category-bank/Data category bank .csv\n"
     ]
    }
   ],
   "source": [
    "# This Python 3 environment comes with many helpful analytics libraries installed\n",
    "# It is defined by the kaggle/python Docker image: https://github.com/kaggle/docker-python\n",
    "# For example, here's several helpful packages to load\n",
    "\n",
    "import numpy as np # linear algebra\n",
    "import pandas as pd # data processing, CSV file I/O (e.g. pd.read_csv)\n",
    "\n",
    "# Input data files are available in the read-only \"../input/\" directory\n",
    "# For example, running this (by clicking run or pressing Shift+Enter) will list all files under the input directory\n",
    "\n",
    "import os\n",
    "for dirname, _, filenames in os.walk('/kaggle/input'):\n",
    "    for filename in filenames:\n",
    "        print(os.path.join(dirname, filename))\n",
    "\n",
    "# You can write up to 20GB to the current directory (/kaggle/working/) that gets preserved as output when you create a version using \"Save & Run All\" \n",
    "# You can also write temporary files to /kaggle/temp/, but they won't be saved outside of the current session"
   ]
  },
  {
   "cell_type": "code",
   "execution_count": 2,
   "id": "4fb8ed26",
   "metadata": {
    "execution": {
     "iopub.execute_input": "2022-07-06T05:45:28.565029Z",
     "iopub.status.busy": "2022-07-06T05:45:28.564383Z",
     "iopub.status.idle": "2022-07-06T05:45:30.026020Z",
     "shell.execute_reply": "2022-07-06T05:45:30.025414Z",
     "shell.execute_reply.started": "2022-07-06T05:32:45.178527Z"
    },
    "papermill": {
     "duration": 1.484872,
     "end_time": "2022-07-06T05:45:30.026167",
     "exception": false,
     "start_time": "2022-07-06T05:45:28.541295",
     "status": "completed"
    },
    "tags": []
   },
   "outputs": [],
   "source": [
    "import pandas as pd\n",
    "import seaborn as sns\n",
    "from sklearn.metrics import classification_report\n",
    "from sklearn.metrics import accuracy_score\n",
    "from sklearn.model_selection import train_test_split\n",
    "from sklearn.linear_model import LogisticRegression"
   ]
  },
  {
   "cell_type": "code",
   "execution_count": 3,
   "id": "94bc289a",
   "metadata": {
    "execution": {
     "iopub.execute_input": "2022-07-06T05:45:30.068197Z",
     "iopub.status.busy": "2022-07-06T05:45:30.067522Z",
     "iopub.status.idle": "2022-07-06T05:45:30.102600Z",
     "shell.execute_reply": "2022-07-06T05:45:30.101958Z",
     "shell.execute_reply.started": "2022-07-06T05:32:45.207945Z"
    },
    "papermill": {
     "duration": 0.05674,
     "end_time": "2022-07-06T05:45:30.102738",
     "exception": false,
     "start_time": "2022-07-06T05:45:30.045998",
     "status": "completed"
    },
    "tags": []
   },
   "outputs": [
    {
     "data": {
      "text/html": [
       "<div>\n",
       "<style scoped>\n",
       "    .dataframe tbody tr th:only-of-type {\n",
       "        vertical-align: middle;\n",
       "    }\n",
       "\n",
       "    .dataframe tbody tr th {\n",
       "        vertical-align: top;\n",
       "    }\n",
       "\n",
       "    .dataframe thead th {\n",
       "        text-align: right;\n",
       "    }\n",
       "</style>\n",
       "<table border=\"1\" class=\"dataframe\">\n",
       "  <thead>\n",
       "    <tr style=\"text-align: right;\">\n",
       "      <th></th>\n",
       "      <th>Emitten</th>\n",
       "      <th>DER</th>\n",
       "      <th>ROA</th>\n",
       "      <th>Sales Growth</th>\n",
       "      <th>ROE</th>\n",
       "      <th>NPM</th>\n",
       "      <th>Category</th>\n",
       "    </tr>\n",
       "  </thead>\n",
       "  <tbody>\n",
       "    <tr>\n",
       "      <th>0</th>\n",
       "      <td>AGRO</td>\n",
       "      <td>7.15</td>\n",
       "      <td>-0.09</td>\n",
       "      <td>-185.032137</td>\n",
       "      <td>-0.72</td>\n",
       "      <td>-1.40</td>\n",
       "      <td>3</td>\n",
       "    </tr>\n",
       "    <tr>\n",
       "      <th>1</th>\n",
       "      <td>BBCA</td>\n",
       "      <td>4.88</td>\n",
       "      <td>0.03</td>\n",
       "      <td>-1485.583000</td>\n",
       "      <td>0.15</td>\n",
       "      <td>0.59</td>\n",
       "      <td>2</td>\n",
       "    </tr>\n",
       "    <tr>\n",
       "      <th>2</th>\n",
       "      <td>BBHI</td>\n",
       "      <td>4.36</td>\n",
       "      <td>0.01</td>\n",
       "      <td>121.858090</td>\n",
       "      <td>0.06</td>\n",
       "      <td>0.30</td>\n",
       "      <td>2</td>\n",
       "    </tr>\n",
       "    <tr>\n",
       "      <th>3</th>\n",
       "      <td>BBKP</td>\n",
       "      <td>10.03</td>\n",
       "      <td>-0.01</td>\n",
       "      <td>-1445.750000</td>\n",
       "      <td>-0.06</td>\n",
       "      <td>-0.14</td>\n",
       "      <td>1</td>\n",
       "    </tr>\n",
       "    <tr>\n",
       "      <th>4</th>\n",
       "      <td>BBMD</td>\n",
       "      <td>2.90</td>\n",
       "      <td>0.03</td>\n",
       "      <td>61.545475</td>\n",
       "      <td>0.11</td>\n",
       "      <td>0.51</td>\n",
       "      <td>2</td>\n",
       "    </tr>\n",
       "  </tbody>\n",
       "</table>\n",
       "</div>"
      ],
      "text/plain": [
       "  Emitten    DER   ROA  Sales Growth   ROE   NPM  Category\n",
       "0    AGRO   7.15 -0.09   -185.032137 -0.72 -1.40         3\n",
       "1    BBCA   4.88  0.03  -1485.583000  0.15  0.59         2\n",
       "2    BBHI   4.36  0.01    121.858090  0.06  0.30         2\n",
       "3    BBKP  10.03 -0.01  -1445.750000 -0.06 -0.14         1\n",
       "4    BBMD   2.90  0.03     61.545475  0.11  0.51         2"
      ]
     },
     "execution_count": 3,
     "metadata": {},
     "output_type": "execute_result"
    }
   ],
   "source": [
    "df = pd.read_csv('../input/data-category-bank/Data category bank .csv')\n",
    "df.head()"
   ]
  },
  {
   "cell_type": "code",
   "execution_count": 4,
   "id": "239e631b",
   "metadata": {
    "execution": {
     "iopub.execute_input": "2022-07-06T05:45:30.148417Z",
     "iopub.status.busy": "2022-07-06T05:45:30.147598Z",
     "iopub.status.idle": "2022-07-06T05:45:30.151121Z",
     "shell.execute_reply": "2022-07-06T05:45:30.151769Z",
     "shell.execute_reply.started": "2022-07-06T05:32:45.25423Z"
    },
    "papermill": {
     "duration": 0.030147,
     "end_time": "2022-07-06T05:45:30.151948",
     "exception": false,
     "start_time": "2022-07-06T05:45:30.121801",
     "status": "completed"
    },
    "tags": []
   },
   "outputs": [
    {
     "data": {
      "text/plain": [
       "array([['AGRO', 7.15, -0.09, -185.032137, -0.72, -1.4, 3],\n",
       "       ['BBCA', 4.88, 0.03, -1485.583, 0.15, 0.59, 2],\n",
       "       ['BBHI', 4.36, 0.01, 121.8580899, 0.06, 0.3, 2],\n",
       "       ['BBKP', 10.03, -0.01, -1445.75, -0.06, -0.14, 1],\n",
       "       ['BBMD', 2.9, 0.03, 61.5454751, 0.11, 0.51, 2],\n",
       "       ['BBNI', 6.52, 0.01, -4246.426, 0.05, 0.14, 2],\n",
       "       ['BBRI', 4.78, 0.01, 6531.747, 0.08, 0.22, 2],\n",
       "       ['BBSI', 0.49, 0.04, 22.55646717, 0.06, 0.65, 2],\n",
       "       ['BBTN', 15.82, 0.01, 129.291, 0.1, 0.11, 1],\n",
       "       ['BBYB', 6.31, -0.04, 167.3732876, -0.32, -0.7, 3],\n",
       "       ['BCIC', 11.53, -0.02, -24.753, -0.28, -0.55, 1],\n",
       "       ['BEKS', 4.17, -0.03, -93.899, 0.02, 0.06, 2],\n",
       "       ['BJBR', 11.34, 0.01, 649.269, -0.14, -0.92, 1],\n",
       "       ['BJTM', 8.42, 0.02, 424.496, 0.03, 0.07, 2],\n",
       "       ['BKSW', 3.82, -0.02, -309.781, 0.15, 0.18, 2],\n",
       "       ['BMRI', 5.91, 0.01, 7034.205, 0.15, 0.32, 2],\n",
       "       ['BNBA', 3.49, 0.01, -81.85642106, -0.1, -0.51, 2],\n",
       "       ['BNGA', 5.49, 0.01, -1001.648, 0.05, 0.1, 2],\n",
       "       ['BNII', 4.5, 0.01, -1690.584, 0.1, 0.23, 2],\n",
       "       ['BNLI', 5.07, 0.01, 263.701, 0.03, 0.12, 2],\n",
       "       ['BTPN', 3.94, 0.01, -1667.699, 0.08, 0.21, 2],\n",
       "       ['BTPS', 0.36, 0.08, 567.248, 0.05, 0.17, 2],\n",
       "       ['MASB', 7.9, 0.01, -2756.119855, 0.03, 0.11, 2],\n",
       "       ['MEGA', 5.54, 0.03, 335.8793442, 0.04, 0.09, 2]], dtype=object)"
      ]
     },
     "execution_count": 4,
     "metadata": {},
     "output_type": "execute_result"
    }
   ],
   "source": [
    "np.asarray(df)"
   ]
  },
  {
   "cell_type": "code",
   "execution_count": 5,
   "id": "958b2885",
   "metadata": {
    "execution": {
     "iopub.execute_input": "2022-07-06T05:45:30.198057Z",
     "iopub.status.busy": "2022-07-06T05:45:30.197202Z",
     "iopub.status.idle": "2022-07-06T05:45:31.024962Z",
     "shell.execute_reply": "2022-07-06T05:45:31.025512Z",
     "shell.execute_reply.started": "2022-07-06T05:32:45.290173Z"
    },
    "papermill": {
     "duration": 0.852084,
     "end_time": "2022-07-06T05:45:31.025704",
     "exception": false,
     "start_time": "2022-07-06T05:45:30.173620",
     "status": "completed"
    },
    "tags": []
   },
   "outputs": [],
   "source": [
    "import statsmodels.api as sm"
   ]
  },
  {
   "cell_type": "code",
   "execution_count": 6,
   "id": "4e588a2e",
   "metadata": {
    "execution": {
     "iopub.execute_input": "2022-07-06T05:45:31.085509Z",
     "iopub.status.busy": "2022-07-06T05:45:31.084756Z",
     "iopub.status.idle": "2022-07-06T05:45:31.087094Z",
     "shell.execute_reply": "2022-07-06T05:45:31.087626Z",
     "shell.execute_reply.started": "2022-07-06T05:32:45.328066Z"
    },
    "papermill": {
     "duration": 0.040517,
     "end_time": "2022-07-06T05:45:31.087814",
     "exception": false,
     "start_time": "2022-07-06T05:45:31.047297",
     "status": "completed"
    },
    "tags": []
   },
   "outputs": [],
   "source": [
    "df.drop(['Emitten'], axis=1, inplace=True)"
   ]
  },
  {
   "cell_type": "code",
   "execution_count": 7,
   "id": "1e729373",
   "metadata": {
    "execution": {
     "iopub.execute_input": "2022-07-06T05:45:31.146031Z",
     "iopub.status.busy": "2022-07-06T05:45:31.145355Z",
     "iopub.status.idle": "2022-07-06T05:45:31.149085Z",
     "shell.execute_reply": "2022-07-06T05:45:31.149560Z",
     "shell.execute_reply.started": "2022-07-06T05:32:45.375549Z"
    },
    "papermill": {
     "duration": 0.039939,
     "end_time": "2022-07-06T05:45:31.149735",
     "exception": false,
     "start_time": "2022-07-06T05:45:31.109796",
     "status": "completed"
    },
    "tags": []
   },
   "outputs": [
    {
     "data": {
      "text/html": [
       "<div>\n",
       "<style scoped>\n",
       "    .dataframe tbody tr th:only-of-type {\n",
       "        vertical-align: middle;\n",
       "    }\n",
       "\n",
       "    .dataframe tbody tr th {\n",
       "        vertical-align: top;\n",
       "    }\n",
       "\n",
       "    .dataframe thead th {\n",
       "        text-align: right;\n",
       "    }\n",
       "</style>\n",
       "<table border=\"1\" class=\"dataframe\">\n",
       "  <thead>\n",
       "    <tr style=\"text-align: right;\">\n",
       "      <th></th>\n",
       "      <th>DER</th>\n",
       "      <th>ROA</th>\n",
       "      <th>Sales Growth</th>\n",
       "      <th>ROE</th>\n",
       "      <th>NPM</th>\n",
       "    </tr>\n",
       "  </thead>\n",
       "  <tbody>\n",
       "    <tr>\n",
       "      <th>0</th>\n",
       "      <td>7.15</td>\n",
       "      <td>-0.09</td>\n",
       "      <td>-185.032137</td>\n",
       "      <td>-0.72</td>\n",
       "      <td>-1.40</td>\n",
       "    </tr>\n",
       "    <tr>\n",
       "      <th>1</th>\n",
       "      <td>4.88</td>\n",
       "      <td>0.03</td>\n",
       "      <td>-1485.583000</td>\n",
       "      <td>0.15</td>\n",
       "      <td>0.59</td>\n",
       "    </tr>\n",
       "    <tr>\n",
       "      <th>2</th>\n",
       "      <td>4.36</td>\n",
       "      <td>0.01</td>\n",
       "      <td>121.858090</td>\n",
       "      <td>0.06</td>\n",
       "      <td>0.30</td>\n",
       "    </tr>\n",
       "    <tr>\n",
       "      <th>3</th>\n",
       "      <td>10.03</td>\n",
       "      <td>-0.01</td>\n",
       "      <td>-1445.750000</td>\n",
       "      <td>-0.06</td>\n",
       "      <td>-0.14</td>\n",
       "    </tr>\n",
       "    <tr>\n",
       "      <th>4</th>\n",
       "      <td>2.90</td>\n",
       "      <td>0.03</td>\n",
       "      <td>61.545475</td>\n",
       "      <td>0.11</td>\n",
       "      <td>0.51</td>\n",
       "    </tr>\n",
       "  </tbody>\n",
       "</table>\n",
       "</div>"
      ],
      "text/plain": [
       "     DER   ROA  Sales Growth   ROE   NPM\n",
       "0   7.15 -0.09   -185.032137 -0.72 -1.40\n",
       "1   4.88  0.03  -1485.583000  0.15  0.59\n",
       "2   4.36  0.01    121.858090  0.06  0.30\n",
       "3  10.03 -0.01  -1445.750000 -0.06 -0.14\n",
       "4   2.90  0.03     61.545475  0.11  0.51"
      ]
     },
     "execution_count": 7,
     "metadata": {},
     "output_type": "execute_result"
    }
   ],
   "source": [
    "x = df.drop('Category', axis=1)\n",
    "x.head()"
   ]
  },
  {
   "cell_type": "code",
   "execution_count": 8,
   "id": "4e5ce910",
   "metadata": {
    "execution": {
     "iopub.execute_input": "2022-07-06T05:45:31.196810Z",
     "iopub.status.busy": "2022-07-06T05:45:31.196037Z",
     "iopub.status.idle": "2022-07-06T05:45:31.204793Z",
     "shell.execute_reply": "2022-07-06T05:45:31.205229Z",
     "shell.execute_reply.started": "2022-07-06T05:32:45.410838Z"
    },
    "papermill": {
     "duration": 0.035477,
     "end_time": "2022-07-06T05:45:31.205426",
     "exception": false,
     "start_time": "2022-07-06T05:45:31.169949",
     "status": "completed"
    },
    "tags": []
   },
   "outputs": [
    {
     "data": {
      "text/plain": [
       "0    3\n",
       "1    2\n",
       "2    2\n",
       "3    1\n",
       "4    2\n",
       "Name: Category, dtype: int64"
      ]
     },
     "execution_count": 8,
     "metadata": {},
     "output_type": "execute_result"
    }
   ],
   "source": [
    "y = df['Category']\n",
    "y.head()"
   ]
  },
  {
   "cell_type": "code",
   "execution_count": 9,
   "id": "96c08694",
   "metadata": {
    "execution": {
     "iopub.execute_input": "2022-07-06T05:45:31.254488Z",
     "iopub.status.busy": "2022-07-06T05:45:31.253826Z",
     "iopub.status.idle": "2022-07-06T05:45:31.258648Z",
     "shell.execute_reply": "2022-07-06T05:45:31.259127Z",
     "shell.execute_reply.started": "2022-07-06T05:32:45.469743Z"
    },
    "papermill": {
     "duration": 0.031321,
     "end_time": "2022-07-06T05:45:31.259307",
     "exception": false,
     "start_time": "2022-07-06T05:45:31.227986",
     "status": "completed"
    },
    "tags": []
   },
   "outputs": [],
   "source": [
    "x_train, x_test, y_train, y_test = train_test_split(x,y, test_size=0.2)"
   ]
  },
  {
   "cell_type": "code",
   "execution_count": 10,
   "id": "fa6c4242",
   "metadata": {
    "execution": {
     "iopub.execute_input": "2022-07-06T05:45:31.308397Z",
     "iopub.status.busy": "2022-07-06T05:45:31.307736Z",
     "iopub.status.idle": "2022-07-06T05:45:31.331430Z",
     "shell.execute_reply": "2022-07-06T05:45:31.331938Z",
     "shell.execute_reply.started": "2022-07-06T05:32:45.503849Z"
    },
    "papermill": {
     "duration": 0.049556,
     "end_time": "2022-07-06T05:45:31.332107",
     "exception": false,
     "start_time": "2022-07-06T05:45:31.282551",
     "status": "completed"
    },
    "tags": []
   },
   "outputs": [
    {
     "data": {
      "text/html": [
       "<div>\n",
       "<style scoped>\n",
       "    .dataframe tbody tr th:only-of-type {\n",
       "        vertical-align: middle;\n",
       "    }\n",
       "\n",
       "    .dataframe tbody tr th {\n",
       "        vertical-align: top;\n",
       "    }\n",
       "\n",
       "    .dataframe thead th {\n",
       "        text-align: right;\n",
       "    }\n",
       "</style>\n",
       "<table border=\"1\" class=\"dataframe\">\n",
       "  <thead>\n",
       "    <tr style=\"text-align: right;\">\n",
       "      <th></th>\n",
       "      <th>const</th>\n",
       "      <th>DER</th>\n",
       "      <th>ROA</th>\n",
       "      <th>Sales Growth</th>\n",
       "      <th>ROE</th>\n",
       "      <th>NPM</th>\n",
       "    </tr>\n",
       "  </thead>\n",
       "  <tbody>\n",
       "    <tr>\n",
       "      <th>14</th>\n",
       "      <td>1.0</td>\n",
       "      <td>3.82</td>\n",
       "      <td>-0.02</td>\n",
       "      <td>-309.781000</td>\n",
       "      <td>0.15</td>\n",
       "      <td>0.18</td>\n",
       "    </tr>\n",
       "    <tr>\n",
       "      <th>3</th>\n",
       "      <td>1.0</td>\n",
       "      <td>10.03</td>\n",
       "      <td>-0.01</td>\n",
       "      <td>-1445.750000</td>\n",
       "      <td>-0.06</td>\n",
       "      <td>-0.14</td>\n",
       "    </tr>\n",
       "    <tr>\n",
       "      <th>22</th>\n",
       "      <td>1.0</td>\n",
       "      <td>7.90</td>\n",
       "      <td>0.01</td>\n",
       "      <td>-2756.119855</td>\n",
       "      <td>0.03</td>\n",
       "      <td>0.11</td>\n",
       "    </tr>\n",
       "    <tr>\n",
       "      <th>8</th>\n",
       "      <td>1.0</td>\n",
       "      <td>15.82</td>\n",
       "      <td>0.01</td>\n",
       "      <td>129.291000</td>\n",
       "      <td>0.10</td>\n",
       "      <td>0.11</td>\n",
       "    </tr>\n",
       "    <tr>\n",
       "      <th>20</th>\n",
       "      <td>1.0</td>\n",
       "      <td>3.94</td>\n",
       "      <td>0.01</td>\n",
       "      <td>-1667.699000</td>\n",
       "      <td>0.08</td>\n",
       "      <td>0.21</td>\n",
       "    </tr>\n",
       "    <tr>\n",
       "      <th>11</th>\n",
       "      <td>1.0</td>\n",
       "      <td>4.17</td>\n",
       "      <td>-0.03</td>\n",
       "      <td>-93.899000</td>\n",
       "      <td>0.02</td>\n",
       "      <td>0.06</td>\n",
       "    </tr>\n",
       "    <tr>\n",
       "      <th>18</th>\n",
       "      <td>1.0</td>\n",
       "      <td>4.50</td>\n",
       "      <td>0.01</td>\n",
       "      <td>-1690.584000</td>\n",
       "      <td>0.10</td>\n",
       "      <td>0.23</td>\n",
       "    </tr>\n",
       "    <tr>\n",
       "      <th>0</th>\n",
       "      <td>1.0</td>\n",
       "      <td>7.15</td>\n",
       "      <td>-0.09</td>\n",
       "      <td>-185.032137</td>\n",
       "      <td>-0.72</td>\n",
       "      <td>-1.40</td>\n",
       "    </tr>\n",
       "    <tr>\n",
       "      <th>7</th>\n",
       "      <td>1.0</td>\n",
       "      <td>0.49</td>\n",
       "      <td>0.04</td>\n",
       "      <td>22.556467</td>\n",
       "      <td>0.06</td>\n",
       "      <td>0.65</td>\n",
       "    </tr>\n",
       "    <tr>\n",
       "      <th>16</th>\n",
       "      <td>1.0</td>\n",
       "      <td>3.49</td>\n",
       "      <td>0.01</td>\n",
       "      <td>-81.856421</td>\n",
       "      <td>-0.10</td>\n",
       "      <td>-0.51</td>\n",
       "    </tr>\n",
       "    <tr>\n",
       "      <th>4</th>\n",
       "      <td>1.0</td>\n",
       "      <td>2.90</td>\n",
       "      <td>0.03</td>\n",
       "      <td>61.545475</td>\n",
       "      <td>0.11</td>\n",
       "      <td>0.51</td>\n",
       "    </tr>\n",
       "    <tr>\n",
       "      <th>1</th>\n",
       "      <td>1.0</td>\n",
       "      <td>4.88</td>\n",
       "      <td>0.03</td>\n",
       "      <td>-1485.583000</td>\n",
       "      <td>0.15</td>\n",
       "      <td>0.59</td>\n",
       "    </tr>\n",
       "    <tr>\n",
       "      <th>17</th>\n",
       "      <td>1.0</td>\n",
       "      <td>5.49</td>\n",
       "      <td>0.01</td>\n",
       "      <td>-1001.648000</td>\n",
       "      <td>0.05</td>\n",
       "      <td>0.10</td>\n",
       "    </tr>\n",
       "    <tr>\n",
       "      <th>19</th>\n",
       "      <td>1.0</td>\n",
       "      <td>5.07</td>\n",
       "      <td>0.01</td>\n",
       "      <td>263.701000</td>\n",
       "      <td>0.03</td>\n",
       "      <td>0.12</td>\n",
       "    </tr>\n",
       "    <tr>\n",
       "      <th>2</th>\n",
       "      <td>1.0</td>\n",
       "      <td>4.36</td>\n",
       "      <td>0.01</td>\n",
       "      <td>121.858090</td>\n",
       "      <td>0.06</td>\n",
       "      <td>0.30</td>\n",
       "    </tr>\n",
       "    <tr>\n",
       "      <th>15</th>\n",
       "      <td>1.0</td>\n",
       "      <td>5.91</td>\n",
       "      <td>0.01</td>\n",
       "      <td>7034.205000</td>\n",
       "      <td>0.15</td>\n",
       "      <td>0.32</td>\n",
       "    </tr>\n",
       "    <tr>\n",
       "      <th>5</th>\n",
       "      <td>1.0</td>\n",
       "      <td>6.52</td>\n",
       "      <td>0.01</td>\n",
       "      <td>-4246.426000</td>\n",
       "      <td>0.05</td>\n",
       "      <td>0.14</td>\n",
       "    </tr>\n",
       "    <tr>\n",
       "      <th>10</th>\n",
       "      <td>1.0</td>\n",
       "      <td>11.53</td>\n",
       "      <td>-0.02</td>\n",
       "      <td>-24.753000</td>\n",
       "      <td>-0.28</td>\n",
       "      <td>-0.55</td>\n",
       "    </tr>\n",
       "    <tr>\n",
       "      <th>6</th>\n",
       "      <td>1.0</td>\n",
       "      <td>4.78</td>\n",
       "      <td>0.01</td>\n",
       "      <td>6531.747000</td>\n",
       "      <td>0.08</td>\n",
       "      <td>0.22</td>\n",
       "    </tr>\n",
       "  </tbody>\n",
       "</table>\n",
       "</div>"
      ],
      "text/plain": [
       "    const    DER   ROA  Sales Growth   ROE   NPM\n",
       "14    1.0   3.82 -0.02   -309.781000  0.15  0.18\n",
       "3     1.0  10.03 -0.01  -1445.750000 -0.06 -0.14\n",
       "22    1.0   7.90  0.01  -2756.119855  0.03  0.11\n",
       "8     1.0  15.82  0.01    129.291000  0.10  0.11\n",
       "20    1.0   3.94  0.01  -1667.699000  0.08  0.21\n",
       "11    1.0   4.17 -0.03    -93.899000  0.02  0.06\n",
       "18    1.0   4.50  0.01  -1690.584000  0.10  0.23\n",
       "0     1.0   7.15 -0.09   -185.032137 -0.72 -1.40\n",
       "7     1.0   0.49  0.04     22.556467  0.06  0.65\n",
       "16    1.0   3.49  0.01    -81.856421 -0.10 -0.51\n",
       "4     1.0   2.90  0.03     61.545475  0.11  0.51\n",
       "1     1.0   4.88  0.03  -1485.583000  0.15  0.59\n",
       "17    1.0   5.49  0.01  -1001.648000  0.05  0.10\n",
       "19    1.0   5.07  0.01    263.701000  0.03  0.12\n",
       "2     1.0   4.36  0.01    121.858090  0.06  0.30\n",
       "15    1.0   5.91  0.01   7034.205000  0.15  0.32\n",
       "5     1.0   6.52  0.01  -4246.426000  0.05  0.14\n",
       "10    1.0  11.53 -0.02    -24.753000 -0.28 -0.55\n",
       "6     1.0   4.78  0.01   6531.747000  0.08  0.22"
      ]
     },
     "execution_count": 10,
     "metadata": {},
     "output_type": "execute_result"
    }
   ],
   "source": [
    "x_train_sm = sm.add_constant(x_train)\n",
    "x_train_sm"
   ]
  },
  {
   "cell_type": "code",
   "execution_count": 11,
   "id": "07e3ebb6",
   "metadata": {
    "execution": {
     "iopub.execute_input": "2022-07-06T05:45:31.385324Z",
     "iopub.status.busy": "2022-07-06T05:45:31.379845Z",
     "iopub.status.idle": "2022-07-06T05:45:31.433125Z",
     "shell.execute_reply": "2022-07-06T05:45:31.432168Z",
     "shell.execute_reply.started": "2022-07-06T05:32:45.536155Z"
    },
    "papermill": {
     "duration": 0.07931,
     "end_time": "2022-07-06T05:45:31.433379",
     "exception": false,
     "start_time": "2022-07-06T05:45:31.354069",
     "status": "completed"
    },
    "tags": []
   },
   "outputs": [
    {
     "name": "stdout",
     "output_type": "stream",
     "text": [
      "Warning: Maximum number of iterations has been exceeded.\n",
      "         Current function value: 0.000000\n",
      "         Iterations: 35\n"
     ]
    },
    {
     "name": "stderr",
     "output_type": "stream",
     "text": [
      "/opt/conda/lib/python3.7/site-packages/statsmodels/base/model.py:606: ConvergenceWarning: Maximum Likelihood optimization failed to converge. Check mle_retvals\n",
      "  ConvergenceWarning)\n"
     ]
    }
   ],
   "source": [
    "#logit_mod = sm.Logit(y_train, x_train_sm\n",
    "                     \n",
    "mnlogit_mod = sm.MNLogit(y_train, x_train_sm)\n",
    "mnlogit_fit = mnlogit_mod.fit()"
   ]
  },
  {
   "cell_type": "code",
   "execution_count": 12,
   "id": "292d04ed",
   "metadata": {
    "execution": {
     "iopub.execute_input": "2022-07-06T05:45:31.528138Z",
     "iopub.status.busy": "2022-07-06T05:45:31.527006Z",
     "iopub.status.idle": "2022-07-06T05:45:31.572672Z",
     "shell.execute_reply": "2022-07-06T05:45:31.573498Z",
     "shell.execute_reply.started": "2022-07-06T05:32:45.570598Z"
    },
    "papermill": {
     "duration": 0.097435,
     "end_time": "2022-07-06T05:45:31.573739",
     "exception": false,
     "start_time": "2022-07-06T05:45:31.476304",
     "status": "completed"
    },
    "tags": []
   },
   "outputs": [
    {
     "name": "stdout",
     "output_type": "stream",
     "text": [
      "                          MNLogit Regression Results                          \n",
      "==============================================================================\n",
      "Dep. Variable:               Category   No. Observations:                   19\n",
      "Model:                        MNLogit   Df Residuals:                        7\n",
      "Method:                           MLE   Df Model:                           10\n",
      "Date:                Wed, 06 Jul 2022   Pseudo R-squ.:                   1.000\n",
      "Time:                        05:45:31   Log-Likelihood:            -6.4108e-06\n",
      "converged:                      False   LL-Null:                       -12.028\n",
      "Covariance Type:            nonrobust   LLR p-value:                  0.007454\n",
      "================================================================================\n",
      "  Category=2       coef    std err          z      P>|z|      [0.025      0.975]\n",
      "--------------------------------------------------------------------------------\n",
      "const           69.4325   2.15e+06   3.22e-05      1.000   -4.22e+06    4.22e+06\n",
      " DER            -8.2106   2.59e+05  -3.17e-05      1.000   -5.08e+05    5.08e+05\n",
      "ROA            245.2410    6.4e+07   3.83e-06      1.000   -1.26e+08    1.26e+08\n",
      "Sales Growth    -0.0020    139.351  -1.47e-05      1.000    -273.126     273.122\n",
      "ROE            -33.5219   1.17e+07  -2.86e-06      1.000    -2.3e+07     2.3e+07\n",
      "NPM             44.5452   2.65e+06   1.68e-05      1.000    -5.2e+06     5.2e+06\n",
      "--------------------------------------------------------------------------------\n",
      "  Category=3       coef    std err          z      P>|z|      [0.025      0.975]\n",
      "--------------------------------------------------------------------------------\n",
      "const           57.0936   2.37e+06   2.41e-05      1.000   -4.64e+06    4.64e+06\n",
      " DER            -9.8396   3.16e+05  -3.11e-05      1.000    -6.2e+05     6.2e+05\n",
      "ROA            156.9050   6.36e+07   2.47e-06      1.000   -1.25e+08    1.25e+08\n",
      "Sales Growth    -0.0013    147.845  -8.65e-06      1.000    -289.772     289.770\n",
      "ROE           -190.2859   1.05e+07  -1.81e-05      1.000   -2.06e+07    2.06e+07\n",
      "NPM             66.0286   1.89e+06   3.49e-05      1.000   -3.71e+06    3.71e+06\n",
      "================================================================================\n"
     ]
    }
   ],
   "source": [
    "print (mnlogit_fit.summary())"
   ]
  },
  {
   "cell_type": "code",
   "execution_count": 13,
   "id": "f914c549",
   "metadata": {
    "execution": {
     "iopub.execute_input": "2022-07-06T05:45:31.625215Z",
     "iopub.status.busy": "2022-07-06T05:45:31.624546Z",
     "iopub.status.idle": "2022-07-06T05:45:31.662229Z",
     "shell.execute_reply": "2022-07-06T05:45:31.662785Z",
     "shell.execute_reply.started": "2022-07-06T05:32:45.633416Z"
    },
    "papermill": {
     "duration": 0.065203,
     "end_time": "2022-07-06T05:45:31.662961",
     "exception": false,
     "start_time": "2022-07-06T05:45:31.597758",
     "status": "completed"
    },
    "tags": []
   },
   "outputs": [
    {
     "name": "stderr",
     "output_type": "stream",
     "text": [
      "/opt/conda/lib/python3.7/site-packages/sklearn/linear_model/_logistic.py:818: ConvergenceWarning: lbfgs failed to converge (status=1):\n",
      "STOP: TOTAL NO. of ITERATIONS REACHED LIMIT.\n",
      "\n",
      "Increase the number of iterations (max_iter) or scale the data as shown in:\n",
      "    https://scikit-learn.org/stable/modules/preprocessing.html\n",
      "Please also refer to the documentation for alternative solver options:\n",
      "    https://scikit-learn.org/stable/modules/linear_model.html#logistic-regression\n",
      "  extra_warning_msg=_LOGISTIC_SOLVER_CONVERGENCE_MSG,\n"
     ]
    },
    {
     "data": {
      "text/plain": [
       "LogisticRegression()"
      ]
     },
     "execution_count": 13,
     "metadata": {},
     "output_type": "execute_result"
    }
   ],
   "source": [
    "model = LogisticRegression(multi_class='auto')\n",
    "model.fit(x_train, y_train)"
   ]
  },
  {
   "cell_type": "code",
   "execution_count": 14,
   "id": "a574cb1a",
   "metadata": {
    "execution": {
     "iopub.execute_input": "2022-07-06T05:45:31.714917Z",
     "iopub.status.busy": "2022-07-06T05:45:31.714108Z",
     "iopub.status.idle": "2022-07-06T05:45:31.721264Z",
     "shell.execute_reply": "2022-07-06T05:45:31.721813Z",
     "shell.execute_reply.started": "2022-07-06T05:32:45.692522Z"
    },
    "papermill": {
     "duration": 0.035158,
     "end_time": "2022-07-06T05:45:31.721998",
     "exception": false,
     "start_time": "2022-07-06T05:45:31.686840",
     "status": "completed"
    },
    "tags": []
   },
   "outputs": [
    {
     "data": {
      "text/plain": [
       "array([[0.07997848, 0.85535208, 0.06466945],\n",
       "       [0.81559813, 0.01877416, 0.16562771],\n",
       "       [0.00179805, 0.98731216, 0.01088979],\n",
       "       [0.26139041, 0.34055569, 0.3980539 ],\n",
       "       [0.4052605 , 0.4924583 , 0.1022812 ]])"
      ]
     },
     "execution_count": 14,
     "metadata": {},
     "output_type": "execute_result"
    }
   ],
   "source": [
    "model.predict_proba(x_test)[0:5]"
   ]
  },
  {
   "cell_type": "code",
   "execution_count": 15,
   "id": "6b937342",
   "metadata": {
    "execution": {
     "iopub.execute_input": "2022-07-06T05:45:31.775442Z",
     "iopub.status.busy": "2022-07-06T05:45:31.774781Z",
     "iopub.status.idle": "2022-07-06T05:45:31.782402Z",
     "shell.execute_reply": "2022-07-06T05:45:31.782929Z",
     "shell.execute_reply.started": "2022-07-06T05:32:45.704511Z"
    },
    "papermill": {
     "duration": 0.036759,
     "end_time": "2022-07-06T05:45:31.783109",
     "exception": false,
     "start_time": "2022-07-06T05:45:31.746350",
     "status": "completed"
    },
    "tags": []
   },
   "outputs": [
    {
     "data": {
      "text/plain": [
       "array([2, 1, 2, 3, 2])"
      ]
     },
     "execution_count": 15,
     "metadata": {},
     "output_type": "execute_result"
    }
   ],
   "source": [
    "predictions = model.predict(x_test)\n",
    "predictions"
   ]
  },
  {
   "cell_type": "code",
   "execution_count": 16,
   "id": "c631b5e4",
   "metadata": {
    "execution": {
     "iopub.execute_input": "2022-07-06T05:45:31.841411Z",
     "iopub.status.busy": "2022-07-06T05:45:31.840284Z",
     "iopub.status.idle": "2022-07-06T05:45:31.849747Z",
     "shell.execute_reply": "2022-07-06T05:45:31.850554Z",
     "shell.execute_reply.started": "2022-07-06T05:32:45.715207Z"
    },
    "papermill": {
     "duration": 0.04121,
     "end_time": "2022-07-06T05:45:31.850778",
     "exception": false,
     "start_time": "2022-07-06T05:45:31.809568",
     "status": "completed"
    },
    "tags": []
   },
   "outputs": [
    {
     "name": "stdout",
     "output_type": "stream",
     "text": [
      "              precision    recall  f1-score   support\n",
      "\n",
      "           1       1.00      1.00      1.00         1\n",
      "           2       1.00      1.00      1.00         3\n",
      "           3       1.00      1.00      1.00         1\n",
      "\n",
      "    accuracy                           1.00         5\n",
      "   macro avg       1.00      1.00      1.00         5\n",
      "weighted avg       1.00      1.00      1.00         5\n",
      "\n"
     ]
    }
   ],
   "source": [
    "print(classification_report(y_test, predictions))"
   ]
  },
  {
   "cell_type": "code",
   "execution_count": 17,
   "id": "2198bb2c",
   "metadata": {
    "execution": {
     "iopub.execute_input": "2022-07-06T05:45:31.912519Z",
     "iopub.status.busy": "2022-07-06T05:45:31.911855Z",
     "iopub.status.idle": "2022-07-06T05:45:31.915241Z",
     "shell.execute_reply": "2022-07-06T05:45:31.915772Z",
     "shell.execute_reply.started": "2022-07-06T05:32:45.731564Z"
    },
    "papermill": {
     "duration": 0.037556,
     "end_time": "2022-07-06T05:45:31.916174",
     "exception": false,
     "start_time": "2022-07-06T05:45:31.878618",
     "status": "completed"
    },
    "tags": []
   },
   "outputs": [
    {
     "name": "stdout",
     "output_type": "stream",
     "text": [
      "1.0\n"
     ]
    }
   ],
   "source": [
    "print(accuracy_score(y_test, predictions))"
   ]
  }
 ],
 "metadata": {
  "kernelspec": {
   "display_name": "Python 3",
   "language": "python",
   "name": "python3"
  },
  "language_info": {
   "codemirror_mode": {
    "name": "ipython",
    "version": 3
   },
   "file_extension": ".py",
   "mimetype": "text/x-python",
   "name": "python",
   "nbconvert_exporter": "python",
   "pygments_lexer": "ipython3",
   "version": "3.7.12"
  },
  "papermill": {
   "default_parameters": {},
   "duration": 15.571261,
   "end_time": "2022-07-06T05:45:32.757171",
   "environment_variables": {},
   "exception": null,
   "input_path": "__notebook__.ipynb",
   "output_path": "__notebook__.ipynb",
   "parameters": {},
   "start_time": "2022-07-06T05:45:17.185910",
   "version": "2.3.3"
  }
 },
 "nbformat": 4,
 "nbformat_minor": 5
}
